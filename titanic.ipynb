{
  "nbformat": 4,
  "nbformat_minor": 0,
  "metadata": {
    "colab": {
      "name": "titanic.ipynb",
      "provenance": [],
      "collapsed_sections": [
        "pxK5d6uZZGCC",
        "o9Ojo9AAoUfn",
        "MJbfxHh3Jjzl",
        "LivMjeJnMTwu",
        "_oGPO2gIvAkk"
      ]
    },
    "kernelspec": {
      "name": "python3",
      "display_name": "Python 3"
    }
  },
  "cells": [
    {
      "cell_type": "markdown",
      "metadata": {
        "id": "JrVJ4T8YJTTA",
        "colab_type": "text"
      },
      "source": [
        "# <center>Titanic: Machine Learning from Disaster"
      ]
    },
    {
      "cell_type": "markdown",
      "metadata": {
        "id": "jfa4bKRAJwuK",
        "colab_type": "text"
      },
      "source": [
        "Competition: https://www.kaggle.com/c/titanic"
      ]
    },
    {
      "cell_type": "code",
      "metadata": {
        "id": "P7-m4OZ6CODe",
        "colab_type": "code",
        "colab": {}
      },
      "source": [
        "# data analysis and wrangling\n",
        "import pandas as pd\n",
        "import numpy as np\n",
        "import matplotlib.pyplot as plt\n",
        "\n",
        "import warnings\n",
        "\n",
        "# machine learning\n",
        "from sklearn.ensemble import RandomForestClassifier\n",
        "from sklearn.linear_model import LogisticRegression\n",
        "from sklearn.model_selection import KFold\n",
        "from sklearn.model_selection import RepeatedKFold\n",
        "from sklearn.model_selection import train_test_split\n",
        "\n",
        "%matplotlib inline"
      ],
      "execution_count": 0,
      "outputs": []
    },
    {
      "cell_type": "markdown",
      "metadata": {
        "id": "pxK5d6uZZGCC",
        "colab_type": "text"
      },
      "source": [
        "## Data exploration"
      ]
    },
    {
      "cell_type": "code",
      "metadata": {
        "id": "GFt8LSctCOgl",
        "colab_type": "code",
        "colab": {}
      },
      "source": [
        "# import datasets\n",
        "train = pd.read_csv('train.csv') # file train.csv\n",
        "test = pd.read_csv('test.csv') # file test.csv"
      ],
      "execution_count": 0,
      "outputs": []
    },
    {
      "cell_type": "code",
      "metadata": {
        "id": "j8XIphqKGx4p",
        "colab_type": "code",
        "outputId": "75bb3aa8-6b11-4bc2-9e71-329014ad4c43",
        "colab": {
          "base_uri": "https://localhost:8080/",
          "height": 0
        }
      },
      "source": [
        "train.head()"
      ],
      "execution_count": 3,
      "outputs": [
        {
          "output_type": "execute_result",
          "data": {
            "text/html": [
              "<div>\n",
              "<style scoped>\n",
              "    .dataframe tbody tr th:only-of-type {\n",
              "        vertical-align: middle;\n",
              "    }\n",
              "\n",
              "    .dataframe tbody tr th {\n",
              "        vertical-align: top;\n",
              "    }\n",
              "\n",
              "    .dataframe thead th {\n",
              "        text-align: right;\n",
              "    }\n",
              "</style>\n",
              "<table border=\"1\" class=\"dataframe\">\n",
              "  <thead>\n",
              "    <tr style=\"text-align: right;\">\n",
              "      <th></th>\n",
              "      <th>PassengerId</th>\n",
              "      <th>Survived</th>\n",
              "      <th>Pclass</th>\n",
              "      <th>Name</th>\n",
              "      <th>Sex</th>\n",
              "      <th>Age</th>\n",
              "      <th>SibSp</th>\n",
              "      <th>Parch</th>\n",
              "      <th>Ticket</th>\n",
              "      <th>Fare</th>\n",
              "      <th>Cabin</th>\n",
              "      <th>Embarked</th>\n",
              "    </tr>\n",
              "  </thead>\n",
              "  <tbody>\n",
              "    <tr>\n",
              "      <th>0</th>\n",
              "      <td>1</td>\n",
              "      <td>0</td>\n",
              "      <td>3</td>\n",
              "      <td>Braund, Mr. Owen Harris</td>\n",
              "      <td>male</td>\n",
              "      <td>22.0</td>\n",
              "      <td>1</td>\n",
              "      <td>0</td>\n",
              "      <td>A/5 21171</td>\n",
              "      <td>7.2500</td>\n",
              "      <td>NaN</td>\n",
              "      <td>S</td>\n",
              "    </tr>\n",
              "    <tr>\n",
              "      <th>1</th>\n",
              "      <td>2</td>\n",
              "      <td>1</td>\n",
              "      <td>1</td>\n",
              "      <td>Cumings, Mrs. John Bradley (Florence Briggs Th...</td>\n",
              "      <td>female</td>\n",
              "      <td>38.0</td>\n",
              "      <td>1</td>\n",
              "      <td>0</td>\n",
              "      <td>PC 17599</td>\n",
              "      <td>71.2833</td>\n",
              "      <td>C85</td>\n",
              "      <td>C</td>\n",
              "    </tr>\n",
              "    <tr>\n",
              "      <th>2</th>\n",
              "      <td>3</td>\n",
              "      <td>1</td>\n",
              "      <td>3</td>\n",
              "      <td>Heikkinen, Miss. Laina</td>\n",
              "      <td>female</td>\n",
              "      <td>26.0</td>\n",
              "      <td>0</td>\n",
              "      <td>0</td>\n",
              "      <td>STON/O2. 3101282</td>\n",
              "      <td>7.9250</td>\n",
              "      <td>NaN</td>\n",
              "      <td>S</td>\n",
              "    </tr>\n",
              "    <tr>\n",
              "      <th>3</th>\n",
              "      <td>4</td>\n",
              "      <td>1</td>\n",
              "      <td>1</td>\n",
              "      <td>Futrelle, Mrs. Jacques Heath (Lily May Peel)</td>\n",
              "      <td>female</td>\n",
              "      <td>35.0</td>\n",
              "      <td>1</td>\n",
              "      <td>0</td>\n",
              "      <td>113803</td>\n",
              "      <td>53.1000</td>\n",
              "      <td>C123</td>\n",
              "      <td>S</td>\n",
              "    </tr>\n",
              "    <tr>\n",
              "      <th>4</th>\n",
              "      <td>5</td>\n",
              "      <td>0</td>\n",
              "      <td>3</td>\n",
              "      <td>Allen, Mr. William Henry</td>\n",
              "      <td>male</td>\n",
              "      <td>35.0</td>\n",
              "      <td>0</td>\n",
              "      <td>0</td>\n",
              "      <td>373450</td>\n",
              "      <td>8.0500</td>\n",
              "      <td>NaN</td>\n",
              "      <td>S</td>\n",
              "    </tr>\n",
              "  </tbody>\n",
              "</table>\n",
              "</div>"
            ],
            "text/plain": [
              "   PassengerId  Survived  Pclass  ...     Fare Cabin  Embarked\n",
              "0            1         0       3  ...   7.2500   NaN         S\n",
              "1            2         1       1  ...  71.2833   C85         C\n",
              "2            3         1       3  ...   7.9250   NaN         S\n",
              "3            4         1       1  ...  53.1000  C123         S\n",
              "4            5         0       3  ...   8.0500   NaN         S\n",
              "\n",
              "[5 rows x 12 columns]"
            ]
          },
          "metadata": {
            "tags": []
          },
          "execution_count": 3
        }
      ]
    },
    {
      "cell_type": "code",
      "metadata": {
        "id": "7UBeoYJFnIHs",
        "colab_type": "code",
        "outputId": "2740cc15-c294-4ee8-a21c-1608e2a97e33",
        "colab": {
          "base_uri": "https://localhost:8080/",
          "height": 0
        }
      },
      "source": [
        "train.describe(include = 'all')"
      ],
      "execution_count": 4,
      "outputs": [
        {
          "output_type": "execute_result",
          "data": {
            "text/html": [
              "<div>\n",
              "<style scoped>\n",
              "    .dataframe tbody tr th:only-of-type {\n",
              "        vertical-align: middle;\n",
              "    }\n",
              "\n",
              "    .dataframe tbody tr th {\n",
              "        vertical-align: top;\n",
              "    }\n",
              "\n",
              "    .dataframe thead th {\n",
              "        text-align: right;\n",
              "    }\n",
              "</style>\n",
              "<table border=\"1\" class=\"dataframe\">\n",
              "  <thead>\n",
              "    <tr style=\"text-align: right;\">\n",
              "      <th></th>\n",
              "      <th>PassengerId</th>\n",
              "      <th>Survived</th>\n",
              "      <th>Pclass</th>\n",
              "      <th>Name</th>\n",
              "      <th>Sex</th>\n",
              "      <th>Age</th>\n",
              "      <th>SibSp</th>\n",
              "      <th>Parch</th>\n",
              "      <th>Ticket</th>\n",
              "      <th>Fare</th>\n",
              "      <th>Cabin</th>\n",
              "      <th>Embarked</th>\n",
              "    </tr>\n",
              "  </thead>\n",
              "  <tbody>\n",
              "    <tr>\n",
              "      <th>count</th>\n",
              "      <td>891.000000</td>\n",
              "      <td>891.000000</td>\n",
              "      <td>891.000000</td>\n",
              "      <td>891</td>\n",
              "      <td>891</td>\n",
              "      <td>714.000000</td>\n",
              "      <td>891.000000</td>\n",
              "      <td>891.000000</td>\n",
              "      <td>891</td>\n",
              "      <td>891.000000</td>\n",
              "      <td>204</td>\n",
              "      <td>889</td>\n",
              "    </tr>\n",
              "    <tr>\n",
              "      <th>unique</th>\n",
              "      <td>NaN</td>\n",
              "      <td>NaN</td>\n",
              "      <td>NaN</td>\n",
              "      <td>891</td>\n",
              "      <td>2</td>\n",
              "      <td>NaN</td>\n",
              "      <td>NaN</td>\n",
              "      <td>NaN</td>\n",
              "      <td>681</td>\n",
              "      <td>NaN</td>\n",
              "      <td>147</td>\n",
              "      <td>3</td>\n",
              "    </tr>\n",
              "    <tr>\n",
              "      <th>top</th>\n",
              "      <td>NaN</td>\n",
              "      <td>NaN</td>\n",
              "      <td>NaN</td>\n",
              "      <td>Adams, Mr. John</td>\n",
              "      <td>male</td>\n",
              "      <td>NaN</td>\n",
              "      <td>NaN</td>\n",
              "      <td>NaN</td>\n",
              "      <td>347082</td>\n",
              "      <td>NaN</td>\n",
              "      <td>B96 B98</td>\n",
              "      <td>S</td>\n",
              "    </tr>\n",
              "    <tr>\n",
              "      <th>freq</th>\n",
              "      <td>NaN</td>\n",
              "      <td>NaN</td>\n",
              "      <td>NaN</td>\n",
              "      <td>1</td>\n",
              "      <td>577</td>\n",
              "      <td>NaN</td>\n",
              "      <td>NaN</td>\n",
              "      <td>NaN</td>\n",
              "      <td>7</td>\n",
              "      <td>NaN</td>\n",
              "      <td>4</td>\n",
              "      <td>644</td>\n",
              "    </tr>\n",
              "    <tr>\n",
              "      <th>mean</th>\n",
              "      <td>446.000000</td>\n",
              "      <td>0.383838</td>\n",
              "      <td>2.308642</td>\n",
              "      <td>NaN</td>\n",
              "      <td>NaN</td>\n",
              "      <td>29.699118</td>\n",
              "      <td>0.523008</td>\n",
              "      <td>0.381594</td>\n",
              "      <td>NaN</td>\n",
              "      <td>32.204208</td>\n",
              "      <td>NaN</td>\n",
              "      <td>NaN</td>\n",
              "    </tr>\n",
              "    <tr>\n",
              "      <th>std</th>\n",
              "      <td>257.353842</td>\n",
              "      <td>0.486592</td>\n",
              "      <td>0.836071</td>\n",
              "      <td>NaN</td>\n",
              "      <td>NaN</td>\n",
              "      <td>14.526497</td>\n",
              "      <td>1.102743</td>\n",
              "      <td>0.806057</td>\n",
              "      <td>NaN</td>\n",
              "      <td>49.693429</td>\n",
              "      <td>NaN</td>\n",
              "      <td>NaN</td>\n",
              "    </tr>\n",
              "    <tr>\n",
              "      <th>min</th>\n",
              "      <td>1.000000</td>\n",
              "      <td>0.000000</td>\n",
              "      <td>1.000000</td>\n",
              "      <td>NaN</td>\n",
              "      <td>NaN</td>\n",
              "      <td>0.420000</td>\n",
              "      <td>0.000000</td>\n",
              "      <td>0.000000</td>\n",
              "      <td>NaN</td>\n",
              "      <td>0.000000</td>\n",
              "      <td>NaN</td>\n",
              "      <td>NaN</td>\n",
              "    </tr>\n",
              "    <tr>\n",
              "      <th>25%</th>\n",
              "      <td>223.500000</td>\n",
              "      <td>0.000000</td>\n",
              "      <td>2.000000</td>\n",
              "      <td>NaN</td>\n",
              "      <td>NaN</td>\n",
              "      <td>20.125000</td>\n",
              "      <td>0.000000</td>\n",
              "      <td>0.000000</td>\n",
              "      <td>NaN</td>\n",
              "      <td>7.910400</td>\n",
              "      <td>NaN</td>\n",
              "      <td>NaN</td>\n",
              "    </tr>\n",
              "    <tr>\n",
              "      <th>50%</th>\n",
              "      <td>446.000000</td>\n",
              "      <td>0.000000</td>\n",
              "      <td>3.000000</td>\n",
              "      <td>NaN</td>\n",
              "      <td>NaN</td>\n",
              "      <td>28.000000</td>\n",
              "      <td>0.000000</td>\n",
              "      <td>0.000000</td>\n",
              "      <td>NaN</td>\n",
              "      <td>14.454200</td>\n",
              "      <td>NaN</td>\n",
              "      <td>NaN</td>\n",
              "    </tr>\n",
              "    <tr>\n",
              "      <th>75%</th>\n",
              "      <td>668.500000</td>\n",
              "      <td>1.000000</td>\n",
              "      <td>3.000000</td>\n",
              "      <td>NaN</td>\n",
              "      <td>NaN</td>\n",
              "      <td>38.000000</td>\n",
              "      <td>1.000000</td>\n",
              "      <td>0.000000</td>\n",
              "      <td>NaN</td>\n",
              "      <td>31.000000</td>\n",
              "      <td>NaN</td>\n",
              "      <td>NaN</td>\n",
              "    </tr>\n",
              "    <tr>\n",
              "      <th>max</th>\n",
              "      <td>891.000000</td>\n",
              "      <td>1.000000</td>\n",
              "      <td>3.000000</td>\n",
              "      <td>NaN</td>\n",
              "      <td>NaN</td>\n",
              "      <td>80.000000</td>\n",
              "      <td>8.000000</td>\n",
              "      <td>6.000000</td>\n",
              "      <td>NaN</td>\n",
              "      <td>512.329200</td>\n",
              "      <td>NaN</td>\n",
              "      <td>NaN</td>\n",
              "    </tr>\n",
              "  </tbody>\n",
              "</table>\n",
              "</div>"
            ],
            "text/plain": [
              "        PassengerId    Survived      Pclass  ...        Fare    Cabin  Embarked\n",
              "count    891.000000  891.000000  891.000000  ...  891.000000      204       889\n",
              "unique          NaN         NaN         NaN  ...         NaN      147         3\n",
              "top             NaN         NaN         NaN  ...         NaN  B96 B98         S\n",
              "freq            NaN         NaN         NaN  ...         NaN        4       644\n",
              "mean     446.000000    0.383838    2.308642  ...   32.204208      NaN       NaN\n",
              "std      257.353842    0.486592    0.836071  ...   49.693429      NaN       NaN\n",
              "min        1.000000    0.000000    1.000000  ...    0.000000      NaN       NaN\n",
              "25%      223.500000    0.000000    2.000000  ...    7.910400      NaN       NaN\n",
              "50%      446.000000    0.000000    3.000000  ...   14.454200      NaN       NaN\n",
              "75%      668.500000    1.000000    3.000000  ...   31.000000      NaN       NaN\n",
              "max      891.000000    1.000000    3.000000  ...  512.329200      NaN       NaN\n",
              "\n",
              "[11 rows x 12 columns]"
            ]
          },
          "metadata": {
            "tags": []
          },
          "execution_count": 4
        }
      ]
    },
    {
      "cell_type": "code",
      "metadata": {
        "id": "fsoEQdEZnYOP",
        "colab_type": "code",
        "outputId": "ad49ad03-0094-4a67-fc96-c09c5fee4085",
        "colab": {
          "base_uri": "https://localhost:8080/",
          "height": 0
        }
      },
      "source": [
        "test.describe(include = 'all')"
      ],
      "execution_count": 5,
      "outputs": [
        {
          "output_type": "execute_result",
          "data": {
            "text/html": [
              "<div>\n",
              "<style scoped>\n",
              "    .dataframe tbody tr th:only-of-type {\n",
              "        vertical-align: middle;\n",
              "    }\n",
              "\n",
              "    .dataframe tbody tr th {\n",
              "        vertical-align: top;\n",
              "    }\n",
              "\n",
              "    .dataframe thead th {\n",
              "        text-align: right;\n",
              "    }\n",
              "</style>\n",
              "<table border=\"1\" class=\"dataframe\">\n",
              "  <thead>\n",
              "    <tr style=\"text-align: right;\">\n",
              "      <th></th>\n",
              "      <th>PassengerId</th>\n",
              "      <th>Pclass</th>\n",
              "      <th>Name</th>\n",
              "      <th>Sex</th>\n",
              "      <th>Age</th>\n",
              "      <th>SibSp</th>\n",
              "      <th>Parch</th>\n",
              "      <th>Ticket</th>\n",
              "      <th>Fare</th>\n",
              "      <th>Cabin</th>\n",
              "      <th>Embarked</th>\n",
              "    </tr>\n",
              "  </thead>\n",
              "  <tbody>\n",
              "    <tr>\n",
              "      <th>count</th>\n",
              "      <td>418.000000</td>\n",
              "      <td>418.000000</td>\n",
              "      <td>418</td>\n",
              "      <td>418</td>\n",
              "      <td>332.000000</td>\n",
              "      <td>418.000000</td>\n",
              "      <td>418.000000</td>\n",
              "      <td>418</td>\n",
              "      <td>417.000000</td>\n",
              "      <td>91</td>\n",
              "      <td>418</td>\n",
              "    </tr>\n",
              "    <tr>\n",
              "      <th>unique</th>\n",
              "      <td>NaN</td>\n",
              "      <td>NaN</td>\n",
              "      <td>418</td>\n",
              "      <td>2</td>\n",
              "      <td>NaN</td>\n",
              "      <td>NaN</td>\n",
              "      <td>NaN</td>\n",
              "      <td>363</td>\n",
              "      <td>NaN</td>\n",
              "      <td>76</td>\n",
              "      <td>3</td>\n",
              "    </tr>\n",
              "    <tr>\n",
              "      <th>top</th>\n",
              "      <td>NaN</td>\n",
              "      <td>NaN</td>\n",
              "      <td>Shine, Miss. Ellen Natalia</td>\n",
              "      <td>male</td>\n",
              "      <td>NaN</td>\n",
              "      <td>NaN</td>\n",
              "      <td>NaN</td>\n",
              "      <td>PC 17608</td>\n",
              "      <td>NaN</td>\n",
              "      <td>B57 B59 B63 B66</td>\n",
              "      <td>S</td>\n",
              "    </tr>\n",
              "    <tr>\n",
              "      <th>freq</th>\n",
              "      <td>NaN</td>\n",
              "      <td>NaN</td>\n",
              "      <td>1</td>\n",
              "      <td>266</td>\n",
              "      <td>NaN</td>\n",
              "      <td>NaN</td>\n",
              "      <td>NaN</td>\n",
              "      <td>5</td>\n",
              "      <td>NaN</td>\n",
              "      <td>3</td>\n",
              "      <td>270</td>\n",
              "    </tr>\n",
              "    <tr>\n",
              "      <th>mean</th>\n",
              "      <td>1100.500000</td>\n",
              "      <td>2.265550</td>\n",
              "      <td>NaN</td>\n",
              "      <td>NaN</td>\n",
              "      <td>30.272590</td>\n",
              "      <td>0.447368</td>\n",
              "      <td>0.392344</td>\n",
              "      <td>NaN</td>\n",
              "      <td>35.627188</td>\n",
              "      <td>NaN</td>\n",
              "      <td>NaN</td>\n",
              "    </tr>\n",
              "    <tr>\n",
              "      <th>std</th>\n",
              "      <td>120.810458</td>\n",
              "      <td>0.841838</td>\n",
              "      <td>NaN</td>\n",
              "      <td>NaN</td>\n",
              "      <td>14.181209</td>\n",
              "      <td>0.896760</td>\n",
              "      <td>0.981429</td>\n",
              "      <td>NaN</td>\n",
              "      <td>55.907576</td>\n",
              "      <td>NaN</td>\n",
              "      <td>NaN</td>\n",
              "    </tr>\n",
              "    <tr>\n",
              "      <th>min</th>\n",
              "      <td>892.000000</td>\n",
              "      <td>1.000000</td>\n",
              "      <td>NaN</td>\n",
              "      <td>NaN</td>\n",
              "      <td>0.170000</td>\n",
              "      <td>0.000000</td>\n",
              "      <td>0.000000</td>\n",
              "      <td>NaN</td>\n",
              "      <td>0.000000</td>\n",
              "      <td>NaN</td>\n",
              "      <td>NaN</td>\n",
              "    </tr>\n",
              "    <tr>\n",
              "      <th>25%</th>\n",
              "      <td>996.250000</td>\n",
              "      <td>1.000000</td>\n",
              "      <td>NaN</td>\n",
              "      <td>NaN</td>\n",
              "      <td>21.000000</td>\n",
              "      <td>0.000000</td>\n",
              "      <td>0.000000</td>\n",
              "      <td>NaN</td>\n",
              "      <td>7.895800</td>\n",
              "      <td>NaN</td>\n",
              "      <td>NaN</td>\n",
              "    </tr>\n",
              "    <tr>\n",
              "      <th>50%</th>\n",
              "      <td>1100.500000</td>\n",
              "      <td>3.000000</td>\n",
              "      <td>NaN</td>\n",
              "      <td>NaN</td>\n",
              "      <td>27.000000</td>\n",
              "      <td>0.000000</td>\n",
              "      <td>0.000000</td>\n",
              "      <td>NaN</td>\n",
              "      <td>14.454200</td>\n",
              "      <td>NaN</td>\n",
              "      <td>NaN</td>\n",
              "    </tr>\n",
              "    <tr>\n",
              "      <th>75%</th>\n",
              "      <td>1204.750000</td>\n",
              "      <td>3.000000</td>\n",
              "      <td>NaN</td>\n",
              "      <td>NaN</td>\n",
              "      <td>39.000000</td>\n",
              "      <td>1.000000</td>\n",
              "      <td>0.000000</td>\n",
              "      <td>NaN</td>\n",
              "      <td>31.500000</td>\n",
              "      <td>NaN</td>\n",
              "      <td>NaN</td>\n",
              "    </tr>\n",
              "    <tr>\n",
              "      <th>max</th>\n",
              "      <td>1309.000000</td>\n",
              "      <td>3.000000</td>\n",
              "      <td>NaN</td>\n",
              "      <td>NaN</td>\n",
              "      <td>76.000000</td>\n",
              "      <td>8.000000</td>\n",
              "      <td>9.000000</td>\n",
              "      <td>NaN</td>\n",
              "      <td>512.329200</td>\n",
              "      <td>NaN</td>\n",
              "      <td>NaN</td>\n",
              "    </tr>\n",
              "  </tbody>\n",
              "</table>\n",
              "</div>"
            ],
            "text/plain": [
              "        PassengerId      Pclass  ...            Cabin Embarked\n",
              "count    418.000000  418.000000  ...               91      418\n",
              "unique          NaN         NaN  ...               76        3\n",
              "top             NaN         NaN  ...  B57 B59 B63 B66        S\n",
              "freq            NaN         NaN  ...                3      270\n",
              "mean    1100.500000    2.265550  ...              NaN      NaN\n",
              "std      120.810458    0.841838  ...              NaN      NaN\n",
              "min      892.000000    1.000000  ...              NaN      NaN\n",
              "25%      996.250000    1.000000  ...              NaN      NaN\n",
              "50%     1100.500000    3.000000  ...              NaN      NaN\n",
              "75%     1204.750000    3.000000  ...              NaN      NaN\n",
              "max     1309.000000    3.000000  ...              NaN      NaN\n",
              "\n",
              "[11 rows x 11 columns]"
            ]
          },
          "metadata": {
            "tags": []
          },
          "execution_count": 5
        }
      ]
    },
    {
      "cell_type": "code",
      "metadata": {
        "id": "tVgO7Gswnhia",
        "colab_type": "code",
        "outputId": "2f1bc12d-e675-433a-f2e4-d952916b2ced",
        "colab": {
          "base_uri": "https://localhost:8080/",
          "height": 0
        }
      },
      "source": [
        "train.info()"
      ],
      "execution_count": 6,
      "outputs": [
        {
          "output_type": "stream",
          "text": [
            "<class 'pandas.core.frame.DataFrame'>\n",
            "RangeIndex: 891 entries, 0 to 890\n",
            "Data columns (total 12 columns):\n",
            " #   Column       Non-Null Count  Dtype  \n",
            "---  ------       --------------  -----  \n",
            " 0   PassengerId  891 non-null    int64  \n",
            " 1   Survived     891 non-null    int64  \n",
            " 2   Pclass       891 non-null    int64  \n",
            " 3   Name         891 non-null    object \n",
            " 4   Sex          891 non-null    object \n",
            " 5   Age          714 non-null    float64\n",
            " 6   SibSp        891 non-null    int64  \n",
            " 7   Parch        891 non-null    int64  \n",
            " 8   Ticket       891 non-null    object \n",
            " 9   Fare         891 non-null    float64\n",
            " 10  Cabin        204 non-null    object \n",
            " 11  Embarked     889 non-null    object \n",
            "dtypes: float64(2), int64(5), object(5)\n",
            "memory usage: 83.7+ KB\n"
          ],
          "name": "stdout"
        }
      ]
    },
    {
      "cell_type": "code",
      "metadata": {
        "id": "4cPZvoZonymB",
        "colab_type": "code",
        "outputId": "3369ca89-6d82-4764-9d15-f40cb964760d",
        "colab": {
          "base_uri": "https://localhost:8080/",
          "height": 0
        }
      },
      "source": [
        "train.shape, test.shape"
      ],
      "execution_count": 7,
      "outputs": [
        {
          "output_type": "execute_result",
          "data": {
            "text/plain": [
              "((891, 12), (418, 11))"
            ]
          },
          "metadata": {
            "tags": []
          },
          "execution_count": 7
        }
      ]
    },
    {
      "cell_type": "markdown",
      "metadata": {
        "id": "o9Ojo9AAoUfn",
        "colab_type": "text"
      },
      "source": [
        "## Model  - First model"
      ]
    },
    {
      "cell_type": "markdown",
      "metadata": {
        "id": "c3_thc5SuLYP",
        "colab_type": "text"
      },
      "source": [
        "### Transorming the value of variable Sex to 0 or 1"
      ]
    },
    {
      "cell_type": "code",
      "metadata": {
        "id": "9SdkVR42t1Oy",
        "colab_type": "code",
        "outputId": "65827d3b-f302-4f07-9f3c-e9d72a98386c",
        "colab": {
          "base_uri": "https://localhost:8080/",
          "height": 0
        }
      },
      "source": [
        "train['Sex'].value_counts()"
      ],
      "execution_count": 8,
      "outputs": [
        {
          "output_type": "execute_result",
          "data": {
            "text/plain": [
              "male      577\n",
              "female    314\n",
              "Name: Sex, dtype: int64"
            ]
          },
          "metadata": {
            "tags": []
          },
          "execution_count": 8
        }
      ]
    },
    {
      "cell_type": "code",
      "metadata": {
        "id": "ZNVzIDActVZM",
        "colab_type": "code",
        "colab": {}
      },
      "source": [
        "def transform_sex(n):\n",
        "  if n == 'female':\n",
        "    return 1\n",
        "  else:\n",
        "    return 0"
      ],
      "execution_count": 0,
      "outputs": []
    },
    {
      "cell_type": "code",
      "metadata": {
        "id": "34IcIsM7ug8n",
        "colab_type": "code",
        "colab": {}
      },
      "source": [
        "# create a new colunm Sex_bin\n",
        "train['Sex_bin'] = train['Sex'].map(transform_sex)\n",
        "test['Sex_bin'] = test['Sex'].map(transform_sex)"
      ],
      "execution_count": 0,
      "outputs": []
    },
    {
      "cell_type": "code",
      "metadata": {
        "id": "cM4bi3SVvP4_",
        "colab_type": "code",
        "outputId": "3e027fe5-3fbc-45fc-ad5f-cc6f814272c8",
        "colab": {
          "base_uri": "https://localhost:8080/",
          "height": 0
        }
      },
      "source": [
        "train.head()"
      ],
      "execution_count": 11,
      "outputs": [
        {
          "output_type": "execute_result",
          "data": {
            "text/html": [
              "<div>\n",
              "<style scoped>\n",
              "    .dataframe tbody tr th:only-of-type {\n",
              "        vertical-align: middle;\n",
              "    }\n",
              "\n",
              "    .dataframe tbody tr th {\n",
              "        vertical-align: top;\n",
              "    }\n",
              "\n",
              "    .dataframe thead th {\n",
              "        text-align: right;\n",
              "    }\n",
              "</style>\n",
              "<table border=\"1\" class=\"dataframe\">\n",
              "  <thead>\n",
              "    <tr style=\"text-align: right;\">\n",
              "      <th></th>\n",
              "      <th>PassengerId</th>\n",
              "      <th>Survived</th>\n",
              "      <th>Pclass</th>\n",
              "      <th>Name</th>\n",
              "      <th>Sex</th>\n",
              "      <th>Age</th>\n",
              "      <th>SibSp</th>\n",
              "      <th>Parch</th>\n",
              "      <th>Ticket</th>\n",
              "      <th>Fare</th>\n",
              "      <th>Cabin</th>\n",
              "      <th>Embarked</th>\n",
              "      <th>Sex_bin</th>\n",
              "    </tr>\n",
              "  </thead>\n",
              "  <tbody>\n",
              "    <tr>\n",
              "      <th>0</th>\n",
              "      <td>1</td>\n",
              "      <td>0</td>\n",
              "      <td>3</td>\n",
              "      <td>Braund, Mr. Owen Harris</td>\n",
              "      <td>male</td>\n",
              "      <td>22.0</td>\n",
              "      <td>1</td>\n",
              "      <td>0</td>\n",
              "      <td>A/5 21171</td>\n",
              "      <td>7.2500</td>\n",
              "      <td>NaN</td>\n",
              "      <td>S</td>\n",
              "      <td>0</td>\n",
              "    </tr>\n",
              "    <tr>\n",
              "      <th>1</th>\n",
              "      <td>2</td>\n",
              "      <td>1</td>\n",
              "      <td>1</td>\n",
              "      <td>Cumings, Mrs. John Bradley (Florence Briggs Th...</td>\n",
              "      <td>female</td>\n",
              "      <td>38.0</td>\n",
              "      <td>1</td>\n",
              "      <td>0</td>\n",
              "      <td>PC 17599</td>\n",
              "      <td>71.2833</td>\n",
              "      <td>C85</td>\n",
              "      <td>C</td>\n",
              "      <td>1</td>\n",
              "    </tr>\n",
              "    <tr>\n",
              "      <th>2</th>\n",
              "      <td>3</td>\n",
              "      <td>1</td>\n",
              "      <td>3</td>\n",
              "      <td>Heikkinen, Miss. Laina</td>\n",
              "      <td>female</td>\n",
              "      <td>26.0</td>\n",
              "      <td>0</td>\n",
              "      <td>0</td>\n",
              "      <td>STON/O2. 3101282</td>\n",
              "      <td>7.9250</td>\n",
              "      <td>NaN</td>\n",
              "      <td>S</td>\n",
              "      <td>1</td>\n",
              "    </tr>\n",
              "    <tr>\n",
              "      <th>3</th>\n",
              "      <td>4</td>\n",
              "      <td>1</td>\n",
              "      <td>1</td>\n",
              "      <td>Futrelle, Mrs. Jacques Heath (Lily May Peel)</td>\n",
              "      <td>female</td>\n",
              "      <td>35.0</td>\n",
              "      <td>1</td>\n",
              "      <td>0</td>\n",
              "      <td>113803</td>\n",
              "      <td>53.1000</td>\n",
              "      <td>C123</td>\n",
              "      <td>S</td>\n",
              "      <td>1</td>\n",
              "    </tr>\n",
              "    <tr>\n",
              "      <th>4</th>\n",
              "      <td>5</td>\n",
              "      <td>0</td>\n",
              "      <td>3</td>\n",
              "      <td>Allen, Mr. William Henry</td>\n",
              "      <td>male</td>\n",
              "      <td>35.0</td>\n",
              "      <td>0</td>\n",
              "      <td>0</td>\n",
              "      <td>373450</td>\n",
              "      <td>8.0500</td>\n",
              "      <td>NaN</td>\n",
              "      <td>S</td>\n",
              "      <td>0</td>\n",
              "    </tr>\n",
              "  </tbody>\n",
              "</table>\n",
              "</div>"
            ],
            "text/plain": [
              "   PassengerId  Survived  Pclass  ... Cabin Embarked  Sex_bin\n",
              "0            1         0       3  ...   NaN        S        0\n",
              "1            2         1       1  ...   C85        C        1\n",
              "2            3         1       3  ...   NaN        S        1\n",
              "3            4         1       1  ...  C123        S        1\n",
              "4            5         0       3  ...   NaN        S        0\n",
              "\n",
              "[5 rows x 13 columns]"
            ]
          },
          "metadata": {
            "tags": []
          },
          "execution_count": 11
        }
      ]
    },
    {
      "cell_type": "code",
      "metadata": {
        "id": "ZimPLFll_pE2",
        "colab_type": "code",
        "outputId": "ae843c64-2945-4880-8ef2-02e289ee4c4a",
        "colab": {
          "base_uri": "https://localhost:8080/",
          "height": 0
        }
      },
      "source": [
        "test.head()"
      ],
      "execution_count": 12,
      "outputs": [
        {
          "output_type": "execute_result",
          "data": {
            "text/html": [
              "<div>\n",
              "<style scoped>\n",
              "    .dataframe tbody tr th:only-of-type {\n",
              "        vertical-align: middle;\n",
              "    }\n",
              "\n",
              "    .dataframe tbody tr th {\n",
              "        vertical-align: top;\n",
              "    }\n",
              "\n",
              "    .dataframe thead th {\n",
              "        text-align: right;\n",
              "    }\n",
              "</style>\n",
              "<table border=\"1\" class=\"dataframe\">\n",
              "  <thead>\n",
              "    <tr style=\"text-align: right;\">\n",
              "      <th></th>\n",
              "      <th>PassengerId</th>\n",
              "      <th>Pclass</th>\n",
              "      <th>Name</th>\n",
              "      <th>Sex</th>\n",
              "      <th>Age</th>\n",
              "      <th>SibSp</th>\n",
              "      <th>Parch</th>\n",
              "      <th>Ticket</th>\n",
              "      <th>Fare</th>\n",
              "      <th>Cabin</th>\n",
              "      <th>Embarked</th>\n",
              "      <th>Sex_bin</th>\n",
              "    </tr>\n",
              "  </thead>\n",
              "  <tbody>\n",
              "    <tr>\n",
              "      <th>0</th>\n",
              "      <td>892</td>\n",
              "      <td>3</td>\n",
              "      <td>Kelly, Mr. James</td>\n",
              "      <td>male</td>\n",
              "      <td>34.5</td>\n",
              "      <td>0</td>\n",
              "      <td>0</td>\n",
              "      <td>330911</td>\n",
              "      <td>7.8292</td>\n",
              "      <td>NaN</td>\n",
              "      <td>Q</td>\n",
              "      <td>0</td>\n",
              "    </tr>\n",
              "    <tr>\n",
              "      <th>1</th>\n",
              "      <td>893</td>\n",
              "      <td>3</td>\n",
              "      <td>Wilkes, Mrs. James (Ellen Needs)</td>\n",
              "      <td>female</td>\n",
              "      <td>47.0</td>\n",
              "      <td>1</td>\n",
              "      <td>0</td>\n",
              "      <td>363272</td>\n",
              "      <td>7.0000</td>\n",
              "      <td>NaN</td>\n",
              "      <td>S</td>\n",
              "      <td>1</td>\n",
              "    </tr>\n",
              "    <tr>\n",
              "      <th>2</th>\n",
              "      <td>894</td>\n",
              "      <td>2</td>\n",
              "      <td>Myles, Mr. Thomas Francis</td>\n",
              "      <td>male</td>\n",
              "      <td>62.0</td>\n",
              "      <td>0</td>\n",
              "      <td>0</td>\n",
              "      <td>240276</td>\n",
              "      <td>9.6875</td>\n",
              "      <td>NaN</td>\n",
              "      <td>Q</td>\n",
              "      <td>0</td>\n",
              "    </tr>\n",
              "    <tr>\n",
              "      <th>3</th>\n",
              "      <td>895</td>\n",
              "      <td>3</td>\n",
              "      <td>Wirz, Mr. Albert</td>\n",
              "      <td>male</td>\n",
              "      <td>27.0</td>\n",
              "      <td>0</td>\n",
              "      <td>0</td>\n",
              "      <td>315154</td>\n",
              "      <td>8.6625</td>\n",
              "      <td>NaN</td>\n",
              "      <td>S</td>\n",
              "      <td>0</td>\n",
              "    </tr>\n",
              "    <tr>\n",
              "      <th>4</th>\n",
              "      <td>896</td>\n",
              "      <td>3</td>\n",
              "      <td>Hirvonen, Mrs. Alexander (Helga E Lindqvist)</td>\n",
              "      <td>female</td>\n",
              "      <td>22.0</td>\n",
              "      <td>1</td>\n",
              "      <td>1</td>\n",
              "      <td>3101298</td>\n",
              "      <td>12.2875</td>\n",
              "      <td>NaN</td>\n",
              "      <td>S</td>\n",
              "      <td>1</td>\n",
              "    </tr>\n",
              "  </tbody>\n",
              "</table>\n",
              "</div>"
            ],
            "text/plain": [
              "   PassengerId  Pclass  ... Embarked Sex_bin\n",
              "0          892       3  ...        Q       0\n",
              "1          893       3  ...        S       1\n",
              "2          894       2  ...        Q       0\n",
              "3          895       3  ...        S       0\n",
              "4          896       3  ...        S       1\n",
              "\n",
              "[5 rows x 12 columns]"
            ]
          },
          "metadata": {
            "tags": []
          },
          "execution_count": 12
        }
      ]
    },
    {
      "cell_type": "code",
      "metadata": {
        "id": "af-qjcrotEsH",
        "colab_type": "code",
        "colab": {}
      },
      "source": [
        "# colunm to train\n",
        "variables = ['Sex_bin', 'Age']"
      ],
      "execution_count": 0,
      "outputs": []
    },
    {
      "cell_type": "code",
      "metadata": {
        "id": "fD5F2VpYvpZa",
        "colab_type": "code",
        "colab": {}
      },
      "source": [
        "X = train[variables]\n",
        "y = train['Survived'] # Variable Survived to predict"
      ],
      "execution_count": 0,
      "outputs": []
    },
    {
      "cell_type": "code",
      "metadata": {
        "id": "xNw9tjoMwA-r",
        "colab_type": "code",
        "outputId": "b5017c39-3831-424c-838a-3367c89c1e4e",
        "colab": {
          "base_uri": "https://localhost:8080/",
          "height": 0
        }
      },
      "source": [
        "X.head()"
      ],
      "execution_count": 15,
      "outputs": [
        {
          "output_type": "execute_result",
          "data": {
            "text/html": [
              "<div>\n",
              "<style scoped>\n",
              "    .dataframe tbody tr th:only-of-type {\n",
              "        vertical-align: middle;\n",
              "    }\n",
              "\n",
              "    .dataframe tbody tr th {\n",
              "        vertical-align: top;\n",
              "    }\n",
              "\n",
              "    .dataframe thead th {\n",
              "        text-align: right;\n",
              "    }\n",
              "</style>\n",
              "<table border=\"1\" class=\"dataframe\">\n",
              "  <thead>\n",
              "    <tr style=\"text-align: right;\">\n",
              "      <th></th>\n",
              "      <th>Sex_bin</th>\n",
              "      <th>Age</th>\n",
              "    </tr>\n",
              "  </thead>\n",
              "  <tbody>\n",
              "    <tr>\n",
              "      <th>0</th>\n",
              "      <td>0</td>\n",
              "      <td>22.0</td>\n",
              "    </tr>\n",
              "    <tr>\n",
              "      <th>1</th>\n",
              "      <td>1</td>\n",
              "      <td>38.0</td>\n",
              "    </tr>\n",
              "    <tr>\n",
              "      <th>2</th>\n",
              "      <td>1</td>\n",
              "      <td>26.0</td>\n",
              "    </tr>\n",
              "    <tr>\n",
              "      <th>3</th>\n",
              "      <td>1</td>\n",
              "      <td>35.0</td>\n",
              "    </tr>\n",
              "    <tr>\n",
              "      <th>4</th>\n",
              "      <td>0</td>\n",
              "      <td>35.0</td>\n",
              "    </tr>\n",
              "  </tbody>\n",
              "</table>\n",
              "</div>"
            ],
            "text/plain": [
              "   Sex_bin   Age\n",
              "0        0  22.0\n",
              "1        1  38.0\n",
              "2        1  26.0\n",
              "3        1  35.0\n",
              "4        0  35.0"
            ]
          },
          "metadata": {
            "tags": []
          },
          "execution_count": 15
        }
      ]
    },
    {
      "cell_type": "code",
      "metadata": {
        "id": "hJ7xBl8awNVq",
        "colab_type": "code",
        "outputId": "6abae1ce-54f8-4ddb-90ea-783caa256874",
        "colab": {
          "base_uri": "https://localhost:8080/",
          "height": 0
        }
      },
      "source": [
        "y.head()"
      ],
      "execution_count": 16,
      "outputs": [
        {
          "output_type": "execute_result",
          "data": {
            "text/plain": [
              "0    0\n",
              "1    1\n",
              "2    1\n",
              "3    1\n",
              "4    0\n",
              "Name: Survived, dtype: int64"
            ]
          },
          "metadata": {
            "tags": []
          },
          "execution_count": 16
        }
      ]
    },
    {
      "cell_type": "code",
      "metadata": {
        "id": "m1T_5hvl2As4",
        "colab_type": "code",
        "colab": {}
      },
      "source": [
        "X = X.fillna(-1)"
      ],
      "execution_count": 0,
      "outputs": []
    },
    {
      "cell_type": "code",
      "metadata": {
        "id": "o8aiz2AwGyP5",
        "colab_type": "code",
        "outputId": "9d691b8e-47d8-4dfb-8b9a-eb6e5ce2cb99",
        "colab": {
          "base_uri": "https://localhost:8080/",
          "height": 0
        }
      },
      "source": [
        "model = RandomForestClassifier(n_estimators=100, n_jobs=-1, random_state=0)\n",
        "model.fit(X, y)"
      ],
      "execution_count": 18,
      "outputs": [
        {
          "output_type": "execute_result",
          "data": {
            "text/plain": [
              "RandomForestClassifier(bootstrap=True, ccp_alpha=0.0, class_weight=None,\n",
              "                       criterion='gini', max_depth=None, max_features='auto',\n",
              "                       max_leaf_nodes=None, max_samples=None,\n",
              "                       min_impurity_decrease=0.0, min_impurity_split=None,\n",
              "                       min_samples_leaf=1, min_samples_split=2,\n",
              "                       min_weight_fraction_leaf=0.0, n_estimators=100,\n",
              "                       n_jobs=-1, oob_score=False, random_state=0, verbose=0,\n",
              "                       warm_start=False)"
            ]
          },
          "metadata": {
            "tags": []
          },
          "execution_count": 18
        }
      ]
    },
    {
      "cell_type": "code",
      "metadata": {
        "id": "D06uNx1IGyqn",
        "colab_type": "code",
        "outputId": "a964b8fb-d7e2-4cba-e667-73f0dc93c5fe",
        "colab": {
          "base_uri": "https://localhost:8080/",
          "height": 0
        }
      },
      "source": [
        "X_predict = test[variables]\n",
        "X_predict = X_predict.fillna(-1)\n",
        "X_predict.head()"
      ],
      "execution_count": 19,
      "outputs": [
        {
          "output_type": "execute_result",
          "data": {
            "text/html": [
              "<div>\n",
              "<style scoped>\n",
              "    .dataframe tbody tr th:only-of-type {\n",
              "        vertical-align: middle;\n",
              "    }\n",
              "\n",
              "    .dataframe tbody tr th {\n",
              "        vertical-align: top;\n",
              "    }\n",
              "\n",
              "    .dataframe thead th {\n",
              "        text-align: right;\n",
              "    }\n",
              "</style>\n",
              "<table border=\"1\" class=\"dataframe\">\n",
              "  <thead>\n",
              "    <tr style=\"text-align: right;\">\n",
              "      <th></th>\n",
              "      <th>Sex_bin</th>\n",
              "      <th>Age</th>\n",
              "    </tr>\n",
              "  </thead>\n",
              "  <tbody>\n",
              "    <tr>\n",
              "      <th>0</th>\n",
              "      <td>0</td>\n",
              "      <td>34.5</td>\n",
              "    </tr>\n",
              "    <tr>\n",
              "      <th>1</th>\n",
              "      <td>1</td>\n",
              "      <td>47.0</td>\n",
              "    </tr>\n",
              "    <tr>\n",
              "      <th>2</th>\n",
              "      <td>0</td>\n",
              "      <td>62.0</td>\n",
              "    </tr>\n",
              "    <tr>\n",
              "      <th>3</th>\n",
              "      <td>0</td>\n",
              "      <td>27.0</td>\n",
              "    </tr>\n",
              "    <tr>\n",
              "      <th>4</th>\n",
              "      <td>1</td>\n",
              "      <td>22.0</td>\n",
              "    </tr>\n",
              "  </tbody>\n",
              "</table>\n",
              "</div>"
            ],
            "text/plain": [
              "   Sex_bin   Age\n",
              "0        0  34.5\n",
              "1        1  47.0\n",
              "2        0  62.0\n",
              "3        0  27.0\n",
              "4        1  22.0"
            ]
          },
          "metadata": {
            "tags": []
          },
          "execution_count": 19
        }
      ]
    },
    {
      "cell_type": "code",
      "metadata": {
        "id": "88qNVAgIAX9O",
        "colab_type": "code",
        "outputId": "0c725834-624d-4977-d649-f21080646e86",
        "colab": {
          "base_uri": "https://localhost:8080/",
          "height": 0
        }
      },
      "source": [
        "p = model.predict(X_predict)\n",
        "p"
      ],
      "execution_count": 20,
      "outputs": [
        {
          "output_type": "execute_result",
          "data": {
            "text/plain": [
              "array([0, 1, 0, 1, 1, 0, 1, 0, 1, 0, 0, 0, 1, 0, 1, 1, 0, 0, 1, 0, 0, 1,\n",
              "       1, 0, 1, 0, 1, 0, 0, 0, 0, 0, 1, 1, 0, 0, 1, 1, 0, 0, 0, 0, 0, 1,\n",
              "       0, 0, 0, 0, 1, 1, 0, 1, 0, 1, 0, 0, 0, 0, 0, 1, 0, 0, 0, 1, 1, 1,\n",
              "       1, 0, 0, 1, 1, 0, 1, 0, 1, 0, 0, 1, 0, 1, 1, 0, 1, 0, 0, 0, 1, 1,\n",
              "       1, 0, 1, 0, 1, 0, 0, 0, 1, 0, 0, 0, 1, 1, 0, 0, 1, 0, 0, 0, 0, 0,\n",
              "       0, 1, 1, 1, 1, 0, 0, 1, 0, 1, 0, 0, 1, 0, 0, 1, 0, 1, 0, 0, 0, 0,\n",
              "       1, 0, 0, 0, 0, 0, 1, 0, 0, 1, 0, 0, 0, 0, 0, 0, 0, 0, 1, 0, 0, 1,\n",
              "       1, 0, 1, 1, 0, 1, 1, 0, 1, 0, 0, 1, 1, 0, 1, 1, 0, 1, 0, 0, 0, 1,\n",
              "       0, 0, 1, 1, 0, 0, 1, 0, 1, 0, 1, 0, 1, 0, 0, 0, 0, 0, 0, 0, 1, 1,\n",
              "       0, 1, 1, 1, 0, 1, 0, 0, 1, 0, 1, 0, 0, 0, 0, 1, 1, 0, 1, 0, 1, 0,\n",
              "       1, 0, 1, 0, 1, 1, 0, 1, 0, 0, 0, 1, 0, 0, 0, 0, 0, 0, 1, 1, 1, 0,\n",
              "       0, 0, 0, 0, 1, 0, 1, 1, 1, 0, 1, 0, 0, 0, 0, 0, 1, 0, 0, 0, 1, 1,\n",
              "       0, 0, 0, 0, 1, 0, 0, 0, 1, 1, 0, 0, 0, 0, 0, 0, 1, 1, 1, 0, 0, 0,\n",
              "       0, 0, 0, 0, 0, 1, 0, 0, 0, 0, 1, 0, 0, 0, 0, 0, 0, 0, 1, 1, 0, 1,\n",
              "       0, 0, 0, 0, 0, 0, 1, 1, 0, 0, 1, 0, 0, 0, 0, 0, 1, 0, 0, 0, 0, 0,\n",
              "       1, 0, 0, 1, 1, 0, 0, 0, 0, 0, 0, 0, 0, 1, 0, 1, 0, 1, 0, 1, 0, 0,\n",
              "       0, 1, 1, 0, 1, 0, 0, 1, 0, 1, 1, 1, 0, 1, 0, 1, 0, 0, 0, 1, 1, 0,\n",
              "       1, 0, 1, 0, 0, 0, 0, 0, 1, 1, 0, 1, 0, 0, 0, 1, 0, 1, 1, 0, 0, 1,\n",
              "       0, 1, 0, 0, 1, 0, 1, 0, 0, 0, 0, 0, 1, 0, 1, 0, 1, 0, 1, 0, 0, 0])"
            ]
          },
          "metadata": {
            "tags": []
          },
          "execution_count": 20
        }
      ]
    },
    {
      "cell_type": "markdown",
      "metadata": {
        "id": "_7QmraHNJrzj",
        "colab_type": "text"
      },
      "source": [
        "### Create the submission\n"
      ]
    },
    {
      "cell_type": "code",
      "metadata": {
        "id": "RA1krQzfAir4",
        "colab_type": "code",
        "outputId": "390165bb-cfe7-4967-fb86-dc2cdd845fcd",
        "colab": {
          "base_uri": "https://localhost:8080/",
          "height": 0
        }
      },
      "source": [
        "# Create a file to send a Kaggle\n",
        "submission = pd.Series(p, index = test['PassengerId'], name = 'Survived')\n",
        "submission"
      ],
      "execution_count": 21,
      "outputs": [
        {
          "output_type": "execute_result",
          "data": {
            "text/plain": [
              "PassengerId\n",
              "892     0\n",
              "893     1\n",
              "894     0\n",
              "895     1\n",
              "896     1\n",
              "       ..\n",
              "1305    0\n",
              "1306    1\n",
              "1307    0\n",
              "1308    0\n",
              "1309    0\n",
              "Name: Survived, Length: 418, dtype: int64"
            ]
          },
          "metadata": {
            "tags": []
          },
          "execution_count": 21
        }
      ]
    },
    {
      "cell_type": "code",
      "metadata": {
        "id": "DLf4iBS6BY5w",
        "colab_type": "code",
        "colab": {}
      },
      "source": [
        "submission.to_csv('first_model_submission.csv', header = True)"
      ],
      "execution_count": 0,
      "outputs": []
    },
    {
      "cell_type": "code",
      "metadata": {
        "id": "GjYZ9qswCVSz",
        "colab_type": "code",
        "outputId": "96337946-7c7a-4d4c-df18-bdc50a27afe3",
        "colab": {
          "base_uri": "https://localhost:8080/",
          "height": 0
        }
      },
      "source": [
        "!head first_model_submission.csv"
      ],
      "execution_count": 23,
      "outputs": [
        {
          "output_type": "stream",
          "text": [
            "PassengerId,Survived\n",
            "892,0\n",
            "893,1\n",
            "894,0\n",
            "895,1\n",
            "896,1\n",
            "897,0\n",
            "898,1\n",
            "899,0\n",
            "900,1\n"
          ],
          "name": "stdout"
        }
      ]
    },
    {
      "cell_type": "markdown",
      "metadata": {
        "id": "x2rXX2aDESoV",
        "colab_type": "text"
      },
      "source": [
        "The score in Kaggle was 0.71770, worse then the original file gender_submission.csv with 0.76555"
      ]
    },
    {
      "cell_type": "markdown",
      "metadata": {
        "id": "MJbfxHh3Jjzl",
        "colab_type": "text"
      },
      "source": [
        "## Model - Second model"
      ]
    },
    {
      "cell_type": "code",
      "metadata": {
        "id": "GHxocizsGWQr",
        "colab_type": "code",
        "colab": {}
      },
      "source": [
        "np.random.seed(0)\n",
        "X_train, X_test, y_train, y_test = train_test_split(X, y, test_size=0.50)"
      ],
      "execution_count": 0,
      "outputs": []
    },
    {
      "cell_type": "code",
      "metadata": {
        "id": "QYHQtRZeIwyb",
        "colab_type": "code",
        "outputId": "babf412e-e65f-4088-ccd7-31cd2cfd5bce",
        "colab": {
          "base_uri": "https://localhost:8080/",
          "height": 0
        }
      },
      "source": [
        "X_train.shape, X_test.shape, y_train.shape, y_test.shape "
      ],
      "execution_count": 25,
      "outputs": [
        {
          "output_type": "execute_result",
          "data": {
            "text/plain": [
              "((445, 2), (446, 2), (445,), (446,))"
            ]
          },
          "metadata": {
            "tags": []
          },
          "execution_count": 25
        }
      ]
    },
    {
      "cell_type": "code",
      "metadata": {
        "id": "Rbuc9BPiKG8o",
        "colab_type": "code",
        "outputId": "b3453705-28e3-405b-ca7f-76b0d644a226",
        "colab": {
          "base_uri": "https://localhost:8080/",
          "height": 0
        }
      },
      "source": [
        "model = RandomForestClassifier(n_estimators=100, n_jobs=-1, random_state=0)\n",
        "model.fit(X_train, y_train)"
      ],
      "execution_count": 26,
      "outputs": [
        {
          "output_type": "execute_result",
          "data": {
            "text/plain": [
              "RandomForestClassifier(bootstrap=True, ccp_alpha=0.0, class_weight=None,\n",
              "                       criterion='gini', max_depth=None, max_features='auto',\n",
              "                       max_leaf_nodes=None, max_samples=None,\n",
              "                       min_impurity_decrease=0.0, min_impurity_split=None,\n",
              "                       min_samples_leaf=1, min_samples_split=2,\n",
              "                       min_weight_fraction_leaf=0.0, n_estimators=100,\n",
              "                       n_jobs=-1, oob_score=False, random_state=0, verbose=0,\n",
              "                       warm_start=False)"
            ]
          },
          "metadata": {
            "tags": []
          },
          "execution_count": 26
        }
      ]
    },
    {
      "cell_type": "code",
      "metadata": {
        "id": "WJyxMULkKQN5",
        "colab_type": "code",
        "colab": {}
      },
      "source": [
        "p = model.predict(X_test)"
      ],
      "execution_count": 0,
      "outputs": []
    },
    {
      "cell_type": "code",
      "metadata": {
        "id": "OAicii9UKgIc",
        "colab_type": "code",
        "outputId": "ecc86951-c92a-4a73-dda2-0c400251226a",
        "colab": {
          "base_uri": "https://localhost:8080/",
          "height": 0
        }
      },
      "source": [
        "# testing the accuracy\n",
        "np.mean(y_test == p)"
      ],
      "execution_count": 28,
      "outputs": [
        {
          "output_type": "execute_result",
          "data": {
            "text/plain": [
              "0.7690582959641256"
            ]
          },
          "metadata": {
            "tags": []
          },
          "execution_count": 28
        }
      ]
    },
    {
      "cell_type": "code",
      "metadata": {
        "id": "M9ea9biWK3P5",
        "colab_type": "code",
        "outputId": "13ff28f3-2bdb-400e-e591-caa6949deca7",
        "colab": {
          "base_uri": "https://localhost:8080/",
          "height": 0
        }
      },
      "source": [
        "p = (X_test['Sex_bin'] == 1).astype(np.int64)\n",
        "np.mean(y_test == p)"
      ],
      "execution_count": 29,
      "outputs": [
        {
          "output_type": "execute_result",
          "data": {
            "text/plain": [
              "0.7825112107623319"
            ]
          },
          "metadata": {
            "tags": []
          },
          "execution_count": 29
        }
      ]
    },
    {
      "cell_type": "markdown",
      "metadata": {
        "id": "LivMjeJnMTwu",
        "colab_type": "text"
      },
      "source": [
        "### Cross-validation 1\n"
      ]
    },
    {
      "cell_type": "code",
      "metadata": {
        "id": "dys08VtnMZzL",
        "colab_type": "code",
        "outputId": "6a111742-ba55-4617-8eaf-93a5686167d7",
        "colab": {
          "base_uri": "https://localhost:8080/",
          "height": 0
        }
      },
      "source": [
        "results = []\n",
        "for loop in range(10):\n",
        "  print(f'Loop: {loop}')\n",
        "  kf = KFold(2, shuffle=True, random_state=loop)\n",
        "\n",
        "  for train_lines, test_lines in kf.split(X):\n",
        "    print(f'Train: {train_lines.shape[0]}')\n",
        "    print(f'Test: {test_lines.shape[0]}')\n",
        "\n",
        "    X_train, X_test = X.iloc[train_lines], X.iloc[test_lines]\n",
        "    y_train, y_test = y.iloc[train_lines], y.iloc[test_lines]\n",
        "\n",
        "    model = RandomForestClassifier(n_estimators=100, n_jobs=-1, random_state=0)\n",
        "    model.fit(X_train, y_train)\n",
        "\n",
        "    p = model.predict(X_test)\n",
        "\n",
        "    accuracy = np.mean(y_test == p) \n",
        "    results.append(accuracy)\n",
        "    print(f'Accuracy: {accuracy}')"
      ],
      "execution_count": 30,
      "outputs": [
        {
          "output_type": "stream",
          "text": [
            "Loop: 0\n",
            "Train: 445\n",
            "Test: 446\n",
            "Accuracy: 0.7713004484304933\n",
            "Train: 446\n",
            "Test: 445\n",
            "Accuracy: 0.7797752808988764\n",
            "Loop: 1\n",
            "Train: 445\n",
            "Test: 446\n",
            "Accuracy: 0.7443946188340808\n",
            "Train: 446\n",
            "Test: 445\n",
            "Accuracy: 0.7955056179775281\n",
            "Loop: 2\n",
            "Train: 445\n",
            "Test: 446\n",
            "Accuracy: 0.7757847533632287\n",
            "Train: 446\n",
            "Test: 445\n",
            "Accuracy: 0.7887640449438202\n",
            "Loop: 3\n",
            "Train: 445\n",
            "Test: 446\n",
            "Accuracy: 0.7533632286995515\n",
            "Train: 446\n",
            "Test: 445\n",
            "Accuracy: 0.7573033707865169\n",
            "Loop: 4\n",
            "Train: 445\n",
            "Test: 446\n",
            "Accuracy: 0.7354260089686099\n",
            "Train: 446\n",
            "Test: 445\n",
            "Accuracy: 0.7415730337078652\n",
            "Loop: 5\n",
            "Train: 445\n",
            "Test: 446\n",
            "Accuracy: 0.7219730941704036\n",
            "Train: 446\n",
            "Test: 445\n",
            "Accuracy: 0.7056179775280899\n",
            "Loop: 6\n",
            "Train: 445\n",
            "Test: 446\n",
            "Accuracy: 0.7757847533632287\n",
            "Train: 446\n",
            "Test: 445\n",
            "Accuracy: 0.7303370786516854\n",
            "Loop: 7\n",
            "Train: 445\n",
            "Test: 446\n",
            "Accuracy: 0.7040358744394619\n",
            "Train: 446\n",
            "Test: 445\n",
            "Accuracy: 0.7348314606741573\n",
            "Loop: 8\n",
            "Train: 445\n",
            "Test: 446\n",
            "Accuracy: 0.7488789237668162\n",
            "Train: 446\n",
            "Test: 445\n",
            "Accuracy: 0.7887640449438202\n",
            "Loop: 9\n",
            "Train: 445\n",
            "Test: 446\n",
            "Accuracy: 0.7623318385650224\n",
            "Train: 446\n",
            "Test: 445\n",
            "Accuracy: 0.7842696629213484\n"
          ],
          "name": "stdout"
        }
      ]
    },
    {
      "cell_type": "code",
      "metadata": {
        "id": "3P6FVOuORF1a",
        "colab_type": "code",
        "outputId": "399d8a7c-aa78-48ff-ac03-f93fe2701e4b",
        "colab": {
          "base_uri": "https://localhost:8080/",
          "height": 0
        }
      },
      "source": [
        " results"
      ],
      "execution_count": 31,
      "outputs": [
        {
          "output_type": "execute_result",
          "data": {
            "text/plain": [
              "[0.7713004484304933,\n",
              " 0.7797752808988764,\n",
              " 0.7443946188340808,\n",
              " 0.7955056179775281,\n",
              " 0.7757847533632287,\n",
              " 0.7887640449438202,\n",
              " 0.7533632286995515,\n",
              " 0.7573033707865169,\n",
              " 0.7354260089686099,\n",
              " 0.7415730337078652,\n",
              " 0.7219730941704036,\n",
              " 0.7056179775280899,\n",
              " 0.7757847533632287,\n",
              " 0.7303370786516854,\n",
              " 0.7040358744394619,\n",
              " 0.7348314606741573,\n",
              " 0.7488789237668162,\n",
              " 0.7887640449438202,\n",
              " 0.7623318385650224,\n",
              " 0.7842696629213484]"
            ]
          },
          "metadata": {
            "tags": []
          },
          "execution_count": 31
        }
      ]
    },
    {
      "cell_type": "code",
      "metadata": {
        "id": "238h70kWS19S",
        "colab_type": "code",
        "outputId": "8407e763-1646-4306-bd3f-c6f08ae56e1f",
        "colab": {
          "base_uri": "https://localhost:8080/",
          "height": 0
        }
      },
      "source": [
        "np.mean(results)"
      ],
      "execution_count": 32,
      "outputs": [
        {
          "output_type": "execute_result",
          "data": {
            "text/plain": [
              "0.7550007557817302"
            ]
          },
          "metadata": {
            "tags": []
          },
          "execution_count": 32
        }
      ]
    },
    {
      "cell_type": "markdown",
      "metadata": {
        "id": "yCHh9GBKgInQ",
        "colab_type": "text"
      },
      "source": [
        "### Cross-validation 2\n"
      ]
    },
    {
      "cell_type": "code",
      "metadata": {
        "id": "er5Gx70hgx4_",
        "colab_type": "code",
        "outputId": "b36ce808-7b33-4919-ba6a-bba0dde7285c",
        "colab": {
          "base_uri": "https://localhost:8080/",
          "height": 0
        }
      },
      "source": [
        "results = []\n",
        "kf = RepeatedKFold(n_splits=2, n_repeats=10, random_state=10)\n",
        "\n",
        "for train_lines, test_lines in kf.split(X):\n",
        "  print(f'Train: {train_lines.shape[0]}')\n",
        "  print(f'Test: {test_lines.shape[0]}')\n",
        "\n",
        "  X_train, X_test = X.iloc[train_lines], X.iloc[test_lines]\n",
        "  y_train, y_test = y.iloc[train_lines], y.iloc[test_lines]\n",
        "\n",
        "  model = RandomForestClassifier(n_estimators=100, n_jobs=-1, random_state=0)\n",
        "  model.fit(X_train, y_train)\n",
        "\n",
        "  p = model.predict(X_test)\n",
        "\n",
        "  accuracy = np.mean(y_test == p) \n",
        "  results.append(accuracy)\n",
        "  print(f'Accuracy: {accuracy}')"
      ],
      "execution_count": 33,
      "outputs": [
        {
          "output_type": "stream",
          "text": [
            "Train: 445\n",
            "Test: 446\n",
            "Accuracy: 0.7511210762331838\n",
            "Train: 446\n",
            "Test: 445\n",
            "Accuracy: 0.7617977528089888\n",
            "Train: 445\n",
            "Test: 446\n",
            "Accuracy: 0.7533632286995515\n",
            "Train: 446\n",
            "Test: 445\n",
            "Accuracy: 0.7595505617977528\n",
            "Train: 445\n",
            "Test: 446\n",
            "Accuracy: 0.7690582959641256\n",
            "Train: 446\n",
            "Test: 445\n",
            "Accuracy: 0.7573033707865169\n",
            "Train: 445\n",
            "Test: 446\n",
            "Accuracy: 0.7399103139013453\n",
            "Train: 446\n",
            "Test: 445\n",
            "Accuracy: 0.7595505617977528\n",
            "Train: 445\n",
            "Test: 446\n",
            "Accuracy: 0.7354260089686099\n",
            "Train: 446\n",
            "Test: 445\n",
            "Accuracy: 0.797752808988764\n",
            "Train: 445\n",
            "Test: 446\n",
            "Accuracy: 0.7690582959641256\n",
            "Train: 446\n",
            "Test: 445\n",
            "Accuracy: 0.7640449438202247\n",
            "Train: 445\n",
            "Test: 446\n",
            "Accuracy: 0.7757847533632287\n",
            "Train: 446\n",
            "Test: 445\n",
            "Accuracy: 0.7573033707865169\n",
            "Train: 445\n",
            "Test: 446\n",
            "Accuracy: 0.7556053811659192\n",
            "Train: 446\n",
            "Test: 445\n",
            "Accuracy: 0.7640449438202247\n",
            "Train: 445\n",
            "Test: 446\n",
            "Accuracy: 0.7443946188340808\n",
            "Train: 446\n",
            "Test: 445\n",
            "Accuracy: 0.7595505617977528\n",
            "Train: 445\n",
            "Test: 446\n",
            "Accuracy: 0.7533632286995515\n",
            "Train: 446\n",
            "Test: 445\n",
            "Accuracy: 0.7640449438202247\n"
          ],
          "name": "stdout"
        }
      ]
    },
    {
      "cell_type": "code",
      "metadata": {
        "id": "wgp_NRVshw0n",
        "colab_type": "code",
        "outputId": "c20a329d-8c6f-472f-9aef-a98747e62c4e",
        "colab": {
          "base_uri": "https://localhost:8080/",
          "height": 0
        }
      },
      "source": [
        "results"
      ],
      "execution_count": 34,
      "outputs": [
        {
          "output_type": "execute_result",
          "data": {
            "text/plain": [
              "[0.7511210762331838,\n",
              " 0.7617977528089888,\n",
              " 0.7533632286995515,\n",
              " 0.7595505617977528,\n",
              " 0.7690582959641256,\n",
              " 0.7573033707865169,\n",
              " 0.7399103139013453,\n",
              " 0.7595505617977528,\n",
              " 0.7354260089686099,\n",
              " 0.797752808988764,\n",
              " 0.7690582959641256,\n",
              " 0.7640449438202247,\n",
              " 0.7757847533632287,\n",
              " 0.7573033707865169,\n",
              " 0.7556053811659192,\n",
              " 0.7640449438202247,\n",
              " 0.7443946188340808,\n",
              " 0.7595505617977528,\n",
              " 0.7533632286995515,\n",
              " 0.7640449438202247]"
            ]
          },
          "metadata": {
            "tags": []
          },
          "execution_count": 34
        }
      ]
    },
    {
      "cell_type": "code",
      "metadata": {
        "id": "mfHvdZDikqx5",
        "colab_type": "code",
        "outputId": "e6ea7a7a-5fa0-4468-a1bf-fc00ba5cb172",
        "colab": {
          "base_uri": "https://localhost:8080/",
          "height": 0
        }
      },
      "source": [
        "np.mean(results)"
      ],
      "execution_count": 35,
      "outputs": [
        {
          "output_type": "execute_result",
          "data": {
            "text/plain": [
              "0.759601451100922"
            ]
          },
          "metadata": {
            "tags": []
          },
          "execution_count": 35
        }
      ]
    },
    {
      "cell_type": "code",
      "metadata": {
        "id": "pxnfnoBejYSR",
        "colab_type": "code",
        "outputId": "00846f7b-bc46-40f3-eece-d23fd6bb39c1",
        "colab": {
          "base_uri": "https://localhost:8080/",
          "height": 0
        }
      },
      "source": [
        "plt.hist(results)"
      ],
      "execution_count": 36,
      "outputs": [
        {
          "output_type": "execute_result",
          "data": {
            "text/plain": [
              "(array([2., 1., 3., 6., 4., 2., 1., 0., 0., 1.]),\n",
              " array([0.73542601, 0.74165869, 0.74789137, 0.75412405, 0.76035673,\n",
              "        0.76658941, 0.77282209, 0.77905477, 0.78528745, 0.79152013,\n",
              "        0.79775281]),\n",
              " <a list of 10 Patch objects>)"
            ]
          },
          "metadata": {
            "tags": []
          },
          "execution_count": 36
        },
        {
          "output_type": "display_data",
          "data": {
            "image/png": "[encoded data removed]",
            "text/plain": [
              "<Figure size 432x288 with 1 Axes>"
            ]
          },
          "metadata": {
            "tags": [],
            "needs_background": "light"
          }
        }
      ]
    },
    {
      "cell_type": "code",
      "metadata": {
        "id": "6JJrfYFmlP9I",
        "colab_type": "code",
        "colab": {}
      },
      "source": [
        "# adding new variables to analysis\n",
        "variables = ['Sex_bin', 'Age', 'Pclass', 'SibSp', 'Parch', 'Fare']"
      ],
      "execution_count": 0,
      "outputs": []
    },
    {
      "cell_type": "code",
      "metadata": {
        "id": "OsgjptxKl5Eq",
        "colab_type": "code",
        "colab": {}
      },
      "source": [
        "X = train[variables].fillna(-1)\n",
        "y = train['Survived']"
      ],
      "execution_count": 0,
      "outputs": []
    },
    {
      "cell_type": "code",
      "metadata": {
        "id": "HTOkzzGamVVX",
        "colab_type": "code",
        "outputId": "17d9c866-b061-4696-a5f3-fba95d135d71",
        "colab": {
          "base_uri": "https://localhost:8080/",
          "height": 0
        }
      },
      "source": [
        "X.head()"
      ],
      "execution_count": 39,
      "outputs": [
        {
          "output_type": "execute_result",
          "data": {
            "text/html": [
              "<div>\n",
              "<style scoped>\n",
              "    .dataframe tbody tr th:only-of-type {\n",
              "        vertical-align: middle;\n",
              "    }\n",
              "\n",
              "    .dataframe tbody tr th {\n",
              "        vertical-align: top;\n",
              "    }\n",
              "\n",
              "    .dataframe thead th {\n",
              "        text-align: right;\n",
              "    }\n",
              "</style>\n",
              "<table border=\"1\" class=\"dataframe\">\n",
              "  <thead>\n",
              "    <tr style=\"text-align: right;\">\n",
              "      <th></th>\n",
              "      <th>Sex_bin</th>\n",
              "      <th>Age</th>\n",
              "      <th>Pclass</th>\n",
              "      <th>SibSp</th>\n",
              "      <th>Parch</th>\n",
              "      <th>Fare</th>\n",
              "    </tr>\n",
              "  </thead>\n",
              "  <tbody>\n",
              "    <tr>\n",
              "      <th>0</th>\n",
              "      <td>0</td>\n",
              "      <td>22.0</td>\n",
              "      <td>3</td>\n",
              "      <td>1</td>\n",
              "      <td>0</td>\n",
              "      <td>7.2500</td>\n",
              "    </tr>\n",
              "    <tr>\n",
              "      <th>1</th>\n",
              "      <td>1</td>\n",
              "      <td>38.0</td>\n",
              "      <td>1</td>\n",
              "      <td>1</td>\n",
              "      <td>0</td>\n",
              "      <td>71.2833</td>\n",
              "    </tr>\n",
              "    <tr>\n",
              "      <th>2</th>\n",
              "      <td>1</td>\n",
              "      <td>26.0</td>\n",
              "      <td>3</td>\n",
              "      <td>0</td>\n",
              "      <td>0</td>\n",
              "      <td>7.9250</td>\n",
              "    </tr>\n",
              "    <tr>\n",
              "      <th>3</th>\n",
              "      <td>1</td>\n",
              "      <td>35.0</td>\n",
              "      <td>1</td>\n",
              "      <td>1</td>\n",
              "      <td>0</td>\n",
              "      <td>53.1000</td>\n",
              "    </tr>\n",
              "    <tr>\n",
              "      <th>4</th>\n",
              "      <td>0</td>\n",
              "      <td>35.0</td>\n",
              "      <td>3</td>\n",
              "      <td>0</td>\n",
              "      <td>0</td>\n",
              "      <td>8.0500</td>\n",
              "    </tr>\n",
              "  </tbody>\n",
              "</table>\n",
              "</div>"
            ],
            "text/plain": [
              "   Sex_bin   Age  Pclass  SibSp  Parch     Fare\n",
              "0        0  22.0       3      1      0   7.2500\n",
              "1        1  38.0       1      1      0  71.2833\n",
              "2        1  26.0       3      0      0   7.9250\n",
              "3        1  35.0       1      1      0  53.1000\n",
              "4        0  35.0       3      0      0   8.0500"
            ]
          },
          "metadata": {
            "tags": []
          },
          "execution_count": 39
        }
      ]
    },
    {
      "cell_type": "code",
      "metadata": {
        "id": "-7pyuCUCmQsG",
        "colab_type": "code",
        "outputId": "66c1459c-f3fd-4fc7-985c-944353000b8e",
        "colab": {
          "base_uri": "https://localhost:8080/",
          "height": 0
        }
      },
      "source": [
        "results = []\n",
        "kf = RepeatedKFold(n_splits=2, n_repeats=10, random_state=10)\n",
        "\n",
        "for train_lines, test_lines in kf.split(X):\n",
        "  print(f'Train: {train_lines.shape[0]}')\n",
        "  print(f'Test: {test_lines.shape[0]}')\n",
        "\n",
        "  X_train, X_test = X.iloc[train_lines], X.iloc[test_lines]\n",
        "  y_train, y_test = y.iloc[train_lines], y.iloc[test_lines]\n",
        "\n",
        "  model = RandomForestClassifier(n_estimators=100, n_jobs=-1, random_state=0)\n",
        "  model.fit(X_train, y_train)\n",
        "\n",
        "  p = model.predict(X_test)\n",
        "\n",
        "  accuracy = np.mean(y_test == p) \n",
        "  results.append(accuracy)\n",
        "  print(f'Accuracy: {accuracy}')"
      ],
      "execution_count": 40,
      "outputs": [
        {
          "output_type": "stream",
          "text": [
            "Train: 445\n",
            "Test: 446\n",
            "Accuracy: 0.7869955156950673\n",
            "Train: 446\n",
            "Test: 445\n",
            "Accuracy: 0.7797752808988764\n",
            "Train: 445\n",
            "Test: 446\n",
            "Accuracy: 0.827354260089686\n",
            "Train: 446\n",
            "Test: 445\n",
            "Accuracy: 0.8179775280898877\n",
            "Train: 445\n",
            "Test: 446\n",
            "Accuracy: 0.7847533632286996\n",
            "Train: 446\n",
            "Test: 445\n",
            "Accuracy: 0.7842696629213484\n",
            "Train: 445\n",
            "Test: 446\n",
            "Accuracy: 0.8161434977578476\n",
            "Train: 446\n",
            "Test: 445\n",
            "Accuracy: 0.7842696629213484\n",
            "Train: 445\n",
            "Test: 446\n",
            "Accuracy: 0.8004484304932735\n",
            "Train: 446\n",
            "Test: 445\n",
            "Accuracy: 0.8\n",
            "Train: 445\n",
            "Test: 446\n",
            "Accuracy: 0.8183856502242153\n",
            "Train: 446\n",
            "Test: 445\n",
            "Accuracy: 0.802247191011236\n",
            "Train: 445\n",
            "Test: 446\n",
            "Accuracy: 0.8116591928251121\n",
            "Train: 446\n",
            "Test: 445\n",
            "Accuracy: 0.8067415730337079\n",
            "Train: 445\n",
            "Test: 446\n",
            "Accuracy: 0.820627802690583\n",
            "Train: 446\n",
            "Test: 445\n",
            "Accuracy: 0.7887640449438202\n",
            "Train: 445\n",
            "Test: 446\n",
            "Accuracy: 0.8385650224215246\n",
            "Train: 446\n",
            "Test: 445\n",
            "Accuracy: 0.8044943820224719\n",
            "Train: 445\n",
            "Test: 446\n",
            "Accuracy: 0.7982062780269058\n",
            "Train: 446\n",
            "Test: 445\n",
            "Accuracy: 0.8112359550561797\n"
          ],
          "name": "stdout"
        }
      ]
    },
    {
      "cell_type": "code",
      "metadata": {
        "id": "EHuKeYRMmuGY",
        "colab_type": "code",
        "outputId": "99712a1a-abe9-4ee2-e59b-199be42b9902",
        "colab": {
          "base_uri": "https://localhost:8080/",
          "height": 0
        }
      },
      "source": [
        "plt.hist(results)"
      ],
      "execution_count": 41,
      "outputs": [
        {
          "output_type": "execute_result",
          "data": {
            "text/plain": [
              "(array([4., 2., 0., 4., 2., 2., 4., 0., 1., 1.]),\n",
              " array([0.77977528, 0.78565426, 0.79153323, 0.7974122 , 0.80329118,\n",
              "        0.80917015, 0.81504913, 0.8209281 , 0.82680707, 0.83268605,\n",
              "        0.83856502]),\n",
              " <a list of 10 Patch objects>)"
            ]
          },
          "metadata": {
            "tags": []
          },
          "execution_count": 41
        },
        {
          "output_type": "display_data",
          "data": {
            "image/png": "[encoded data removed]",
            "text/plain": [
              "<Figure size 432x288 with 1 Axes>"
            ]
          },
          "metadata": {
            "tags": [],
            "needs_background": "light"
          }
        }
      ]
    },
    {
      "cell_type": "code",
      "metadata": {
        "id": "XDKY5jJXn1La",
        "colab_type": "code",
        "outputId": "d291bb3f-ac86-4349-aea3-1d3c29b46336",
        "colab": {
          "base_uri": "https://localhost:8080/",
          "height": 0
        }
      },
      "source": [
        "test[variables].head()"
      ],
      "execution_count": 42,
      "outputs": [
        {
          "output_type": "execute_result",
          "data": {
            "text/html": [
              "<div>\n",
              "<style scoped>\n",
              "    .dataframe tbody tr th:only-of-type {\n",
              "        vertical-align: middle;\n",
              "    }\n",
              "\n",
              "    .dataframe tbody tr th {\n",
              "        vertical-align: top;\n",
              "    }\n",
              "\n",
              "    .dataframe thead th {\n",
              "        text-align: right;\n",
              "    }\n",
              "</style>\n",
              "<table border=\"1\" class=\"dataframe\">\n",
              "  <thead>\n",
              "    <tr style=\"text-align: right;\">\n",
              "      <th></th>\n",
              "      <th>Sex_bin</th>\n",
              "      <th>Age</th>\n",
              "      <th>Pclass</th>\n",
              "      <th>SibSp</th>\n",
              "      <th>Parch</th>\n",
              "      <th>Fare</th>\n",
              "    </tr>\n",
              "  </thead>\n",
              "  <tbody>\n",
              "    <tr>\n",
              "      <th>0</th>\n",
              "      <td>0</td>\n",
              "      <td>34.5</td>\n",
              "      <td>3</td>\n",
              "      <td>0</td>\n",
              "      <td>0</td>\n",
              "      <td>7.8292</td>\n",
              "    </tr>\n",
              "    <tr>\n",
              "      <th>1</th>\n",
              "      <td>1</td>\n",
              "      <td>47.0</td>\n",
              "      <td>3</td>\n",
              "      <td>1</td>\n",
              "      <td>0</td>\n",
              "      <td>7.0000</td>\n",
              "    </tr>\n",
              "    <tr>\n",
              "      <th>2</th>\n",
              "      <td>0</td>\n",
              "      <td>62.0</td>\n",
              "      <td>2</td>\n",
              "      <td>0</td>\n",
              "      <td>0</td>\n",
              "      <td>9.6875</td>\n",
              "    </tr>\n",
              "    <tr>\n",
              "      <th>3</th>\n",
              "      <td>0</td>\n",
              "      <td>27.0</td>\n",
              "      <td>3</td>\n",
              "      <td>0</td>\n",
              "      <td>0</td>\n",
              "      <td>8.6625</td>\n",
              "    </tr>\n",
              "    <tr>\n",
              "      <th>4</th>\n",
              "      <td>1</td>\n",
              "      <td>22.0</td>\n",
              "      <td>3</td>\n",
              "      <td>1</td>\n",
              "      <td>1</td>\n",
              "      <td>12.2875</td>\n",
              "    </tr>\n",
              "  </tbody>\n",
              "</table>\n",
              "</div>"
            ],
            "text/plain": [
              "   Sex_bin   Age  Pclass  SibSp  Parch     Fare\n",
              "0        0  34.5       3      0      0   7.8292\n",
              "1        1  47.0       3      1      0   7.0000\n",
              "2        0  62.0       2      0      0   9.6875\n",
              "3        0  27.0       3      0      0   8.6625\n",
              "4        1  22.0       3      1      1  12.2875"
            ]
          },
          "metadata": {
            "tags": []
          },
          "execution_count": 42
        }
      ]
    },
    {
      "cell_type": "code",
      "metadata": {
        "id": "3AwM9FginVxa",
        "colab_type": "code",
        "colab": {}
      },
      "source": [
        "# retraining the data to create a new sibmission\n",
        "\n",
        "model = RandomForestClassifier(n_estimators=100, n_jobs=-1, random_state=0)\n",
        "model.fit(X, y)\n",
        "\n",
        "p = model.predict(test[variables].fillna(-1))"
      ],
      "execution_count": 0,
      "outputs": []
    },
    {
      "cell_type": "code",
      "metadata": {
        "id": "2kVWU46_oObl",
        "colab_type": "code",
        "outputId": "096c9159-5d3b-4194-aa93-6aa4aaaf5264",
        "colab": {
          "base_uri": "https://localhost:8080/",
          "height": 0
        }
      },
      "source": [
        "p"
      ],
      "execution_count": 44,
      "outputs": [
        {
          "output_type": "execute_result",
          "data": {
            "text/plain": [
              "array([0, 0, 1, 1, 0, 0, 0, 0, 1, 0, 0, 0, 1, 0, 1, 1, 0, 1, 0, 0, 0, 0,\n",
              "       1, 0, 1, 0, 1, 1, 1, 0, 0, 0, 1, 0, 1, 0, 0, 0, 0, 1, 0, 0, 0, 1,\n",
              "       1, 0, 0, 0, 1, 1, 0, 0, 1, 1, 0, 0, 0, 0, 0, 1, 0, 0, 0, 1, 1, 1,\n",
              "       1, 0, 0, 1, 1, 0, 0, 0, 1, 0, 0, 1, 0, 1, 1, 0, 0, 0, 1, 0, 1, 0,\n",
              "       1, 1, 0, 0, 1, 0, 0, 0, 1, 1, 0, 0, 1, 0, 0, 0, 1, 0, 0, 0, 0, 0,\n",
              "       0, 1, 1, 1, 1, 0, 0, 1, 0, 1, 1, 0, 1, 0, 0, 0, 0, 1, 0, 0, 1, 0,\n",
              "       0, 0, 0, 0, 0, 0, 0, 0, 0, 1, 0, 0, 1, 0, 0, 0, 0, 0, 1, 0, 0, 1,\n",
              "       0, 0, 1, 1, 1, 1, 1, 1, 1, 0, 0, 1, 0, 0, 1, 0, 0, 0, 0, 0, 0, 1,\n",
              "       1, 0, 1, 1, 0, 0, 1, 0, 1, 0, 1, 0, 0, 0, 0, 0, 1, 0, 1, 0, 1, 0,\n",
              "       0, 0, 1, 1, 0, 1, 0, 0, 0, 0, 1, 0, 0, 0, 0, 1, 1, 0, 1, 0, 1, 0,\n",
              "       1, 0, 1, 1, 1, 0, 0, 1, 0, 0, 0, 1, 0, 0, 0, 0, 0, 1, 1, 1, 1, 1,\n",
              "       0, 0, 0, 0, 1, 0, 1, 0, 1, 0, 1, 0, 0, 0, 0, 0, 1, 0, 0, 0, 1, 1,\n",
              "       0, 0, 0, 0, 0, 0, 0, 0, 1, 1, 0, 1, 0, 0, 0, 0, 0, 1, 1, 0, 1, 0,\n",
              "       0, 0, 0, 0, 0, 0, 0, 0, 0, 0, 1, 0, 0, 0, 0, 0, 0, 0, 1, 1, 1, 1,\n",
              "       0, 0, 0, 1, 0, 0, 1, 1, 0, 0, 0, 0, 0, 0, 0, 1, 1, 0, 1, 0, 0, 0,\n",
              "       1, 0, 0, 0, 0, 0, 1, 0, 0, 0, 0, 0, 0, 1, 1, 1, 0, 0, 0, 1, 1, 0,\n",
              "       0, 0, 1, 0, 1, 0, 0, 0, 0, 1, 1, 1, 1, 0, 0, 0, 1, 0, 0, 1, 0, 0,\n",
              "       1, 1, 0, 0, 0, 0, 0, 0, 0, 0, 1, 1, 0, 0, 0, 0, 0, 1, 0, 0, 0, 1,\n",
              "       0, 1, 0, 0, 1, 0, 1, 0, 0, 0, 0, 0, 1, 1, 1, 1, 0, 0, 1, 0, 0, 0])"
            ]
          },
          "metadata": {
            "tags": []
          },
          "execution_count": 44
        }
      ]
    },
    {
      "cell_type": "code",
      "metadata": {
        "id": "LZ7LAs0wnEL_",
        "colab_type": "code",
        "outputId": "1b942f74-2a34-4ed3-a9f0-ad792695de8a",
        "colab": {
          "base_uri": "https://localhost:8080/",
          "height": 0
        }
      },
      "source": [
        "# Create a file to send a Kaggle\n",
        "submission = pd.Series(p, index = test['PassengerId'], name = 'Survived')\n",
        "submission"
      ],
      "execution_count": 45,
      "outputs": [
        {
          "output_type": "execute_result",
          "data": {
            "text/plain": [
              "PassengerId\n",
              "892     0\n",
              "893     0\n",
              "894     1\n",
              "895     1\n",
              "896     0\n",
              "       ..\n",
              "1305    0\n",
              "1306    1\n",
              "1307    0\n",
              "1308    0\n",
              "1309    0\n",
              "Name: Survived, Length: 418, dtype: int64"
            ]
          },
          "metadata": {
            "tags": []
          },
          "execution_count": 45
        }
      ]
    },
    {
      "cell_type": "code",
      "metadata": {
        "id": "v-RFwzbOoZEX",
        "colab_type": "code",
        "colab": {}
      },
      "source": [
        "submission.to_csv('second_submission.csv', header=True)"
      ],
      "execution_count": 0,
      "outputs": []
    },
    {
      "cell_type": "code",
      "metadata": {
        "id": "IdnVgcMtorfi",
        "colab_type": "code",
        "outputId": "26d57036-a6df-4d05-d14a-49ca7cb0e17f",
        "colab": {
          "base_uri": "https://localhost:8080/",
          "height": 0
        }
      },
      "source": [
        "!head second_submission.csv"
      ],
      "execution_count": 47,
      "outputs": [
        {
          "output_type": "stream",
          "text": [
            "PassengerId,Survived\n",
            "892,0\n",
            "893,0\n",
            "894,1\n",
            "895,1\n",
            "896,0\n",
            "897,0\n",
            "898,0\n",
            "899,0\n",
            "900,1\n"
          ],
          "name": "stdout"
        }
      ]
    },
    {
      "cell_type": "markdown",
      "metadata": {
        "id": "b_OzCwQ-usDv",
        "colab_type": "text"
      },
      "source": [
        "## Model - Tird model"
      ]
    },
    {
      "cell_type": "markdown",
      "metadata": {
        "id": "_oGPO2gIvAkk",
        "colab_type": "text"
      },
      "source": [
        "### Error analysis"
      ]
    },
    {
      "cell_type": "code",
      "metadata": {
        "id": "YOv8E_HFvesl",
        "colab_type": "code",
        "outputId": "21dc7413-84f4-434a-b347-49cedad06ff6",
        "colab": {
          "base_uri": "https://localhost:8080/",
          "height": 0
        }
      },
      "source": [
        "results = []\n",
        "kf = RepeatedKFold(n_splits=2, n_repeats=10, random_state=10)\n",
        "\n",
        "for train_lines, test_lines in kf.split(X):\n",
        "  print(f'Train: {train_lines.shape[0]}')\n",
        "  print(f'Test: {test_lines.shape[0]}')\n",
        "\n",
        "  X_train, X_test = X.iloc[train_lines], X.iloc[test_lines]\n",
        "  y_train, y_test = y.iloc[train_lines], y.iloc[test_lines]\n",
        "\n",
        "  model = RandomForestClassifier(n_estimators=100, n_jobs=-1, random_state=0)\n",
        "  model.fit(X_train, y_train)\n",
        "\n",
        "  p = model.predict(X_test)\n",
        "\n",
        "  accuracy = np.mean(y_test == p) \n",
        "  results.append(accuracy)\n",
        "  print(f'Accuracy: {accuracy}')"
      ],
      "execution_count": 48,
      "outputs": [
        {
          "output_type": "stream",
          "text": [
            "Train: 445\n",
            "Test: 446\n",
            "Accuracy: 0.7869955156950673\n",
            "Train: 446\n",
            "Test: 445\n",
            "Accuracy: 0.7797752808988764\n",
            "Train: 445\n",
            "Test: 446\n",
            "Accuracy: 0.827354260089686\n",
            "Train: 446\n",
            "Test: 445\n",
            "Accuracy: 0.8179775280898877\n",
            "Train: 445\n",
            "Test: 446\n",
            "Accuracy: 0.7847533632286996\n",
            "Train: 446\n",
            "Test: 445\n",
            "Accuracy: 0.7842696629213484\n",
            "Train: 445\n",
            "Test: 446\n",
            "Accuracy: 0.8161434977578476\n",
            "Train: 446\n",
            "Test: 445\n",
            "Accuracy: 0.7842696629213484\n",
            "Train: 445\n",
            "Test: 446\n",
            "Accuracy: 0.8004484304932735\n",
            "Train: 446\n",
            "Test: 445\n",
            "Accuracy: 0.8\n",
            "Train: 445\n",
            "Test: 446\n",
            "Accuracy: 0.8183856502242153\n",
            "Train: 446\n",
            "Test: 445\n",
            "Accuracy: 0.802247191011236\n",
            "Train: 445\n",
            "Test: 446\n",
            "Accuracy: 0.8116591928251121\n",
            "Train: 446\n",
            "Test: 445\n",
            "Accuracy: 0.8067415730337079\n",
            "Train: 445\n",
            "Test: 446\n",
            "Accuracy: 0.820627802690583\n",
            "Train: 446\n",
            "Test: 445\n",
            "Accuracy: 0.7887640449438202\n",
            "Train: 445\n",
            "Test: 446\n",
            "Accuracy: 0.8385650224215246\n",
            "Train: 446\n",
            "Test: 445\n",
            "Accuracy: 0.8044943820224719\n",
            "Train: 445\n",
            "Test: 446\n",
            "Accuracy: 0.7982062780269058\n",
            "Train: 446\n",
            "Test: 445\n",
            "Accuracy: 0.8112359550561797\n"
          ],
          "name": "stdout"
        }
      ]
    },
    {
      "cell_type": "code",
      "metadata": {
        "id": "5ivxPFcR1DZB",
        "colab_type": "code",
        "outputId": "e256ba41-435c-4e1a-f030-9d2d731f68ed",
        "colab": {
          "base_uri": "https://localhost:8080/",
          "height": 0
        }
      },
      "source": [
        "X_test_check = train.iloc[test_lines].copy()\n",
        "X_test_check['p'] = p\n",
        "X_test_check.head()"
      ],
      "execution_count": 49,
      "outputs": [
        {
          "output_type": "execute_result",
          "data": {
            "text/html": [
              "<div>\n",
              "<style scoped>\n",
              "    .dataframe tbody tr th:only-of-type {\n",
              "        vertical-align: middle;\n",
              "    }\n",
              "\n",
              "    .dataframe tbody tr th {\n",
              "        vertical-align: top;\n",
              "    }\n",
              "\n",
              "    .dataframe thead th {\n",
              "        text-align: right;\n",
              "    }\n",
              "</style>\n",
              "<table border=\"1\" class=\"dataframe\">\n",
              "  <thead>\n",
              "    <tr style=\"text-align: right;\">\n",
              "      <th></th>\n",
              "      <th>PassengerId</th>\n",
              "      <th>Survived</th>\n",
              "      <th>Pclass</th>\n",
              "      <th>Name</th>\n",
              "      <th>Sex</th>\n",
              "      <th>Age</th>\n",
              "      <th>SibSp</th>\n",
              "      <th>Parch</th>\n",
              "      <th>Ticket</th>\n",
              "      <th>Fare</th>\n",
              "      <th>Cabin</th>\n",
              "      <th>Embarked</th>\n",
              "      <th>Sex_bin</th>\n",
              "      <th>p</th>\n",
              "    </tr>\n",
              "  </thead>\n",
              "  <tbody>\n",
              "    <tr>\n",
              "      <th>0</th>\n",
              "      <td>1</td>\n",
              "      <td>0</td>\n",
              "      <td>3</td>\n",
              "      <td>Braund, Mr. Owen Harris</td>\n",
              "      <td>male</td>\n",
              "      <td>22.0</td>\n",
              "      <td>1</td>\n",
              "      <td>0</td>\n",
              "      <td>A/5 21171</td>\n",
              "      <td>7.2500</td>\n",
              "      <td>NaN</td>\n",
              "      <td>S</td>\n",
              "      <td>0</td>\n",
              "      <td>0</td>\n",
              "    </tr>\n",
              "    <tr>\n",
              "      <th>1</th>\n",
              "      <td>2</td>\n",
              "      <td>1</td>\n",
              "      <td>1</td>\n",
              "      <td>Cumings, Mrs. John Bradley (Florence Briggs Th...</td>\n",
              "      <td>female</td>\n",
              "      <td>38.0</td>\n",
              "      <td>1</td>\n",
              "      <td>0</td>\n",
              "      <td>PC 17599</td>\n",
              "      <td>71.2833</td>\n",
              "      <td>C85</td>\n",
              "      <td>C</td>\n",
              "      <td>1</td>\n",
              "      <td>1</td>\n",
              "    </tr>\n",
              "    <tr>\n",
              "      <th>2</th>\n",
              "      <td>3</td>\n",
              "      <td>1</td>\n",
              "      <td>3</td>\n",
              "      <td>Heikkinen, Miss. Laina</td>\n",
              "      <td>female</td>\n",
              "      <td>26.0</td>\n",
              "      <td>0</td>\n",
              "      <td>0</td>\n",
              "      <td>STON/O2. 3101282</td>\n",
              "      <td>7.9250</td>\n",
              "      <td>NaN</td>\n",
              "      <td>S</td>\n",
              "      <td>1</td>\n",
              "      <td>0</td>\n",
              "    </tr>\n",
              "    <tr>\n",
              "      <th>3</th>\n",
              "      <td>4</td>\n",
              "      <td>1</td>\n",
              "      <td>1</td>\n",
              "      <td>Futrelle, Mrs. Jacques Heath (Lily May Peel)</td>\n",
              "      <td>female</td>\n",
              "      <td>35.0</td>\n",
              "      <td>1</td>\n",
              "      <td>0</td>\n",
              "      <td>113803</td>\n",
              "      <td>53.1000</td>\n",
              "      <td>C123</td>\n",
              "      <td>S</td>\n",
              "      <td>1</td>\n",
              "      <td>1</td>\n",
              "    </tr>\n",
              "    <tr>\n",
              "      <th>4</th>\n",
              "      <td>5</td>\n",
              "      <td>0</td>\n",
              "      <td>3</td>\n",
              "      <td>Allen, Mr. William Henry</td>\n",
              "      <td>male</td>\n",
              "      <td>35.0</td>\n",
              "      <td>0</td>\n",
              "      <td>0</td>\n",
              "      <td>373450</td>\n",
              "      <td>8.0500</td>\n",
              "      <td>NaN</td>\n",
              "      <td>S</td>\n",
              "      <td>0</td>\n",
              "      <td>0</td>\n",
              "    </tr>\n",
              "  </tbody>\n",
              "</table>\n",
              "</div>"
            ],
            "text/plain": [
              "   PassengerId  Survived  Pclass  ... Embarked Sex_bin  p\n",
              "0            1         0       3  ...        S       0  0\n",
              "1            2         1       1  ...        C       1  1\n",
              "2            3         1       3  ...        S       1  0\n",
              "3            4         1       1  ...        S       1  1\n",
              "4            5         0       3  ...        S       0  0\n",
              "\n",
              "[5 rows x 14 columns]"
            ]
          },
          "metadata": {
            "tags": []
          },
          "execution_count": 49
        }
      ]
    },
    {
      "cell_type": "code",
      "metadata": {
        "id": "BHJnjRXp1uTQ",
        "colab_type": "code",
        "outputId": "6932c5e3-707c-4061-e940-6ce3a09dbc55",
        "colab": {
          "base_uri": "https://localhost:8080/",
          "height": 0
        }
      },
      "source": [
        "X_test_check.shape"
      ],
      "execution_count": 50,
      "outputs": [
        {
          "output_type": "execute_result",
          "data": {
            "text/plain": [
              "(445, 14)"
            ]
          },
          "metadata": {
            "tags": []
          },
          "execution_count": 50
        }
      ]
    },
    {
      "cell_type": "code",
      "metadata": {
        "id": "_dpRakdv2BI9",
        "colab_type": "code",
        "outputId": "59ad7de2-04b3-45bd-d7d2-199e7f8fb6f2",
        "colab": {
          "base_uri": "https://localhost:8080/",
          "height": 0
        }
      },
      "source": [
        "errors = X_test_check[X_test_check['Survived'] != X_test_check['p']]\n",
        "errors = errors[['PassengerId',\t'Pclass',\t'Name',\t'Sex',\t'Age',\t'SibSp',\n",
        "                 'Parch',\t'Ticket',\t'Fare',\t'Cabin',\t'Embarked',\t'Sex_bin',\t\n",
        "                 'p', 'Survived']]\n",
        "errors.head()"
      ],
      "execution_count": 51,
      "outputs": [
        {
          "output_type": "execute_result",
          "data": {
            "text/html": [
              "<div>\n",
              "<style scoped>\n",
              "    .dataframe tbody tr th:only-of-type {\n",
              "        vertical-align: middle;\n",
              "    }\n",
              "\n",
              "    .dataframe tbody tr th {\n",
              "        vertical-align: top;\n",
              "    }\n",
              "\n",
              "    .dataframe thead th {\n",
              "        text-align: right;\n",
              "    }\n",
              "</style>\n",
              "<table border=\"1\" class=\"dataframe\">\n",
              "  <thead>\n",
              "    <tr style=\"text-align: right;\">\n",
              "      <th></th>\n",
              "      <th>PassengerId</th>\n",
              "      <th>Pclass</th>\n",
              "      <th>Name</th>\n",
              "      <th>Sex</th>\n",
              "      <th>Age</th>\n",
              "      <th>SibSp</th>\n",
              "      <th>Parch</th>\n",
              "      <th>Ticket</th>\n",
              "      <th>Fare</th>\n",
              "      <th>Cabin</th>\n",
              "      <th>Embarked</th>\n",
              "      <th>Sex_bin</th>\n",
              "      <th>p</th>\n",
              "      <th>Survived</th>\n",
              "    </tr>\n",
              "  </thead>\n",
              "  <tbody>\n",
              "    <tr>\n",
              "      <th>2</th>\n",
              "      <td>3</td>\n",
              "      <td>3</td>\n",
              "      <td>Heikkinen, Miss. Laina</td>\n",
              "      <td>female</td>\n",
              "      <td>26.0</td>\n",
              "      <td>0</td>\n",
              "      <td>0</td>\n",
              "      <td>STON/O2. 3101282</td>\n",
              "      <td>7.9250</td>\n",
              "      <td>NaN</td>\n",
              "      <td>S</td>\n",
              "      <td>1</td>\n",
              "      <td>0</td>\n",
              "      <td>1</td>\n",
              "    </tr>\n",
              "    <tr>\n",
              "      <th>21</th>\n",
              "      <td>22</td>\n",
              "      <td>2</td>\n",
              "      <td>Beesley, Mr. Lawrence</td>\n",
              "      <td>male</td>\n",
              "      <td>34.0</td>\n",
              "      <td>0</td>\n",
              "      <td>0</td>\n",
              "      <td>248698</td>\n",
              "      <td>13.0000</td>\n",
              "      <td>D56</td>\n",
              "      <td>S</td>\n",
              "      <td>0</td>\n",
              "      <td>0</td>\n",
              "      <td>1</td>\n",
              "    </tr>\n",
              "    <tr>\n",
              "      <th>22</th>\n",
              "      <td>23</td>\n",
              "      <td>3</td>\n",
              "      <td>McGowan, Miss. Anna \"Annie\"</td>\n",
              "      <td>female</td>\n",
              "      <td>15.0</td>\n",
              "      <td>0</td>\n",
              "      <td>0</td>\n",
              "      <td>330923</td>\n",
              "      <td>8.0292</td>\n",
              "      <td>NaN</td>\n",
              "      <td>Q</td>\n",
              "      <td>1</td>\n",
              "      <td>0</td>\n",
              "      <td>1</td>\n",
              "    </tr>\n",
              "    <tr>\n",
              "      <th>23</th>\n",
              "      <td>24</td>\n",
              "      <td>1</td>\n",
              "      <td>Sloper, Mr. William Thompson</td>\n",
              "      <td>male</td>\n",
              "      <td>28.0</td>\n",
              "      <td>0</td>\n",
              "      <td>0</td>\n",
              "      <td>113788</td>\n",
              "      <td>35.5000</td>\n",
              "      <td>A6</td>\n",
              "      <td>S</td>\n",
              "      <td>0</td>\n",
              "      <td>0</td>\n",
              "      <td>1</td>\n",
              "    </tr>\n",
              "    <tr>\n",
              "      <th>25</th>\n",
              "      <td>26</td>\n",
              "      <td>3</td>\n",
              "      <td>Asplund, Mrs. Carl Oscar (Selma Augusta Emilia...</td>\n",
              "      <td>female</td>\n",
              "      <td>38.0</td>\n",
              "      <td>1</td>\n",
              "      <td>5</td>\n",
              "      <td>347077</td>\n",
              "      <td>31.3875</td>\n",
              "      <td>NaN</td>\n",
              "      <td>S</td>\n",
              "      <td>1</td>\n",
              "      <td>0</td>\n",
              "      <td>1</td>\n",
              "    </tr>\n",
              "  </tbody>\n",
              "</table>\n",
              "</div>"
            ],
            "text/plain": [
              "    PassengerId  Pclass  ...  p Survived\n",
              "2             3       3  ...  0        1\n",
              "21           22       2  ...  0        1\n",
              "22           23       3  ...  0        1\n",
              "23           24       1  ...  0        1\n",
              "25           26       3  ...  0        1\n",
              "\n",
              "[5 rows x 14 columns]"
            ]
          },
          "metadata": {
            "tags": []
          },
          "execution_count": 51
        }
      ]
    },
    {
      "cell_type": "code",
      "metadata": {
        "id": "t3LH5ROr3kum",
        "colab_type": "code",
        "colab": {}
      },
      "source": [
        "women = errors[errors['Sex'] == 'female']\n",
        "men = errors[errors['Sex'] == 'male']"
      ],
      "execution_count": 0,
      "outputs": []
    },
    {
      "cell_type": "code",
      "metadata": {
        "id": "7IJtapFv3_he",
        "colab_type": "code",
        "outputId": "15ed8b83-9f9e-4502-ad43-a60c489c1604",
        "colab": {
          "base_uri": "https://localhost:8080/",
          "height": 0
        }
      },
      "source": [
        "women.sort_values('Survived')"
      ],
      "execution_count": 53,
      "outputs": [
        {
          "output_type": "execute_result",
          "data": {
            "text/html": [
              "<div>\n",
              "<style scoped>\n",
              "    .dataframe tbody tr th:only-of-type {\n",
              "        vertical-align: middle;\n",
              "    }\n",
              "\n",
              "    .dataframe tbody tr th {\n",
              "        vertical-align: top;\n",
              "    }\n",
              "\n",
              "    .dataframe thead th {\n",
              "        text-align: right;\n",
              "    }\n",
              "</style>\n",
              "<table border=\"1\" class=\"dataframe\">\n",
              "  <thead>\n",
              "    <tr style=\"text-align: right;\">\n",
              "      <th></th>\n",
              "      <th>PassengerId</th>\n",
              "      <th>Pclass</th>\n",
              "      <th>Name</th>\n",
              "      <th>Sex</th>\n",
              "      <th>Age</th>\n",
              "      <th>SibSp</th>\n",
              "      <th>Parch</th>\n",
              "      <th>Ticket</th>\n",
              "      <th>Fare</th>\n",
              "      <th>Cabin</th>\n",
              "      <th>Embarked</th>\n",
              "      <th>Sex_bin</th>\n",
              "      <th>p</th>\n",
              "      <th>Survived</th>\n",
              "    </tr>\n",
              "  </thead>\n",
              "  <tbody>\n",
              "    <tr>\n",
              "      <th>888</th>\n",
              "      <td>889</td>\n",
              "      <td>3</td>\n",
              "      <td>Johnston, Miss. Catherine Helen \"Carrie\"</td>\n",
              "      <td>female</td>\n",
              "      <td>NaN</td>\n",
              "      <td>1</td>\n",
              "      <td>2</td>\n",
              "      <td>W./C. 6607</td>\n",
              "      <td>23.4500</td>\n",
              "      <td>NaN</td>\n",
              "      <td>S</td>\n",
              "      <td>1</td>\n",
              "      <td>1</td>\n",
              "      <td>0</td>\n",
              "    </tr>\n",
              "    <tr>\n",
              "      <th>501</th>\n",
              "      <td>502</td>\n",
              "      <td>3</td>\n",
              "      <td>Canavan, Miss. Mary</td>\n",
              "      <td>female</td>\n",
              "      <td>21.0</td>\n",
              "      <td>0</td>\n",
              "      <td>0</td>\n",
              "      <td>364846</td>\n",
              "      <td>7.7500</td>\n",
              "      <td>NaN</td>\n",
              "      <td>Q</td>\n",
              "      <td>1</td>\n",
              "      <td>1</td>\n",
              "      <td>0</td>\n",
              "    </tr>\n",
              "    <tr>\n",
              "      <th>498</th>\n",
              "      <td>499</td>\n",
              "      <td>1</td>\n",
              "      <td>Allison, Mrs. Hudson J C (Bessie Waldo Daniels)</td>\n",
              "      <td>female</td>\n",
              "      <td>25.0</td>\n",
              "      <td>1</td>\n",
              "      <td>2</td>\n",
              "      <td>113781</td>\n",
              "      <td>151.5500</td>\n",
              "      <td>C22 C26</td>\n",
              "      <td>S</td>\n",
              "      <td>1</td>\n",
              "      <td>1</td>\n",
              "      <td>0</td>\n",
              "    </tr>\n",
              "    <tr>\n",
              "      <th>882</th>\n",
              "      <td>883</td>\n",
              "      <td>3</td>\n",
              "      <td>Dahlberg, Miss. Gerda Ulrika</td>\n",
              "      <td>female</td>\n",
              "      <td>22.0</td>\n",
              "      <td>0</td>\n",
              "      <td>0</td>\n",
              "      <td>7552</td>\n",
              "      <td>10.5167</td>\n",
              "      <td>NaN</td>\n",
              "      <td>S</td>\n",
              "      <td>1</td>\n",
              "      <td>1</td>\n",
              "      <td>0</td>\n",
              "    </tr>\n",
              "    <tr>\n",
              "      <th>474</th>\n",
              "      <td>475</td>\n",
              "      <td>3</td>\n",
              "      <td>Strandberg, Miss. Ida Sofia</td>\n",
              "      <td>female</td>\n",
              "      <td>22.0</td>\n",
              "      <td>0</td>\n",
              "      <td>0</td>\n",
              "      <td>7553</td>\n",
              "      <td>9.8375</td>\n",
              "      <td>NaN</td>\n",
              "      <td>S</td>\n",
              "      <td>1</td>\n",
              "      <td>1</td>\n",
              "      <td>0</td>\n",
              "    </tr>\n",
              "    <tr>\n",
              "      <th>419</th>\n",
              "      <td>420</td>\n",
              "      <td>3</td>\n",
              "      <td>Van Impe, Miss. Catharina</td>\n",
              "      <td>female</td>\n",
              "      <td>10.0</td>\n",
              "      <td>0</td>\n",
              "      <td>2</td>\n",
              "      <td>345773</td>\n",
              "      <td>24.1500</td>\n",
              "      <td>NaN</td>\n",
              "      <td>S</td>\n",
              "      <td>1</td>\n",
              "      <td>1</td>\n",
              "      <td>0</td>\n",
              "    </tr>\n",
              "    <tr>\n",
              "      <th>357</th>\n",
              "      <td>358</td>\n",
              "      <td>2</td>\n",
              "      <td>Funk, Miss. Annie Clemmer</td>\n",
              "      <td>female</td>\n",
              "      <td>38.0</td>\n",
              "      <td>0</td>\n",
              "      <td>0</td>\n",
              "      <td>237671</td>\n",
              "      <td>13.0000</td>\n",
              "      <td>NaN</td>\n",
              "      <td>S</td>\n",
              "      <td>1</td>\n",
              "      <td>1</td>\n",
              "      <td>0</td>\n",
              "    </tr>\n",
              "    <tr>\n",
              "      <th>254</th>\n",
              "      <td>255</td>\n",
              "      <td>3</td>\n",
              "      <td>Rosblom, Mrs. Viktor (Helena Wilhelmina)</td>\n",
              "      <td>female</td>\n",
              "      <td>41.0</td>\n",
              "      <td>0</td>\n",
              "      <td>2</td>\n",
              "      <td>370129</td>\n",
              "      <td>20.2125</td>\n",
              "      <td>NaN</td>\n",
              "      <td>S</td>\n",
              "      <td>1</td>\n",
              "      <td>1</td>\n",
              "      <td>0</td>\n",
              "    </tr>\n",
              "    <tr>\n",
              "      <th>503</th>\n",
              "      <td>504</td>\n",
              "      <td>3</td>\n",
              "      <td>Laitinen, Miss. Kristina Sofia</td>\n",
              "      <td>female</td>\n",
              "      <td>37.0</td>\n",
              "      <td>0</td>\n",
              "      <td>0</td>\n",
              "      <td>4135</td>\n",
              "      <td>9.5875</td>\n",
              "      <td>NaN</td>\n",
              "      <td>S</td>\n",
              "      <td>1</td>\n",
              "      <td>1</td>\n",
              "      <td>0</td>\n",
              "    </tr>\n",
              "    <tr>\n",
              "      <th>654</th>\n",
              "      <td>655</td>\n",
              "      <td>3</td>\n",
              "      <td>Hegarty, Miss. Hanora \"Nora\"</td>\n",
              "      <td>female</td>\n",
              "      <td>18.0</td>\n",
              "      <td>0</td>\n",
              "      <td>0</td>\n",
              "      <td>365226</td>\n",
              "      <td>6.7500</td>\n",
              "      <td>NaN</td>\n",
              "      <td>Q</td>\n",
              "      <td>1</td>\n",
              "      <td>1</td>\n",
              "      <td>0</td>\n",
              "    </tr>\n",
              "    <tr>\n",
              "      <th>772</th>\n",
              "      <td>773</td>\n",
              "      <td>2</td>\n",
              "      <td>Mack, Mrs. (Mary)</td>\n",
              "      <td>female</td>\n",
              "      <td>57.0</td>\n",
              "      <td>0</td>\n",
              "      <td>0</td>\n",
              "      <td>S.O./P.P. 3</td>\n",
              "      <td>10.5000</td>\n",
              "      <td>E77</td>\n",
              "      <td>S</td>\n",
              "      <td>1</td>\n",
              "      <td>1</td>\n",
              "      <td>0</td>\n",
              "    </tr>\n",
              "    <tr>\n",
              "      <th>177</th>\n",
              "      <td>178</td>\n",
              "      <td>1</td>\n",
              "      <td>Isham, Miss. Ann Elizabeth</td>\n",
              "      <td>female</td>\n",
              "      <td>50.0</td>\n",
              "      <td>0</td>\n",
              "      <td>0</td>\n",
              "      <td>PC 17595</td>\n",
              "      <td>28.7125</td>\n",
              "      <td>C49</td>\n",
              "      <td>C</td>\n",
              "      <td>1</td>\n",
              "      <td>1</td>\n",
              "      <td>0</td>\n",
              "    </tr>\n",
              "    <tr>\n",
              "      <th>852</th>\n",
              "      <td>853</td>\n",
              "      <td>3</td>\n",
              "      <td>Boulos, Miss. Nourelain</td>\n",
              "      <td>female</td>\n",
              "      <td>9.0</td>\n",
              "      <td>1</td>\n",
              "      <td>1</td>\n",
              "      <td>2678</td>\n",
              "      <td>15.2458</td>\n",
              "      <td>NaN</td>\n",
              "      <td>C</td>\n",
              "      <td>1</td>\n",
              "      <td>1</td>\n",
              "      <td>0</td>\n",
              "    </tr>\n",
              "    <tr>\n",
              "      <th>854</th>\n",
              "      <td>855</td>\n",
              "      <td>2</td>\n",
              "      <td>Carter, Mrs. Ernest Courtenay (Lilian Hughes)</td>\n",
              "      <td>female</td>\n",
              "      <td>44.0</td>\n",
              "      <td>1</td>\n",
              "      <td>0</td>\n",
              "      <td>244252</td>\n",
              "      <td>26.0000</td>\n",
              "      <td>NaN</td>\n",
              "      <td>S</td>\n",
              "      <td>1</td>\n",
              "      <td>1</td>\n",
              "      <td>0</td>\n",
              "    </tr>\n",
              "    <tr>\n",
              "      <th>593</th>\n",
              "      <td>594</td>\n",
              "      <td>3</td>\n",
              "      <td>Bourke, Miss. Mary</td>\n",
              "      <td>female</td>\n",
              "      <td>NaN</td>\n",
              "      <td>0</td>\n",
              "      <td>2</td>\n",
              "      <td>364848</td>\n",
              "      <td>7.7500</td>\n",
              "      <td>NaN</td>\n",
              "      <td>Q</td>\n",
              "      <td>1</td>\n",
              "      <td>1</td>\n",
              "      <td>0</td>\n",
              "    </tr>\n",
              "    <tr>\n",
              "      <th>830</th>\n",
              "      <td>831</td>\n",
              "      <td>3</td>\n",
              "      <td>Yasbeck, Mrs. Antoni (Selini Alexander)</td>\n",
              "      <td>female</td>\n",
              "      <td>15.0</td>\n",
              "      <td>1</td>\n",
              "      <td>0</td>\n",
              "      <td>2659</td>\n",
              "      <td>14.4542</td>\n",
              "      <td>NaN</td>\n",
              "      <td>C</td>\n",
              "      <td>1</td>\n",
              "      <td>0</td>\n",
              "      <td>1</td>\n",
              "    </tr>\n",
              "    <tr>\n",
              "      <th>855</th>\n",
              "      <td>856</td>\n",
              "      <td>3</td>\n",
              "      <td>Aks, Mrs. Sam (Leah Rosen)</td>\n",
              "      <td>female</td>\n",
              "      <td>18.0</td>\n",
              "      <td>0</td>\n",
              "      <td>1</td>\n",
              "      <td>392091</td>\n",
              "      <td>9.3500</td>\n",
              "      <td>NaN</td>\n",
              "      <td>S</td>\n",
              "      <td>1</td>\n",
              "      <td>0</td>\n",
              "      <td>1</td>\n",
              "    </tr>\n",
              "    <tr>\n",
              "      <th>866</th>\n",
              "      <td>867</td>\n",
              "      <td>2</td>\n",
              "      <td>Duran y More, Miss. Asuncion</td>\n",
              "      <td>female</td>\n",
              "      <td>27.0</td>\n",
              "      <td>1</td>\n",
              "      <td>0</td>\n",
              "      <td>SC/PARIS 2149</td>\n",
              "      <td>13.8583</td>\n",
              "      <td>NaN</td>\n",
              "      <td>C</td>\n",
              "      <td>1</td>\n",
              "      <td>0</td>\n",
              "      <td>1</td>\n",
              "    </tr>\n",
              "    <tr>\n",
              "      <th>677</th>\n",
              "      <td>678</td>\n",
              "      <td>3</td>\n",
              "      <td>Turja, Miss. Anna Sofia</td>\n",
              "      <td>female</td>\n",
              "      <td>18.0</td>\n",
              "      <td>0</td>\n",
              "      <td>0</td>\n",
              "      <td>4138</td>\n",
              "      <td>9.8417</td>\n",
              "      <td>NaN</td>\n",
              "      <td>S</td>\n",
              "      <td>1</td>\n",
              "      <td>0</td>\n",
              "      <td>1</td>\n",
              "    </tr>\n",
              "    <tr>\n",
              "      <th>2</th>\n",
              "      <td>3</td>\n",
              "      <td>3</td>\n",
              "      <td>Heikkinen, Miss. Laina</td>\n",
              "      <td>female</td>\n",
              "      <td>26.0</td>\n",
              "      <td>0</td>\n",
              "      <td>0</td>\n",
              "      <td>STON/O2. 3101282</td>\n",
              "      <td>7.9250</td>\n",
              "      <td>NaN</td>\n",
              "      <td>S</td>\n",
              "      <td>1</td>\n",
              "      <td>0</td>\n",
              "      <td>1</td>\n",
              "    </tr>\n",
              "    <tr>\n",
              "      <th>216</th>\n",
              "      <td>217</td>\n",
              "      <td>3</td>\n",
              "      <td>Honkanen, Miss. Eliina</td>\n",
              "      <td>female</td>\n",
              "      <td>27.0</td>\n",
              "      <td>0</td>\n",
              "      <td>0</td>\n",
              "      <td>STON/O2. 3101283</td>\n",
              "      <td>7.9250</td>\n",
              "      <td>NaN</td>\n",
              "      <td>S</td>\n",
              "      <td>1</td>\n",
              "      <td>0</td>\n",
              "      <td>1</td>\n",
              "    </tr>\n",
              "    <tr>\n",
              "      <th>192</th>\n",
              "      <td>193</td>\n",
              "      <td>3</td>\n",
              "      <td>Andersen-Jensen, Miss. Carla Christine Nielsine</td>\n",
              "      <td>female</td>\n",
              "      <td>19.0</td>\n",
              "      <td>1</td>\n",
              "      <td>0</td>\n",
              "      <td>350046</td>\n",
              "      <td>7.8542</td>\n",
              "      <td>NaN</td>\n",
              "      <td>S</td>\n",
              "      <td>1</td>\n",
              "      <td>0</td>\n",
              "      <td>1</td>\n",
              "    </tr>\n",
              "    <tr>\n",
              "      <th>142</th>\n",
              "      <td>143</td>\n",
              "      <td>3</td>\n",
              "      <td>Hakkarainen, Mrs. Pekka Pietari (Elin Matilda ...</td>\n",
              "      <td>female</td>\n",
              "      <td>24.0</td>\n",
              "      <td>1</td>\n",
              "      <td>0</td>\n",
              "      <td>STON/O2. 3101279</td>\n",
              "      <td>15.8500</td>\n",
              "      <td>NaN</td>\n",
              "      <td>S</td>\n",
              "      <td>1</td>\n",
              "      <td>0</td>\n",
              "      <td>1</td>\n",
              "    </tr>\n",
              "    <tr>\n",
              "      <th>85</th>\n",
              "      <td>86</td>\n",
              "      <td>3</td>\n",
              "      <td>Backstrom, Mrs. Karl Alfred (Maria Mathilda Gu...</td>\n",
              "      <td>female</td>\n",
              "      <td>33.0</td>\n",
              "      <td>3</td>\n",
              "      <td>0</td>\n",
              "      <td>3101278</td>\n",
              "      <td>15.8500</td>\n",
              "      <td>NaN</td>\n",
              "      <td>S</td>\n",
              "      <td>1</td>\n",
              "      <td>0</td>\n",
              "      <td>1</td>\n",
              "    </tr>\n",
              "    <tr>\n",
              "      <th>44</th>\n",
              "      <td>45</td>\n",
              "      <td>3</td>\n",
              "      <td>Devaney, Miss. Margaret Delia</td>\n",
              "      <td>female</td>\n",
              "      <td>19.0</td>\n",
              "      <td>0</td>\n",
              "      <td>0</td>\n",
              "      <td>330958</td>\n",
              "      <td>7.8792</td>\n",
              "      <td>NaN</td>\n",
              "      <td>Q</td>\n",
              "      <td>1</td>\n",
              "      <td>0</td>\n",
              "      <td>1</td>\n",
              "    </tr>\n",
              "    <tr>\n",
              "      <th>25</th>\n",
              "      <td>26</td>\n",
              "      <td>3</td>\n",
              "      <td>Asplund, Mrs. Carl Oscar (Selma Augusta Emilia...</td>\n",
              "      <td>female</td>\n",
              "      <td>38.0</td>\n",
              "      <td>1</td>\n",
              "      <td>5</td>\n",
              "      <td>347077</td>\n",
              "      <td>31.3875</td>\n",
              "      <td>NaN</td>\n",
              "      <td>S</td>\n",
              "      <td>1</td>\n",
              "      <td>0</td>\n",
              "      <td>1</td>\n",
              "    </tr>\n",
              "    <tr>\n",
              "      <th>22</th>\n",
              "      <td>23</td>\n",
              "      <td>3</td>\n",
              "      <td>McGowan, Miss. Anna \"Annie\"</td>\n",
              "      <td>female</td>\n",
              "      <td>15.0</td>\n",
              "      <td>0</td>\n",
              "      <td>0</td>\n",
              "      <td>330923</td>\n",
              "      <td>8.0292</td>\n",
              "      <td>NaN</td>\n",
              "      <td>Q</td>\n",
              "      <td>1</td>\n",
              "      <td>0</td>\n",
              "      <td>1</td>\n",
              "    </tr>\n",
              "    <tr>\n",
              "      <th>233</th>\n",
              "      <td>234</td>\n",
              "      <td>3</td>\n",
              "      <td>Asplund, Miss. Lillian Gertrud</td>\n",
              "      <td>female</td>\n",
              "      <td>5.0</td>\n",
              "      <td>4</td>\n",
              "      <td>2</td>\n",
              "      <td>347077</td>\n",
              "      <td>31.3875</td>\n",
              "      <td>NaN</td>\n",
              "      <td>S</td>\n",
              "      <td>1</td>\n",
              "      <td>0</td>\n",
              "      <td>1</td>\n",
              "    </tr>\n",
              "    <tr>\n",
              "      <th>479</th>\n",
              "      <td>480</td>\n",
              "      <td>3</td>\n",
              "      <td>Hirvonen, Miss. Hildur E</td>\n",
              "      <td>female</td>\n",
              "      <td>2.0</td>\n",
              "      <td>0</td>\n",
              "      <td>1</td>\n",
              "      <td>3101298</td>\n",
              "      <td>12.2875</td>\n",
              "      <td>NaN</td>\n",
              "      <td>S</td>\n",
              "      <td>1</td>\n",
              "      <td>0</td>\n",
              "      <td>1</td>\n",
              "    </tr>\n",
              "  </tbody>\n",
              "</table>\n",
              "</div>"
            ],
            "text/plain": [
              "     PassengerId  Pclass  ...  p Survived\n",
              "888          889       3  ...  1        0\n",
              "501          502       3  ...  1        0\n",
              "498          499       1  ...  1        0\n",
              "882          883       3  ...  1        0\n",
              "474          475       3  ...  1        0\n",
              "419          420       3  ...  1        0\n",
              "357          358       2  ...  1        0\n",
              "254          255       3  ...  1        0\n",
              "503          504       3  ...  1        0\n",
              "654          655       3  ...  1        0\n",
              "772          773       2  ...  1        0\n",
              "177          178       1  ...  1        0\n",
              "852          853       3  ...  1        0\n",
              "854          855       2  ...  1        0\n",
              "593          594       3  ...  1        0\n",
              "830          831       3  ...  0        1\n",
              "855          856       3  ...  0        1\n",
              "866          867       2  ...  0        1\n",
              "677          678       3  ...  0        1\n",
              "2              3       3  ...  0        1\n",
              "216          217       3  ...  0        1\n",
              "192          193       3  ...  0        1\n",
              "142          143       3  ...  0        1\n",
              "85            86       3  ...  0        1\n",
              "44            45       3  ...  0        1\n",
              "25            26       3  ...  0        1\n",
              "22            23       3  ...  0        1\n",
              "233          234       3  ...  0        1\n",
              "479          480       3  ...  0        1\n",
              "\n",
              "[29 rows x 14 columns]"
            ]
          },
          "metadata": {
            "tags": []
          },
          "execution_count": 53
        }
      ]
    },
    {
      "cell_type": "code",
      "metadata": {
        "id": "pAVgderf4z3J",
        "colab_type": "code",
        "outputId": "5864a79e-1a7f-4cd2-f2e8-4736f6d7daa7",
        "colab": {
          "base_uri": "https://localhost:8080/",
          "height": 0
        }
      },
      "source": [
        "men.sort_values('Survived')"
      ],
      "execution_count": 54,
      "outputs": [
        {
          "output_type": "execute_result",
          "data": {
            "text/html": [
              "<div>\n",
              "<style scoped>\n",
              "    .dataframe tbody tr th:only-of-type {\n",
              "        vertical-align: middle;\n",
              "    }\n",
              "\n",
              "    .dataframe tbody tr th {\n",
              "        vertical-align: top;\n",
              "    }\n",
              "\n",
              "    .dataframe thead th {\n",
              "        text-align: right;\n",
              "    }\n",
              "</style>\n",
              "<table border=\"1\" class=\"dataframe\">\n",
              "  <thead>\n",
              "    <tr style=\"text-align: right;\">\n",
              "      <th></th>\n",
              "      <th>PassengerId</th>\n",
              "      <th>Pclass</th>\n",
              "      <th>Name</th>\n",
              "      <th>Sex</th>\n",
              "      <th>Age</th>\n",
              "      <th>SibSp</th>\n",
              "      <th>Parch</th>\n",
              "      <th>Ticket</th>\n",
              "      <th>Fare</th>\n",
              "      <th>Cabin</th>\n",
              "      <th>Embarked</th>\n",
              "      <th>Sex_bin</th>\n",
              "      <th>p</th>\n",
              "      <th>Survived</th>\n",
              "    </tr>\n",
              "  </thead>\n",
              "  <tbody>\n",
              "    <tr>\n",
              "      <th>238</th>\n",
              "      <td>239</td>\n",
              "      <td>2</td>\n",
              "      <td>Pengelly, Mr. Frederick William</td>\n",
              "      <td>male</td>\n",
              "      <td>19.00</td>\n",
              "      <td>0</td>\n",
              "      <td>0</td>\n",
              "      <td>28665</td>\n",
              "      <td>10.5000</td>\n",
              "      <td>NaN</td>\n",
              "      <td>S</td>\n",
              "      <td>0</td>\n",
              "      <td>1</td>\n",
              "      <td>0</td>\n",
              "    </tr>\n",
              "    <tr>\n",
              "      <th>442</th>\n",
              "      <td>443</td>\n",
              "      <td>3</td>\n",
              "      <td>Petterson, Mr. Johan Emil</td>\n",
              "      <td>male</td>\n",
              "      <td>25.00</td>\n",
              "      <td>1</td>\n",
              "      <td>0</td>\n",
              "      <td>347076</td>\n",
              "      <td>7.7750</td>\n",
              "      <td>NaN</td>\n",
              "      <td>S</td>\n",
              "      <td>0</td>\n",
              "      <td>1</td>\n",
              "      <td>0</td>\n",
              "    </tr>\n",
              "    <tr>\n",
              "      <th>422</th>\n",
              "      <td>423</td>\n",
              "      <td>3</td>\n",
              "      <td>Zimmerman, Mr. Leo</td>\n",
              "      <td>male</td>\n",
              "      <td>29.00</td>\n",
              "      <td>0</td>\n",
              "      <td>0</td>\n",
              "      <td>315082</td>\n",
              "      <td>7.8750</td>\n",
              "      <td>NaN</td>\n",
              "      <td>S</td>\n",
              "      <td>0</td>\n",
              "      <td>1</td>\n",
              "      <td>0</td>\n",
              "    </tr>\n",
              "    <tr>\n",
              "      <th>373</th>\n",
              "      <td>374</td>\n",
              "      <td>1</td>\n",
              "      <td>Ringhini, Mr. Sante</td>\n",
              "      <td>male</td>\n",
              "      <td>22.00</td>\n",
              "      <td>0</td>\n",
              "      <td>0</td>\n",
              "      <td>PC 17760</td>\n",
              "      <td>135.6333</td>\n",
              "      <td>NaN</td>\n",
              "      <td>C</td>\n",
              "      <td>0</td>\n",
              "      <td>1</td>\n",
              "      <td>0</td>\n",
              "    </tr>\n",
              "    <tr>\n",
              "      <th>371</th>\n",
              "      <td>372</td>\n",
              "      <td>3</td>\n",
              "      <td>Wiklund, Mr. Jakob Alfred</td>\n",
              "      <td>male</td>\n",
              "      <td>18.00</td>\n",
              "      <td>1</td>\n",
              "      <td>0</td>\n",
              "      <td>3101267</td>\n",
              "      <td>6.4958</td>\n",
              "      <td>NaN</td>\n",
              "      <td>S</td>\n",
              "      <td>0</td>\n",
              "      <td>1</td>\n",
              "      <td>0</td>\n",
              "    </tr>\n",
              "    <tr>\n",
              "      <th>698</th>\n",
              "      <td>699</td>\n",
              "      <td>1</td>\n",
              "      <td>Thayer, Mr. John Borland</td>\n",
              "      <td>male</td>\n",
              "      <td>49.00</td>\n",
              "      <td>1</td>\n",
              "      <td>1</td>\n",
              "      <td>17421</td>\n",
              "      <td>110.8833</td>\n",
              "      <td>C68</td>\n",
              "      <td>C</td>\n",
              "      <td>0</td>\n",
              "      <td>1</td>\n",
              "      <td>0</td>\n",
              "    </tr>\n",
              "    <tr>\n",
              "      <th>262</th>\n",
              "      <td>263</td>\n",
              "      <td>1</td>\n",
              "      <td>Taussig, Mr. Emil</td>\n",
              "      <td>male</td>\n",
              "      <td>52.00</td>\n",
              "      <td>1</td>\n",
              "      <td>1</td>\n",
              "      <td>110413</td>\n",
              "      <td>79.6500</td>\n",
              "      <td>E67</td>\n",
              "      <td>S</td>\n",
              "      <td>0</td>\n",
              "      <td>1</td>\n",
              "      <td>0</td>\n",
              "    </tr>\n",
              "    <tr>\n",
              "      <th>231</th>\n",
              "      <td>232</td>\n",
              "      <td>3</td>\n",
              "      <td>Larsson, Mr. Bengt Edvin</td>\n",
              "      <td>male</td>\n",
              "      <td>29.00</td>\n",
              "      <td>0</td>\n",
              "      <td>0</td>\n",
              "      <td>347067</td>\n",
              "      <td>7.7750</td>\n",
              "      <td>NaN</td>\n",
              "      <td>S</td>\n",
              "      <td>0</td>\n",
              "      <td>1</td>\n",
              "      <td>0</td>\n",
              "    </tr>\n",
              "    <tr>\n",
              "      <th>214</th>\n",
              "      <td>215</td>\n",
              "      <td>3</td>\n",
              "      <td>Kiernan, Mr. Philip</td>\n",
              "      <td>male</td>\n",
              "      <td>NaN</td>\n",
              "      <td>1</td>\n",
              "      <td>0</td>\n",
              "      <td>367229</td>\n",
              "      <td>7.7500</td>\n",
              "      <td>NaN</td>\n",
              "      <td>Q</td>\n",
              "      <td>0</td>\n",
              "      <td>1</td>\n",
              "      <td>0</td>\n",
              "    </tr>\n",
              "    <tr>\n",
              "      <th>721</th>\n",
              "      <td>722</td>\n",
              "      <td>3</td>\n",
              "      <td>Jensen, Mr. Svend Lauritz</td>\n",
              "      <td>male</td>\n",
              "      <td>17.00</td>\n",
              "      <td>1</td>\n",
              "      <td>0</td>\n",
              "      <td>350048</td>\n",
              "      <td>7.0542</td>\n",
              "      <td>NaN</td>\n",
              "      <td>S</td>\n",
              "      <td>0</td>\n",
              "      <td>1</td>\n",
              "      <td>0</td>\n",
              "    </tr>\n",
              "    <tr>\n",
              "      <th>169</th>\n",
              "      <td>170</td>\n",
              "      <td>3</td>\n",
              "      <td>Ling, Mr. Lee</td>\n",
              "      <td>male</td>\n",
              "      <td>28.00</td>\n",
              "      <td>0</td>\n",
              "      <td>0</td>\n",
              "      <td>1601</td>\n",
              "      <td>56.4958</td>\n",
              "      <td>NaN</td>\n",
              "      <td>S</td>\n",
              "      <td>0</td>\n",
              "      <td>1</td>\n",
              "      <td>0</td>\n",
              "    </tr>\n",
              "    <tr>\n",
              "      <th>544</th>\n",
              "      <td>545</td>\n",
              "      <td>1</td>\n",
              "      <td>Douglas, Mr. Walter Donald</td>\n",
              "      <td>male</td>\n",
              "      <td>50.00</td>\n",
              "      <td>1</td>\n",
              "      <td>0</td>\n",
              "      <td>PC 17761</td>\n",
              "      <td>106.4250</td>\n",
              "      <td>C86</td>\n",
              "      <td>C</td>\n",
              "      <td>0</td>\n",
              "      <td>1</td>\n",
              "      <td>0</td>\n",
              "    </tr>\n",
              "    <tr>\n",
              "      <th>783</th>\n",
              "      <td>784</td>\n",
              "      <td>3</td>\n",
              "      <td>Johnston, Mr. Andrew G</td>\n",
              "      <td>male</td>\n",
              "      <td>NaN</td>\n",
              "      <td>1</td>\n",
              "      <td>2</td>\n",
              "      <td>W./C. 6607</td>\n",
              "      <td>23.4500</td>\n",
              "      <td>NaN</td>\n",
              "      <td>S</td>\n",
              "      <td>0</td>\n",
              "      <td>1</td>\n",
              "      <td>0</td>\n",
              "    </tr>\n",
              "    <tr>\n",
              "      <th>139</th>\n",
              "      <td>140</td>\n",
              "      <td>1</td>\n",
              "      <td>Giglio, Mr. Victor</td>\n",
              "      <td>male</td>\n",
              "      <td>24.00</td>\n",
              "      <td>0</td>\n",
              "      <td>0</td>\n",
              "      <td>PC 17593</td>\n",
              "      <td>79.2000</td>\n",
              "      <td>B86</td>\n",
              "      <td>C</td>\n",
              "      <td>0</td>\n",
              "      <td>1</td>\n",
              "      <td>0</td>\n",
              "    </tr>\n",
              "    <tr>\n",
              "      <th>122</th>\n",
              "      <td>123</td>\n",
              "      <td>2</td>\n",
              "      <td>Nasser, Mr. Nicholas</td>\n",
              "      <td>male</td>\n",
              "      <td>32.50</td>\n",
              "      <td>1</td>\n",
              "      <td>0</td>\n",
              "      <td>237736</td>\n",
              "      <td>30.0708</td>\n",
              "      <td>NaN</td>\n",
              "      <td>C</td>\n",
              "      <td>0</td>\n",
              "      <td>1</td>\n",
              "      <td>0</td>\n",
              "    </tr>\n",
              "    <tr>\n",
              "      <th>118</th>\n",
              "      <td>119</td>\n",
              "      <td>1</td>\n",
              "      <td>Baxter, Mr. Quigg Edmond</td>\n",
              "      <td>male</td>\n",
              "      <td>24.00</td>\n",
              "      <td>0</td>\n",
              "      <td>1</td>\n",
              "      <td>PC 17558</td>\n",
              "      <td>247.5208</td>\n",
              "      <td>B58 B60</td>\n",
              "      <td>C</td>\n",
              "      <td>0</td>\n",
              "      <td>1</td>\n",
              "      <td>0</td>\n",
              "    </tr>\n",
              "    <tr>\n",
              "      <th>102</th>\n",
              "      <td>103</td>\n",
              "      <td>1</td>\n",
              "      <td>White, Mr. Richard Frasar</td>\n",
              "      <td>male</td>\n",
              "      <td>21.00</td>\n",
              "      <td>0</td>\n",
              "      <td>1</td>\n",
              "      <td>35281</td>\n",
              "      <td>77.2875</td>\n",
              "      <td>D26</td>\n",
              "      <td>S</td>\n",
              "      <td>0</td>\n",
              "      <td>1</td>\n",
              "      <td>0</td>\n",
              "    </tr>\n",
              "    <tr>\n",
              "      <th>48</th>\n",
              "      <td>49</td>\n",
              "      <td>3</td>\n",
              "      <td>Samaan, Mr. Youssef</td>\n",
              "      <td>male</td>\n",
              "      <td>NaN</td>\n",
              "      <td>2</td>\n",
              "      <td>0</td>\n",
              "      <td>2662</td>\n",
              "      <td>21.6792</td>\n",
              "      <td>NaN</td>\n",
              "      <td>C</td>\n",
              "      <td>0</td>\n",
              "      <td>1</td>\n",
              "      <td>0</td>\n",
              "    </tr>\n",
              "    <tr>\n",
              "      <th>27</th>\n",
              "      <td>28</td>\n",
              "      <td>1</td>\n",
              "      <td>Fortune, Mr. Charles Alexander</td>\n",
              "      <td>male</td>\n",
              "      <td>19.00</td>\n",
              "      <td>3</td>\n",
              "      <td>2</td>\n",
              "      <td>19950</td>\n",
              "      <td>263.0000</td>\n",
              "      <td>C23 C25 C27</td>\n",
              "      <td>S</td>\n",
              "      <td>0</td>\n",
              "      <td>1</td>\n",
              "      <td>0</td>\n",
              "    </tr>\n",
              "    <tr>\n",
              "      <th>34</th>\n",
              "      <td>35</td>\n",
              "      <td>1</td>\n",
              "      <td>Meyer, Mr. Edgar Joseph</td>\n",
              "      <td>male</td>\n",
              "      <td>28.00</td>\n",
              "      <td>1</td>\n",
              "      <td>0</td>\n",
              "      <td>PC 17604</td>\n",
              "      <td>82.1708</td>\n",
              "      <td>NaN</td>\n",
              "      <td>C</td>\n",
              "      <td>0</td>\n",
              "      <td>1</td>\n",
              "      <td>0</td>\n",
              "    </tr>\n",
              "    <tr>\n",
              "      <th>579</th>\n",
              "      <td>580</td>\n",
              "      <td>3</td>\n",
              "      <td>Jussila, Mr. Eiriik</td>\n",
              "      <td>male</td>\n",
              "      <td>32.00</td>\n",
              "      <td>0</td>\n",
              "      <td>0</td>\n",
              "      <td>STON/O 2. 3101286</td>\n",
              "      <td>7.9250</td>\n",
              "      <td>NaN</td>\n",
              "      <td>S</td>\n",
              "      <td>0</td>\n",
              "      <td>0</td>\n",
              "      <td>1</td>\n",
              "    </tr>\n",
              "    <tr>\n",
              "      <th>621</th>\n",
              "      <td>622</td>\n",
              "      <td>1</td>\n",
              "      <td>Kimball, Mr. Edwin Nelson Jr</td>\n",
              "      <td>male</td>\n",
              "      <td>42.00</td>\n",
              "      <td>1</td>\n",
              "      <td>0</td>\n",
              "      <td>11753</td>\n",
              "      <td>52.5542</td>\n",
              "      <td>D19</td>\n",
              "      <td>S</td>\n",
              "      <td>0</td>\n",
              "      <td>0</td>\n",
              "      <td>1</td>\n",
              "    </tr>\n",
              "    <tr>\n",
              "      <th>803</th>\n",
              "      <td>804</td>\n",
              "      <td>3</td>\n",
              "      <td>Thomas, Master. Assad Alexander</td>\n",
              "      <td>male</td>\n",
              "      <td>0.42</td>\n",
              "      <td>0</td>\n",
              "      <td>1</td>\n",
              "      <td>2625</td>\n",
              "      <td>8.5167</td>\n",
              "      <td>NaN</td>\n",
              "      <td>C</td>\n",
              "      <td>0</td>\n",
              "      <td>0</td>\n",
              "      <td>1</td>\n",
              "    </tr>\n",
              "    <tr>\n",
              "      <th>622</th>\n",
              "      <td>623</td>\n",
              "      <td>3</td>\n",
              "      <td>Nakid, Mr. Sahid</td>\n",
              "      <td>male</td>\n",
              "      <td>20.00</td>\n",
              "      <td>1</td>\n",
              "      <td>1</td>\n",
              "      <td>2653</td>\n",
              "      <td>15.7417</td>\n",
              "      <td>NaN</td>\n",
              "      <td>C</td>\n",
              "      <td>0</td>\n",
              "      <td>0</td>\n",
              "      <td>1</td>\n",
              "    </tr>\n",
              "    <tr>\n",
              "      <th>630</th>\n",
              "      <td>631</td>\n",
              "      <td>1</td>\n",
              "      <td>Barkworth, Mr. Algernon Henry Wilson</td>\n",
              "      <td>male</td>\n",
              "      <td>80.00</td>\n",
              "      <td>0</td>\n",
              "      <td>0</td>\n",
              "      <td>27042</td>\n",
              "      <td>30.0000</td>\n",
              "      <td>A23</td>\n",
              "      <td>S</td>\n",
              "      <td>0</td>\n",
              "      <td>0</td>\n",
              "      <td>1</td>\n",
              "    </tr>\n",
              "    <tr>\n",
              "      <th>643</th>\n",
              "      <td>644</td>\n",
              "      <td>3</td>\n",
              "      <td>Foo, Mr. Choong</td>\n",
              "      <td>male</td>\n",
              "      <td>NaN</td>\n",
              "      <td>0</td>\n",
              "      <td>0</td>\n",
              "      <td>1601</td>\n",
              "      <td>56.4958</td>\n",
              "      <td>NaN</td>\n",
              "      <td>S</td>\n",
              "      <td>0</td>\n",
              "      <td>0</td>\n",
              "      <td>1</td>\n",
              "    </tr>\n",
              "    <tr>\n",
              "      <th>744</th>\n",
              "      <td>745</td>\n",
              "      <td>3</td>\n",
              "      <td>Stranden, Mr. Juho</td>\n",
              "      <td>male</td>\n",
              "      <td>31.00</td>\n",
              "      <td>0</td>\n",
              "      <td>0</td>\n",
              "      <td>STON/O 2. 3101288</td>\n",
              "      <td>7.9250</td>\n",
              "      <td>NaN</td>\n",
              "      <td>S</td>\n",
              "      <td>0</td>\n",
              "      <td>0</td>\n",
              "      <td>1</td>\n",
              "    </tr>\n",
              "    <tr>\n",
              "      <th>751</th>\n",
              "      <td>752</td>\n",
              "      <td>3</td>\n",
              "      <td>Moor, Master. Meier</td>\n",
              "      <td>male</td>\n",
              "      <td>6.00</td>\n",
              "      <td>0</td>\n",
              "      <td>1</td>\n",
              "      <td>392096</td>\n",
              "      <td>12.4750</td>\n",
              "      <td>E121</td>\n",
              "      <td>S</td>\n",
              "      <td>0</td>\n",
              "      <td>0</td>\n",
              "      <td>1</td>\n",
              "    </tr>\n",
              "    <tr>\n",
              "      <th>673</th>\n",
              "      <td>674</td>\n",
              "      <td>2</td>\n",
              "      <td>Wilhelms, Mr. Charles</td>\n",
              "      <td>male</td>\n",
              "      <td>31.00</td>\n",
              "      <td>0</td>\n",
              "      <td>0</td>\n",
              "      <td>244270</td>\n",
              "      <td>13.0000</td>\n",
              "      <td>NaN</td>\n",
              "      <td>S</td>\n",
              "      <td>0</td>\n",
              "      <td>0</td>\n",
              "      <td>1</td>\n",
              "    </tr>\n",
              "    <tr>\n",
              "      <th>690</th>\n",
              "      <td>691</td>\n",
              "      <td>1</td>\n",
              "      <td>Dick, Mr. Albert Adrian</td>\n",
              "      <td>male</td>\n",
              "      <td>31.00</td>\n",
              "      <td>1</td>\n",
              "      <td>0</td>\n",
              "      <td>17474</td>\n",
              "      <td>57.0000</td>\n",
              "      <td>B20</td>\n",
              "      <td>S</td>\n",
              "      <td>0</td>\n",
              "      <td>0</td>\n",
              "      <td>1</td>\n",
              "    </tr>\n",
              "    <tr>\n",
              "      <th>762</th>\n",
              "      <td>763</td>\n",
              "      <td>3</td>\n",
              "      <td>Barah, Mr. Hanna Assi</td>\n",
              "      <td>male</td>\n",
              "      <td>20.00</td>\n",
              "      <td>0</td>\n",
              "      <td>0</td>\n",
              "      <td>2663</td>\n",
              "      <td>7.2292</td>\n",
              "      <td>NaN</td>\n",
              "      <td>C</td>\n",
              "      <td>0</td>\n",
              "      <td>0</td>\n",
              "      <td>1</td>\n",
              "    </tr>\n",
              "    <tr>\n",
              "      <th>707</th>\n",
              "      <td>708</td>\n",
              "      <td>1</td>\n",
              "      <td>Calderhead, Mr. Edward Pennington</td>\n",
              "      <td>male</td>\n",
              "      <td>42.00</td>\n",
              "      <td>0</td>\n",
              "      <td>0</td>\n",
              "      <td>PC 17476</td>\n",
              "      <td>26.2875</td>\n",
              "      <td>E24</td>\n",
              "      <td>S</td>\n",
              "      <td>0</td>\n",
              "      <td>0</td>\n",
              "      <td>1</td>\n",
              "    </tr>\n",
              "    <tr>\n",
              "      <th>569</th>\n",
              "      <td>570</td>\n",
              "      <td>3</td>\n",
              "      <td>Jonsson, Mr. Carl</td>\n",
              "      <td>male</td>\n",
              "      <td>32.00</td>\n",
              "      <td>0</td>\n",
              "      <td>0</td>\n",
              "      <td>350417</td>\n",
              "      <td>7.8542</td>\n",
              "      <td>NaN</td>\n",
              "      <td>S</td>\n",
              "      <td>0</td>\n",
              "      <td>0</td>\n",
              "      <td>1</td>\n",
              "    </tr>\n",
              "    <tr>\n",
              "      <th>647</th>\n",
              "      <td>648</td>\n",
              "      <td>1</td>\n",
              "      <td>Simonius-Blumer, Col. Oberst Alfons</td>\n",
              "      <td>male</td>\n",
              "      <td>56.00</td>\n",
              "      <td>0</td>\n",
              "      <td>0</td>\n",
              "      <td>13213</td>\n",
              "      <td>35.5000</td>\n",
              "      <td>A26</td>\n",
              "      <td>C</td>\n",
              "      <td>0</td>\n",
              "      <td>0</td>\n",
              "      <td>1</td>\n",
              "    </tr>\n",
              "    <tr>\n",
              "      <th>21</th>\n",
              "      <td>22</td>\n",
              "      <td>2</td>\n",
              "      <td>Beesley, Mr. Lawrence</td>\n",
              "      <td>male</td>\n",
              "      <td>34.00</td>\n",
              "      <td>0</td>\n",
              "      <td>0</td>\n",
              "      <td>248698</td>\n",
              "      <td>13.0000</td>\n",
              "      <td>D56</td>\n",
              "      <td>S</td>\n",
              "      <td>0</td>\n",
              "      <td>0</td>\n",
              "      <td>1</td>\n",
              "    </tr>\n",
              "    <tr>\n",
              "      <th>414</th>\n",
              "      <td>415</td>\n",
              "      <td>3</td>\n",
              "      <td>Sundman, Mr. Johan Julian</td>\n",
              "      <td>male</td>\n",
              "      <td>44.00</td>\n",
              "      <td>0</td>\n",
              "      <td>0</td>\n",
              "      <td>STON/O 2. 3101269</td>\n",
              "      <td>7.9250</td>\n",
              "      <td>NaN</td>\n",
              "      <td>S</td>\n",
              "      <td>0</td>\n",
              "      <td>0</td>\n",
              "      <td>1</td>\n",
              "    </tr>\n",
              "    <tr>\n",
              "      <th>489</th>\n",
              "      <td>490</td>\n",
              "      <td>3</td>\n",
              "      <td>Coutts, Master. Eden Leslie \"Neville\"</td>\n",
              "      <td>male</td>\n",
              "      <td>9.00</td>\n",
              "      <td>1</td>\n",
              "      <td>1</td>\n",
              "      <td>C.A. 37671</td>\n",
              "      <td>15.9000</td>\n",
              "      <td>NaN</td>\n",
              "      <td>S</td>\n",
              "      <td>0</td>\n",
              "      <td>0</td>\n",
              "      <td>1</td>\n",
              "    </tr>\n",
              "    <tr>\n",
              "      <th>23</th>\n",
              "      <td>24</td>\n",
              "      <td>1</td>\n",
              "      <td>Sloper, Mr. William Thompson</td>\n",
              "      <td>male</td>\n",
              "      <td>28.00</td>\n",
              "      <td>0</td>\n",
              "      <td>0</td>\n",
              "      <td>113788</td>\n",
              "      <td>35.5000</td>\n",
              "      <td>A6</td>\n",
              "      <td>S</td>\n",
              "      <td>0</td>\n",
              "      <td>0</td>\n",
              "      <td>1</td>\n",
              "    </tr>\n",
              "    <tr>\n",
              "      <th>36</th>\n",
              "      <td>37</td>\n",
              "      <td>3</td>\n",
              "      <td>Mamee, Mr. Hanna</td>\n",
              "      <td>male</td>\n",
              "      <td>NaN</td>\n",
              "      <td>0</td>\n",
              "      <td>0</td>\n",
              "      <td>2677</td>\n",
              "      <td>7.2292</td>\n",
              "      <td>NaN</td>\n",
              "      <td>C</td>\n",
              "      <td>0</td>\n",
              "      <td>0</td>\n",
              "      <td>1</td>\n",
              "    </tr>\n",
              "    <tr>\n",
              "      <th>55</th>\n",
              "      <td>56</td>\n",
              "      <td>1</td>\n",
              "      <td>Woolner, Mr. Hugh</td>\n",
              "      <td>male</td>\n",
              "      <td>NaN</td>\n",
              "      <td>0</td>\n",
              "      <td>0</td>\n",
              "      <td>19947</td>\n",
              "      <td>35.5000</td>\n",
              "      <td>C52</td>\n",
              "      <td>S</td>\n",
              "      <td>0</td>\n",
              "      <td>0</td>\n",
              "      <td>1</td>\n",
              "    </tr>\n",
              "    <tr>\n",
              "      <th>146</th>\n",
              "      <td>147</td>\n",
              "      <td>3</td>\n",
              "      <td>Andersson, Mr. August Edvard (\"Wennerstrom\")</td>\n",
              "      <td>male</td>\n",
              "      <td>27.00</td>\n",
              "      <td>0</td>\n",
              "      <td>0</td>\n",
              "      <td>350043</td>\n",
              "      <td>7.7958</td>\n",
              "      <td>NaN</td>\n",
              "      <td>S</td>\n",
              "      <td>0</td>\n",
              "      <td>0</td>\n",
              "      <td>1</td>\n",
              "    </tr>\n",
              "    <tr>\n",
              "      <th>165</th>\n",
              "      <td>166</td>\n",
              "      <td>3</td>\n",
              "      <td>Goldsmith, Master. Frank John William \"Frankie\"</td>\n",
              "      <td>male</td>\n",
              "      <td>9.00</td>\n",
              "      <td>0</td>\n",
              "      <td>2</td>\n",
              "      <td>363291</td>\n",
              "      <td>20.5250</td>\n",
              "      <td>NaN</td>\n",
              "      <td>S</td>\n",
              "      <td>0</td>\n",
              "      <td>0</td>\n",
              "      <td>1</td>\n",
              "    </tr>\n",
              "    <tr>\n",
              "      <th>187</th>\n",
              "      <td>188</td>\n",
              "      <td>1</td>\n",
              "      <td>Romaine, Mr. Charles Hallace (\"Mr C Rolmane\")</td>\n",
              "      <td>male</td>\n",
              "      <td>45.00</td>\n",
              "      <td>0</td>\n",
              "      <td>0</td>\n",
              "      <td>111428</td>\n",
              "      <td>26.5500</td>\n",
              "      <td>NaN</td>\n",
              "      <td>S</td>\n",
              "      <td>0</td>\n",
              "      <td>0</td>\n",
              "      <td>1</td>\n",
              "    </tr>\n",
              "    <tr>\n",
              "      <th>248</th>\n",
              "      <td>249</td>\n",
              "      <td>1</td>\n",
              "      <td>Beckwith, Mr. Richard Leonard</td>\n",
              "      <td>male</td>\n",
              "      <td>37.00</td>\n",
              "      <td>1</td>\n",
              "      <td>1</td>\n",
              "      <td>11751</td>\n",
              "      <td>52.5542</td>\n",
              "      <td>D35</td>\n",
              "      <td>S</td>\n",
              "      <td>0</td>\n",
              "      <td>0</td>\n",
              "      <td>1</td>\n",
              "    </tr>\n",
              "    <tr>\n",
              "      <th>553</th>\n",
              "      <td>554</td>\n",
              "      <td>3</td>\n",
              "      <td>Leeni, Mr. Fahim (\"Philip Zenni\")</td>\n",
              "      <td>male</td>\n",
              "      <td>22.00</td>\n",
              "      <td>0</td>\n",
              "      <td>0</td>\n",
              "      <td>2620</td>\n",
              "      <td>7.2250</td>\n",
              "      <td>NaN</td>\n",
              "      <td>C</td>\n",
              "      <td>0</td>\n",
              "      <td>0</td>\n",
              "      <td>1</td>\n",
              "    </tr>\n",
              "    <tr>\n",
              "      <th>271</th>\n",
              "      <td>272</td>\n",
              "      <td>3</td>\n",
              "      <td>Tornquist, Mr. William Henry</td>\n",
              "      <td>male</td>\n",
              "      <td>25.00</td>\n",
              "      <td>0</td>\n",
              "      <td>0</td>\n",
              "      <td>LINE</td>\n",
              "      <td>0.0000</td>\n",
              "      <td>NaN</td>\n",
              "      <td>S</td>\n",
              "      <td>0</td>\n",
              "      <td>0</td>\n",
              "      <td>1</td>\n",
              "    </tr>\n",
              "    <tr>\n",
              "      <th>338</th>\n",
              "      <td>339</td>\n",
              "      <td>3</td>\n",
              "      <td>Dahl, Mr. Karl Edwart</td>\n",
              "      <td>male</td>\n",
              "      <td>45.00</td>\n",
              "      <td>0</td>\n",
              "      <td>0</td>\n",
              "      <td>7598</td>\n",
              "      <td>8.0500</td>\n",
              "      <td>NaN</td>\n",
              "      <td>S</td>\n",
              "      <td>0</td>\n",
              "      <td>0</td>\n",
              "      <td>1</td>\n",
              "    </tr>\n",
              "    <tr>\n",
              "      <th>391</th>\n",
              "      <td>392</td>\n",
              "      <td>3</td>\n",
              "      <td>Jansson, Mr. Carl Olof</td>\n",
              "      <td>male</td>\n",
              "      <td>21.00</td>\n",
              "      <td>0</td>\n",
              "      <td>0</td>\n",
              "      <td>350034</td>\n",
              "      <td>7.7958</td>\n",
              "      <td>NaN</td>\n",
              "      <td>S</td>\n",
              "      <td>0</td>\n",
              "      <td>0</td>\n",
              "      <td>1</td>\n",
              "    </tr>\n",
              "    <tr>\n",
              "      <th>400</th>\n",
              "      <td>401</td>\n",
              "      <td>3</td>\n",
              "      <td>Niskanen, Mr. Juha</td>\n",
              "      <td>male</td>\n",
              "      <td>39.00</td>\n",
              "      <td>0</td>\n",
              "      <td>0</td>\n",
              "      <td>STON/O 2. 3101289</td>\n",
              "      <td>7.9250</td>\n",
              "      <td>NaN</td>\n",
              "      <td>S</td>\n",
              "      <td>0</td>\n",
              "      <td>0</td>\n",
              "      <td>1</td>\n",
              "    </tr>\n",
              "    <tr>\n",
              "      <th>804</th>\n",
              "      <td>805</td>\n",
              "      <td>3</td>\n",
              "      <td>Hedman, Mr. Oskar Arvid</td>\n",
              "      <td>male</td>\n",
              "      <td>27.00</td>\n",
              "      <td>0</td>\n",
              "      <td>0</td>\n",
              "      <td>347089</td>\n",
              "      <td>6.9750</td>\n",
              "      <td>NaN</td>\n",
              "      <td>S</td>\n",
              "      <td>0</td>\n",
              "      <td>0</td>\n",
              "      <td>1</td>\n",
              "    </tr>\n",
              "    <tr>\n",
              "      <th>429</th>\n",
              "      <td>430</td>\n",
              "      <td>3</td>\n",
              "      <td>Pickard, Mr. Berk (Berk Trembisky)</td>\n",
              "      <td>male</td>\n",
              "      <td>32.00</td>\n",
              "      <td>0</td>\n",
              "      <td>0</td>\n",
              "      <td>SOTON/O.Q. 392078</td>\n",
              "      <td>8.0500</td>\n",
              "      <td>E10</td>\n",
              "      <td>S</td>\n",
              "      <td>0</td>\n",
              "      <td>0</td>\n",
              "      <td>1</td>\n",
              "    </tr>\n",
              "    <tr>\n",
              "      <th>444</th>\n",
              "      <td>445</td>\n",
              "      <td>3</td>\n",
              "      <td>Johannesen-Bratthammer, Mr. Bernt</td>\n",
              "      <td>male</td>\n",
              "      <td>NaN</td>\n",
              "      <td>0</td>\n",
              "      <td>0</td>\n",
              "      <td>65306</td>\n",
              "      <td>8.1125</td>\n",
              "      <td>NaN</td>\n",
              "      <td>S</td>\n",
              "      <td>0</td>\n",
              "      <td>0</td>\n",
              "      <td>1</td>\n",
              "    </tr>\n",
              "    <tr>\n",
              "      <th>449</th>\n",
              "      <td>450</td>\n",
              "      <td>1</td>\n",
              "      <td>Peuchen, Major. Arthur Godfrey</td>\n",
              "      <td>male</td>\n",
              "      <td>52.00</td>\n",
              "      <td>0</td>\n",
              "      <td>0</td>\n",
              "      <td>113786</td>\n",
              "      <td>30.5000</td>\n",
              "      <td>C104</td>\n",
              "      <td>S</td>\n",
              "      <td>0</td>\n",
              "      <td>0</td>\n",
              "      <td>1</td>\n",
              "    </tr>\n",
              "    <tr>\n",
              "      <th>283</th>\n",
              "      <td>284</td>\n",
              "      <td>3</td>\n",
              "      <td>Dorking, Mr. Edward Arthur</td>\n",
              "      <td>male</td>\n",
              "      <td>19.00</td>\n",
              "      <td>0</td>\n",
              "      <td>0</td>\n",
              "      <td>A/5. 10482</td>\n",
              "      <td>8.0500</td>\n",
              "      <td>NaN</td>\n",
              "      <td>S</td>\n",
              "      <td>0</td>\n",
              "      <td>0</td>\n",
              "      <td>1</td>\n",
              "    </tr>\n",
              "    <tr>\n",
              "      <th>821</th>\n",
              "      <td>822</td>\n",
              "      <td>3</td>\n",
              "      <td>Lulic, Mr. Nikola</td>\n",
              "      <td>male</td>\n",
              "      <td>27.00</td>\n",
              "      <td>0</td>\n",
              "      <td>0</td>\n",
              "      <td>315098</td>\n",
              "      <td>8.6625</td>\n",
              "      <td>NaN</td>\n",
              "      <td>S</td>\n",
              "      <td>0</td>\n",
              "      <td>0</td>\n",
              "      <td>1</td>\n",
              "    </tr>\n",
              "  </tbody>\n",
              "</table>\n",
              "</div>"
            ],
            "text/plain": [
              "     PassengerId  Pclass  ...  p Survived\n",
              "238          239       2  ...  1        0\n",
              "442          443       3  ...  1        0\n",
              "422          423       3  ...  1        0\n",
              "373          374       1  ...  1        0\n",
              "371          372       3  ...  1        0\n",
              "698          699       1  ...  1        0\n",
              "262          263       1  ...  1        0\n",
              "231          232       3  ...  1        0\n",
              "214          215       3  ...  1        0\n",
              "721          722       3  ...  1        0\n",
              "169          170       3  ...  1        0\n",
              "544          545       1  ...  1        0\n",
              "783          784       3  ...  1        0\n",
              "139          140       1  ...  1        0\n",
              "122          123       2  ...  1        0\n",
              "118          119       1  ...  1        0\n",
              "102          103       1  ...  1        0\n",
              "48            49       3  ...  1        0\n",
              "27            28       1  ...  1        0\n",
              "34            35       1  ...  1        0\n",
              "579          580       3  ...  0        1\n",
              "621          622       1  ...  0        1\n",
              "803          804       3  ...  0        1\n",
              "622          623       3  ...  0        1\n",
              "630          631       1  ...  0        1\n",
              "643          644       3  ...  0        1\n",
              "744          745       3  ...  0        1\n",
              "751          752       3  ...  0        1\n",
              "673          674       2  ...  0        1\n",
              "690          691       1  ...  0        1\n",
              "762          763       3  ...  0        1\n",
              "707          708       1  ...  0        1\n",
              "569          570       3  ...  0        1\n",
              "647          648       1  ...  0        1\n",
              "21            22       2  ...  0        1\n",
              "414          415       3  ...  0        1\n",
              "489          490       3  ...  0        1\n",
              "23            24       1  ...  0        1\n",
              "36            37       3  ...  0        1\n",
              "55            56       1  ...  0        1\n",
              "146          147       3  ...  0        1\n",
              "165          166       3  ...  0        1\n",
              "187          188       1  ...  0        1\n",
              "248          249       1  ...  0        1\n",
              "553          554       3  ...  0        1\n",
              "271          272       3  ...  0        1\n",
              "338          339       3  ...  0        1\n",
              "391          392       3  ...  0        1\n",
              "400          401       3  ...  0        1\n",
              "804          805       3  ...  0        1\n",
              "429          430       3  ...  0        1\n",
              "444          445       3  ...  0        1\n",
              "449          450       1  ...  0        1\n",
              "283          284       3  ...  0        1\n",
              "821          822       3  ...  0        1\n",
              "\n",
              "[55 rows x 14 columns]"
            ]
          },
          "metadata": {
            "tags": []
          },
          "execution_count": 54
        }
      ]
    },
    {
      "cell_type": "markdown",
      "metadata": {
        "id": "KcjdiV1N5i-o",
        "colab_type": "text"
      },
      "source": [
        "### New variables again\n"
      ]
    },
    {
      "cell_type": "code",
      "metadata": {
        "id": "SPrjRkAq5iGe",
        "colab_type": "code",
        "colab": {}
      },
      "source": [
        "train['Embarked_S'] = (train['Embarked'] == 'S').astype(int)\n",
        "train['Embarked_C'] = (train['Embarked'] == 'C').astype(int)\n",
        "#train['Embarked_Q'] = (train['Embarked'] == 'Q').astype(int)\n",
        "\n",
        "train['Cabin_Null'] = train['Cabin'].isnull().astype(int)\n",
        "\n",
        "train['Name_with_Miss'] = train['Name'].str.contains('Miss').astype(int)\n",
        "train['Name_with_Mrs'] = train['Name'].str.contains('Mrs').astype(int)\n",
        "\n",
        "train['Name_with_Master'] = train['Name'].str.contains('Master').astype(int)\n",
        "train['Name_with_Col'] = train['Name'].str.contains('Col').astype(int)\n",
        "train['Name_with_Major'] = train['Name'].str.contains('Major').astype(int)\n",
        "train['Name_with_Mr'] = train['Name'].str.contains('Mr').astype(int)"
      ],
      "execution_count": 0,
      "outputs": []
    },
    {
      "cell_type": "code",
      "metadata": {
        "id": "YvrJ5SqO7q5U",
        "colab_type": "code",
        "outputId": "7089df3a-bc6e-4994-b7b0-6e6351af7715",
        "colab": {
          "base_uri": "https://localhost:8080/",
          "height": 0
        }
      },
      "source": [
        "train.columns"
      ],
      "execution_count": 56,
      "outputs": [
        {
          "output_type": "execute_result",
          "data": {
            "text/plain": [
              "Index(['PassengerId', 'Survived', 'Pclass', 'Name', 'Sex', 'Age', 'SibSp',\n",
              "       'Parch', 'Ticket', 'Fare', 'Cabin', 'Embarked', 'Sex_bin', 'Embarked_S',\n",
              "       'Embarked_C', 'Cabin_Null', 'Name_with_Miss', 'Name_with_Mrs',\n",
              "       'Name_with_Master', 'Name_with_Col', 'Name_with_Major', 'Name_with_Mr'],\n",
              "      dtype='object')"
            ]
          },
          "metadata": {
            "tags": []
          },
          "execution_count": 56
        }
      ]
    },
    {
      "cell_type": "code",
      "metadata": {
        "id": "bdpnCefz70nV",
        "colab_type": "code",
        "colab": {}
      },
      "source": [
        "variables = ['Sex_bin', 'Age', 'Pclass', 'Age', 'SibSp', 'Parch', 'Fare', 'Embarked_S', 'Embarked_C', \n",
        "             'Cabin_Null', 'Name_with_Miss', 'Name_with_Mrs',\n",
        "             'Name_with_Master', 'Name_with_Col', 'Name_with_Major', 'Name_with_Mr']\n",
        "X = train[variables].fillna(-1)\n",
        "y = train['Survived']"
      ],
      "execution_count": 0,
      "outputs": []
    },
    {
      "cell_type": "code",
      "metadata": {
        "id": "bXn03H-W8sqQ",
        "colab_type": "code",
        "outputId": "84b0f725-99bf-475e-ee6c-49ef8ed6f1f0",
        "colab": {
          "base_uri": "https://localhost:8080/",
          "height": 0
        }
      },
      "source": [
        "X.head()"
      ],
      "execution_count": 58,
      "outputs": [
        {
          "output_type": "execute_result",
          "data": {
            "text/html": [
              "<div>\n",
              "<style scoped>\n",
              "    .dataframe tbody tr th:only-of-type {\n",
              "        vertical-align: middle;\n",
              "    }\n",
              "\n",
              "    .dataframe tbody tr th {\n",
              "        vertical-align: top;\n",
              "    }\n",
              "\n",
              "    .dataframe thead th {\n",
              "        text-align: right;\n",
              "    }\n",
              "</style>\n",
              "<table border=\"1\" class=\"dataframe\">\n",
              "  <thead>\n",
              "    <tr style=\"text-align: right;\">\n",
              "      <th></th>\n",
              "      <th>Sex_bin</th>\n",
              "      <th>Age</th>\n",
              "      <th>Pclass</th>\n",
              "      <th>Age</th>\n",
              "      <th>SibSp</th>\n",
              "      <th>Parch</th>\n",
              "      <th>Fare</th>\n",
              "      <th>Embarked_S</th>\n",
              "      <th>Embarked_C</th>\n",
              "      <th>Cabin_Null</th>\n",
              "      <th>Name_with_Miss</th>\n",
              "      <th>Name_with_Mrs</th>\n",
              "      <th>Name_with_Master</th>\n",
              "      <th>Name_with_Col</th>\n",
              "      <th>Name_with_Major</th>\n",
              "      <th>Name_with_Mr</th>\n",
              "    </tr>\n",
              "  </thead>\n",
              "  <tbody>\n",
              "    <tr>\n",
              "      <th>0</th>\n",
              "      <td>0</td>\n",
              "      <td>22.0</td>\n",
              "      <td>3</td>\n",
              "      <td>22.0</td>\n",
              "      <td>1</td>\n",
              "      <td>0</td>\n",
              "      <td>7.2500</td>\n",
              "      <td>1</td>\n",
              "      <td>0</td>\n",
              "      <td>1</td>\n",
              "      <td>0</td>\n",
              "      <td>0</td>\n",
              "      <td>0</td>\n",
              "      <td>0</td>\n",
              "      <td>0</td>\n",
              "      <td>1</td>\n",
              "    </tr>\n",
              "    <tr>\n",
              "      <th>1</th>\n",
              "      <td>1</td>\n",
              "      <td>38.0</td>\n",
              "      <td>1</td>\n",
              "      <td>38.0</td>\n",
              "      <td>1</td>\n",
              "      <td>0</td>\n",
              "      <td>71.2833</td>\n",
              "      <td>0</td>\n",
              "      <td>1</td>\n",
              "      <td>0</td>\n",
              "      <td>0</td>\n",
              "      <td>1</td>\n",
              "      <td>0</td>\n",
              "      <td>0</td>\n",
              "      <td>0</td>\n",
              "      <td>1</td>\n",
              "    </tr>\n",
              "    <tr>\n",
              "      <th>2</th>\n",
              "      <td>1</td>\n",
              "      <td>26.0</td>\n",
              "      <td>3</td>\n",
              "      <td>26.0</td>\n",
              "      <td>0</td>\n",
              "      <td>0</td>\n",
              "      <td>7.9250</td>\n",
              "      <td>1</td>\n",
              "      <td>0</td>\n",
              "      <td>1</td>\n",
              "      <td>1</td>\n",
              "      <td>0</td>\n",
              "      <td>0</td>\n",
              "      <td>0</td>\n",
              "      <td>0</td>\n",
              "      <td>0</td>\n",
              "    </tr>\n",
              "    <tr>\n",
              "      <th>3</th>\n",
              "      <td>1</td>\n",
              "      <td>35.0</td>\n",
              "      <td>1</td>\n",
              "      <td>35.0</td>\n",
              "      <td>1</td>\n",
              "      <td>0</td>\n",
              "      <td>53.1000</td>\n",
              "      <td>1</td>\n",
              "      <td>0</td>\n",
              "      <td>0</td>\n",
              "      <td>0</td>\n",
              "      <td>1</td>\n",
              "      <td>0</td>\n",
              "      <td>0</td>\n",
              "      <td>0</td>\n",
              "      <td>1</td>\n",
              "    </tr>\n",
              "    <tr>\n",
              "      <th>4</th>\n",
              "      <td>0</td>\n",
              "      <td>35.0</td>\n",
              "      <td>3</td>\n",
              "      <td>35.0</td>\n",
              "      <td>0</td>\n",
              "      <td>0</td>\n",
              "      <td>8.0500</td>\n",
              "      <td>1</td>\n",
              "      <td>0</td>\n",
              "      <td>1</td>\n",
              "      <td>0</td>\n",
              "      <td>0</td>\n",
              "      <td>0</td>\n",
              "      <td>0</td>\n",
              "      <td>0</td>\n",
              "      <td>1</td>\n",
              "    </tr>\n",
              "  </tbody>\n",
              "</table>\n",
              "</div>"
            ],
            "text/plain": [
              "   Sex_bin   Age  Pclass  ...  Name_with_Col  Name_with_Major  Name_with_Mr\n",
              "0        0  22.0       3  ...              0                0             1\n",
              "1        1  38.0       1  ...              0                0             1\n",
              "2        1  26.0       3  ...              0                0             0\n",
              "3        1  35.0       1  ...              0                0             1\n",
              "4        0  35.0       3  ...              0                0             1\n",
              "\n",
              "[5 rows x 16 columns]"
            ]
          },
          "metadata": {
            "tags": []
          },
          "execution_count": 58
        }
      ]
    },
    {
      "cell_type": "code",
      "metadata": {
        "id": "mrUCcBDz8xDf",
        "colab_type": "code",
        "outputId": "f625b39c-ae1c-4cd6-bae2-2937e6e9b94d",
        "colab": {
          "base_uri": "https://localhost:8080/",
          "height": 0
        }
      },
      "source": [
        "y.head()"
      ],
      "execution_count": 59,
      "outputs": [
        {
          "output_type": "execute_result",
          "data": {
            "text/plain": [
              "0    0\n",
              "1    1\n",
              "2    1\n",
              "3    1\n",
              "4    0\n",
              "Name: Survived, dtype: int64"
            ]
          },
          "metadata": {
            "tags": []
          },
          "execution_count": 59
        }
      ]
    },
    {
      "cell_type": "code",
      "metadata": {
        "id": "GO0y5-QP8zpW",
        "colab_type": "code",
        "outputId": "62c6313a-7e48-4f6a-ae61-cac970c44c30",
        "colab": {
          "base_uri": "https://localhost:8080/",
          "height": 0
        }
      },
      "source": [
        "X.shape"
      ],
      "execution_count": 60,
      "outputs": [
        {
          "output_type": "execute_result",
          "data": {
            "text/plain": [
              "(891, 16)"
            ]
          },
          "metadata": {
            "tags": []
          },
          "execution_count": 60
        }
      ]
    },
    {
      "cell_type": "code",
      "metadata": {
        "id": "4sL_qwjk9cI8",
        "colab_type": "code",
        "outputId": "18131b92-0e91-4ff3-e606-f46587e3151c",
        "colab": {
          "base_uri": "https://localhost:8080/",
          "height": 0
        }
      },
      "source": [
        "X.dtypes"
      ],
      "execution_count": 61,
      "outputs": [
        {
          "output_type": "execute_result",
          "data": {
            "text/plain": [
              "Sex_bin               int64\n",
              "Age                 float64\n",
              "Pclass                int64\n",
              "Age                 float64\n",
              "SibSp                 int64\n",
              "Parch                 int64\n",
              "Fare                float64\n",
              "Embarked_S            int64\n",
              "Embarked_C            int64\n",
              "Cabin_Null            int64\n",
              "Name_with_Miss        int64\n",
              "Name_with_Mrs         int64\n",
              "Name_with_Master      int64\n",
              "Name_with_Col         int64\n",
              "Name_with_Major       int64\n",
              "Name_with_Mr          int64\n",
              "dtype: object"
            ]
          },
          "metadata": {
            "tags": []
          },
          "execution_count": 61
        }
      ]
    },
    {
      "cell_type": "code",
      "metadata": {
        "id": "V6MMEAVa9GJ7",
        "colab_type": "code",
        "outputId": "a017538b-6e11-4046-88c5-14221eaef67e",
        "colab": {
          "base_uri": "https://localhost:8080/",
          "height": 0
        }
      },
      "source": [
        "results_two = []\n",
        "kf = RepeatedKFold(n_splits=2, n_repeats=10, random_state=10)\n",
        "\n",
        "for train_lines, test_lines in kf.split(X):\n",
        "  print(f'Train: {train_lines.shape[0]}')\n",
        "  print(f'Test: {test_lines.shape[0]}')\n",
        "\n",
        "  X_train, X_test = X.iloc[train_lines], X.iloc[test_lines]\n",
        "  y_train, y_test = y.iloc[train_lines], y.iloc[test_lines]\n",
        "\n",
        "  model = RandomForestClassifier(n_estimators=100, n_jobs=-1, random_state=0)\n",
        "  model.fit(X_train, y_train)\n",
        "\n",
        "  p = model.predict(X_test)\n",
        "\n",
        "  accuracy = np.mean(y_test == p) \n",
        "  results_two.append(accuracy)\n",
        "  print(f'Accuracy: {accuracy}')"
      ],
      "execution_count": 62,
      "outputs": [
        {
          "output_type": "stream",
          "text": [
            "Train: 445\n",
            "Test: 446\n",
            "Accuracy: 0.7869955156950673\n",
            "Train: 446\n",
            "Test: 445\n",
            "Accuracy: 0.7932584269662921\n",
            "Train: 445\n",
            "Test: 446\n",
            "Accuracy: 0.8116591928251121\n",
            "Train: 446\n",
            "Test: 445\n",
            "Accuracy: 0.7887640449438202\n",
            "Train: 445\n",
            "Test: 446\n",
            "Accuracy: 0.8116591928251121\n",
            "Train: 446\n",
            "Test: 445\n",
            "Accuracy: 0.797752808988764\n",
            "Train: 445\n",
            "Test: 446\n",
            "Accuracy: 0.8139013452914798\n",
            "Train: 446\n",
            "Test: 445\n",
            "Accuracy: 0.8\n",
            "Train: 445\n",
            "Test: 446\n",
            "Accuracy: 0.7982062780269058\n",
            "Train: 446\n",
            "Test: 445\n",
            "Accuracy: 0.8044943820224719\n",
            "Train: 445\n",
            "Test: 446\n",
            "Accuracy: 0.8071748878923767\n",
            "Train: 446\n",
            "Test: 445\n",
            "Accuracy: 0.8\n",
            "Train: 445\n",
            "Test: 446\n",
            "Accuracy: 0.820627802690583\n",
            "Train: 446\n",
            "Test: 445\n",
            "Accuracy: 0.8044943820224719\n",
            "Train: 445\n",
            "Test: 446\n",
            "Accuracy: 0.7892376681614349\n",
            "Train: 446\n",
            "Test: 445\n",
            "Accuracy: 0.8134831460674158\n",
            "Train: 445\n",
            "Test: 446\n",
            "Accuracy: 0.8340807174887892\n",
            "Train: 446\n",
            "Test: 445\n",
            "Accuracy: 0.8179775280898877\n",
            "Train: 445\n",
            "Test: 446\n",
            "Accuracy: 0.8071748878923767\n",
            "Train: 446\n",
            "Test: 445\n",
            "Accuracy: 0.8247191011235955\n"
          ],
          "name": "stdout"
        }
      ]
    },
    {
      "cell_type": "code",
      "metadata": {
        "id": "_B81KknZ_mMn",
        "colab_type": "code",
        "outputId": "8d8e1279-80fe-44b9-ea30-0b3513fbdd02",
        "colab": {
          "base_uri": "https://localhost:8080/",
          "height": 0
        }
      },
      "source": [
        "plt.hist(results_two), plt.hist(results,alpha=0.8) # blue is new model and orange model before"
      ],
      "execution_count": 63,
      "outputs": [
        {
          "output_type": "execute_result",
          "data": {
            "text/plain": [
              "((array([3., 1., 4., 2., 2., 4., 1., 1., 1., 1.]),\n",
              "  array([0.78699552, 0.79170404, 0.79641256, 0.80112108, 0.8058296 ,\n",
              "         0.81053812, 0.81524664, 0.81995516, 0.82466368, 0.8293722 ,\n",
              "         0.83408072]),\n",
              "  <a list of 10 Patch objects>),\n",
              " (array([4., 2., 0., 4., 2., 2., 4., 0., 1., 1.]),\n",
              "  array([0.77977528, 0.78565426, 0.79153323, 0.7974122 , 0.80329118,\n",
              "         0.80917015, 0.81504913, 0.8209281 , 0.82680707, 0.83268605,\n",
              "         0.83856502]),\n",
              "  <a list of 10 Patch objects>))"
            ]
          },
          "metadata": {
            "tags": []
          },
          "execution_count": 63
        },
        {
          "output_type": "display_data",
          "data": {
            "image/png": "[encoded data removed]",
            "text/plain": [
              "<Figure size 432x288 with 1 Axes>"
            ]
          },
          "metadata": {
            "tags": [],
            "needs_background": "light"
          }
        }
      ]
    },
    {
      "cell_type": "code",
      "metadata": {
        "id": "R-pV4beP_x5i",
        "colab_type": "code",
        "colab": {}
      },
      "source": [
        "model_before = 0.8041457147175896"
      ],
      "execution_count": 0,
      "outputs": []
    },
    {
      "cell_type": "code",
      "metadata": {
        "id": "eVGjSMAD_6_H",
        "colab_type": "code",
        "outputId": "049d7d57-c4b8-4325-96a9-97510967c912",
        "colab": {
          "base_uri": "https://localhost:8080/",
          "height": 0
        }
      },
      "source": [
        "np.mean(results_two) "
      ],
      "execution_count": 65,
      "outputs": [
        {
          "output_type": "execute_result",
          "data": {
            "text/plain": [
              "0.8062830654506976"
            ]
          },
          "metadata": {
            "tags": []
          },
          "execution_count": 65
        }
      ]
    },
    {
      "cell_type": "code",
      "metadata": {
        "id": "PRYCROtHcdaj",
        "colab_type": "code",
        "colab": {}
      },
      "source": [
        "test['Embarked_S'] = (test['Embarked'] == 'S').astype(int)\n",
        "test['Embarked_C'] = (test['Embarked'] == 'C').astype(int)\n",
        "#test['Embarked_Q'] = (test['Embarked'] == 'Q').astype(int)\n",
        "\n",
        "test['Cabin_Null'] = test['Cabin'].isnull().astype(int)\n",
        "\n",
        "test['Name_with_Miss'] = test['Name'].str.contains('Miss').astype(int)\n",
        "test['Name_with_Mrs'] = test['Name'].str.contains('Mrs').astype(int)\n",
        "\n",
        "test['Name_with_Master'] = test['Name'].str.contains('Master').astype(int)\n",
        "test['Name_with_Col'] = test['Name'].str.contains('Col').astype(int)\n",
        "test['Name_with_Major'] = test['Name'].str.contains('Major').astype(int)\n",
        "test['Name_with_Mr'] = test['Name'].str.contains('Mr').astype(int)"
      ],
      "execution_count": 0,
      "outputs": []
    },
    {
      "cell_type": "code",
      "metadata": {
        "id": "6qWWUKXfurgy",
        "colab_type": "code",
        "colab": {}
      },
      "source": [
        "# retraining the data to create a new sibmission\n",
        "\n",
        "model = RandomForestClassifier(n_estimators=100, n_jobs=-1, random_state=0)\n",
        "model.fit(X, y)\n",
        "\n",
        "p = model.predict(test[variables].fillna(-1))"
      ],
      "execution_count": 0,
      "outputs": []
    },
    {
      "cell_type": "code",
      "metadata": {
        "id": "dN_lAni6vORj",
        "colab_type": "code",
        "colab": {
          "base_uri": "https://localhost:8080/",
          "height": 0
        },
        "outputId": "33a2797d-cd87-434a-9a77-72202d026f1b"
      },
      "source": [
        "p"
      ],
      "execution_count": 68,
      "outputs": [
        {
          "output_type": "execute_result",
          "data": {
            "text/plain": [
              "array([0, 0, 0, 1, 1, 0, 0, 0, 1, 0, 0, 0, 1, 0, 1, 1, 0, 1, 1, 0, 0, 1,\n",
              "       1, 0, 1, 0, 1, 1, 1, 0, 0, 0, 1, 1, 1, 1, 0, 0, 0, 1, 0, 0, 0, 1,\n",
              "       1, 0, 0, 0, 1, 1, 0, 0, 1, 1, 0, 0, 0, 0, 0, 1, 0, 0, 0, 1, 1, 1,\n",
              "       1, 0, 0, 1, 1, 0, 0, 0, 1, 0, 0, 1, 0, 1, 1, 0, 0, 0, 0, 0, 1, 0,\n",
              "       1, 1, 1, 0, 1, 0, 0, 0, 1, 0, 1, 0, 1, 0, 0, 0, 1, 0, 0, 0, 0, 0,\n",
              "       0, 1, 1, 1, 1, 0, 0, 1, 0, 1, 1, 0, 1, 0, 0, 1, 0, 1, 1, 0, 0, 1,\n",
              "       0, 0, 0, 0, 0, 0, 0, 0, 0, 1, 0, 0, 1, 0, 0, 0, 1, 0, 1, 0, 0, 1,\n",
              "       0, 0, 1, 0, 1, 1, 1, 1, 1, 0, 0, 0, 1, 0, 1, 0, 0, 0, 0, 0, 0, 1,\n",
              "       1, 1, 1, 1, 0, 1, 1, 0, 1, 0, 1, 0, 0, 0, 0, 0, 1, 0, 1, 0, 1, 0,\n",
              "       0, 0, 1, 1, 1, 1, 0, 0, 0, 0, 1, 0, 0, 0, 0, 1, 0, 0, 1, 0, 1, 0,\n",
              "       1, 0, 1, 1, 1, 0, 0, 1, 0, 0, 0, 1, 0, 0, 1, 0, 1, 1, 1, 1, 1, 1,\n",
              "       0, 0, 1, 1, 1, 0, 1, 0, 1, 0, 1, 0, 0, 0, 0, 0, 1, 0, 0, 0, 1, 1,\n",
              "       0, 0, 0, 0, 0, 0, 0, 0, 1, 1, 0, 1, 0, 0, 0, 0, 0, 1, 1, 0, 1, 0,\n",
              "       0, 0, 0, 0, 0, 0, 0, 0, 0, 0, 1, 0, 0, 0, 0, 0, 0, 0, 1, 1, 1, 1,\n",
              "       0, 0, 0, 1, 0, 0, 1, 1, 0, 0, 0, 0, 0, 0, 1, 1, 1, 0, 1, 0, 0, 0,\n",
              "       1, 0, 0, 1, 0, 0, 0, 0, 0, 1, 0, 0, 0, 1, 1, 1, 0, 1, 0, 1, 1, 0,\n",
              "       0, 0, 1, 1, 1, 0, 0, 0, 0, 1, 1, 1, 1, 1, 0, 0, 1, 0, 0, 1, 0, 0,\n",
              "       1, 1, 0, 0, 0, 0, 0, 0, 1, 1, 1, 1, 0, 0, 0, 0, 0, 1, 1, 0, 0, 1,\n",
              "       0, 1, 0, 0, 1, 0, 1, 0, 1, 0, 0, 0, 1, 1, 1, 1, 0, 0, 1, 0, 0, 1])"
            ]
          },
          "metadata": {
            "tags": []
          },
          "execution_count": 68
        }
      ]
    },
    {
      "cell_type": "code",
      "metadata": {
        "id": "O4lXXUXwvPrJ",
        "colab_type": "code",
        "colab": {
          "base_uri": "https://localhost:8080/",
          "height": 0
        },
        "outputId": "86977d39-a291-417e-a7cd-f996c4212683"
      },
      "source": [
        "# Create a file to send a Kaggle\n",
        "submission = pd.Series(p, index = test['PassengerId'], name = 'Survived')\n",
        "submission"
      ],
      "execution_count": 69,
      "outputs": [
        {
          "output_type": "execute_result",
          "data": {
            "text/plain": [
              "PassengerId\n",
              "892     0\n",
              "893     0\n",
              "894     0\n",
              "895     1\n",
              "896     1\n",
              "       ..\n",
              "1305    0\n",
              "1306    1\n",
              "1307    0\n",
              "1308    0\n",
              "1309    1\n",
              "Name: Survived, Length: 418, dtype: int64"
            ]
          },
          "metadata": {
            "tags": []
          },
          "execution_count": 69
        }
      ]
    },
    {
      "cell_type": "code",
      "metadata": {
        "id": "E7Gv59V_vTcA",
        "colab_type": "code",
        "colab": {}
      },
      "source": [
        "submission.to_csv('third_submission.csv', header=True)"
      ],
      "execution_count": 0,
      "outputs": []
    },
    {
      "cell_type": "code",
      "metadata": {
        "id": "ztaWRckOvZ5S",
        "colab_type": "code",
        "colab": {
          "base_uri": "https://localhost:8080/",
          "height": 0
        },
        "outputId": "30fa20f4-5d57-41c7-a204-18d4b6d5cc56"
      },
      "source": [
        "!head third_submission.csv"
      ],
      "execution_count": 71,
      "outputs": [
        {
          "output_type": "stream",
          "text": [
            "PassengerId,Survived\n",
            "892,0\n",
            "893,0\n",
            "894,0\n",
            "895,1\n",
            "896,1\n",
            "897,0\n",
            "898,0\n",
            "899,0\n",
            "900,1\n"
          ],
          "name": "stdout"
        }
      ]
    },
    {
      "cell_type": "markdown",
      "metadata": {
        "id": "oHb6-WMrfrDL",
        "colab_type": "text"
      },
      "source": [
        "## Changing the model\n"
      ]
    },
    {
      "cell_type": "code",
      "metadata": {
        "id": "QtOP8-ohoqcN",
        "colab_type": "code",
        "colab": {}
      },
      "source": [
        "warnings.filterwarnings('ignore')"
      ],
      "execution_count": 0,
      "outputs": []
    },
    {
      "cell_type": "code",
      "metadata": {
        "id": "pnhqDm6dfzJL",
        "colab_type": "code",
        "colab": {
          "base_uri": "https://localhost:8080/",
          "height": 0
        },
        "outputId": "9a31da04-5435-403e-bb25-72ae3b6306ca"
      },
      "source": [
        "results_two = []\n",
        "kf = RepeatedKFold(n_splits=2, n_repeats=10, random_state=10)\n",
        "\n",
        "for train_lines, test_lines in kf.split(X):\n",
        "  print(f'Train: {train_lines.shape[0]}')\n",
        "  print(f'Test: {test_lines.shape[0]}')\n",
        "\n",
        "  X_train, X_test = X.iloc[train_lines], X.iloc[test_lines]\n",
        "  y_train, y_test = y.iloc[train_lines], y.iloc[test_lines]\n",
        "\n",
        "  model = LogisticRegression()\n",
        "  model.fit(X_train, y_train)\n",
        "\n",
        "  p = model.predict(X_test)\n",
        "\n",
        "  accuracy = np.mean(y_test == p) \n",
        "  results_two.append(accuracy)\n",
        "  print(f'Accuracy: {accuracy}')"
      ],
      "execution_count": 73,
      "outputs": [
        {
          "output_type": "stream",
          "text": [
            "Train: 445\n",
            "Test: 446\n",
            "Accuracy: 0.8340807174887892\n",
            "Train: 446\n",
            "Test: 445\n",
            "Accuracy: 0.8067415730337079\n",
            "Train: 445\n",
            "Test: 446\n",
            "Accuracy: 0.8116591928251121\n",
            "Train: 446\n",
            "Test: 445\n",
            "Accuracy: 0.797752808988764\n",
            "Train: 445\n",
            "Test: 446\n",
            "Accuracy: 0.8161434977578476\n",
            "Train: 446\n",
            "Test: 445\n",
            "Accuracy: 0.8179775280898877\n",
            "Train: 445\n",
            "Test: 446\n",
            "Accuracy: 0.8139013452914798\n",
            "Train: 446\n",
            "Test: 445\n",
            "Accuracy: 0.8157303370786517\n",
            "Train: 445\n",
            "Test: 446\n",
            "Accuracy: 0.8251121076233184\n",
            "Train: 446\n",
            "Test: 445\n",
            "Accuracy: 0.8179775280898877\n",
            "Train: 445\n",
            "Test: 446\n",
            "Accuracy: 0.827354260089686\n",
            "Train: 446\n",
            "Test: 445\n",
            "Accuracy: 0.8157303370786517\n",
            "Train: 445\n",
            "Test: 446\n",
            "Accuracy: 0.8408071748878924\n",
            "Train: 446\n",
            "Test: 445\n",
            "Accuracy: 0.8\n",
            "Train: 445\n",
            "Test: 446\n",
            "Accuracy: 0.8071748878923767\n",
            "Train: 446\n",
            "Test: 445\n",
            "Accuracy: 0.8112359550561797\n",
            "Train: 445\n",
            "Test: 446\n",
            "Accuracy: 0.8363228699551569\n",
            "Train: 446\n",
            "Test: 445\n",
            "Accuracy: 0.8134831460674158\n",
            "Train: 445\n",
            "Test: 446\n",
            "Accuracy: 0.8318385650224215\n",
            "Train: 446\n",
            "Test: 445\n",
            "Accuracy: 0.8247191011235955\n"
          ],
          "name": "stdout"
        }
      ]
    },
    {
      "cell_type": "code",
      "metadata": {
        "id": "ysy0k7h9lDYj",
        "colab_type": "code",
        "colab": {
          "base_uri": "https://localhost:8080/",
          "height": 0
        },
        "outputId": "35f2ca2a-725e-4d9a-f7ff-e636a78381f9"
      },
      "source": [
        "plt.hist(results_two), plt.hist(results,alpha=0.8) # blue is new model and orange model before"
      ],
      "execution_count": 74,
      "outputs": [
        {
          "output_type": "execute_result",
          "data": {
            "text/plain": [
              "((array([2., 0., 2., 4., 5., 0., 3., 1., 2., 1.]),\n",
              "  array([0.79775281, 0.80205825, 0.80636368, 0.81066912, 0.81497456,\n",
              "         0.81927999, 0.82358543, 0.82789087, 0.8321963 , 0.83650174,\n",
              "         0.84080717]),\n",
              "  <a list of 10 Patch objects>),\n",
              " (array([4., 2., 0., 4., 2., 2., 4., 0., 1., 1.]),\n",
              "  array([0.77977528, 0.78565426, 0.79153323, 0.7974122 , 0.80329118,\n",
              "         0.80917015, 0.81504913, 0.8209281 , 0.82680707, 0.83268605,\n",
              "         0.83856502]),\n",
              "  <a list of 10 Patch objects>))"
            ]
          },
          "metadata": {
            "tags": []
          },
          "execution_count": 74
        },
        {
          "output_type": "display_data",
          "data": {
            "image/png": "[encoded data removed]",
            "text/plain": [
              "<Figure size 432x288 with 1 Axes>"
            ]
          },
          "metadata": {
            "tags": [],
            "needs_background": "light"
          }
        }
      ]
    },
    {
      "cell_type": "code",
      "metadata": {
        "colab_type": "code",
        "id": "YC8167FNl616",
        "colab": {}
      },
      "source": [
        "model_before = 0.8062830654506976"
      ],
      "execution_count": 0,
      "outputs": []
    },
    {
      "cell_type": "code",
      "metadata": {
        "colab_type": "code",
        "outputId": "a49ddbd1-347e-4033-aaac-cbeb85b9ece2",
        "id": "lDBErjkfl62D",
        "colab": {
          "base_uri": "https://localhost:8080/",
          "height": 0
        }
      },
      "source": [
        "np.mean(results_two) "
      ],
      "execution_count": 76,
      "outputs": [
        {
          "output_type": "execute_result",
          "data": {
            "text/plain": [
              "0.8182871466720412"
            ]
          },
          "metadata": {
            "tags": []
          },
          "execution_count": 76
        }
      ]
    },
    {
      "cell_type": "code",
      "metadata": {
        "colab_type": "code",
        "id": "GtLd8o5umehj",
        "colab": {}
      },
      "source": [
        "test['Embarked_S'] = (test['Embarked'] == 'S').astype(int)\n",
        "test['Embarked_C'] = (test['Embarked'] == 'C').astype(int)\n",
        "#test['Embarked_Q'] = (test['Embarked'] == 'Q').astype(int)\n",
        "\n",
        "test['Cabin_Null'] = test['Cabin'].isnull().astype(int)\n",
        "\n",
        "test['Name_with_Miss'] = test['Name'].str.contains('Miss').astype(int)\n",
        "test['Name_with_Mrs'] = test['Name'].str.contains('Mrs').astype(int)\n",
        "\n",
        "test['Name_with_Master'] = test['Name'].str.contains('Master').astype(int)\n",
        "test['Name_with_Col'] = test['Name'].str.contains('Col').astype(int)\n",
        "test['Name_with_Major'] = test['Name'].str.contains('Major').astype(int)\n",
        "test['Name_with_Mr'] = test['Name'].str.contains('Mr').astype(int)"
      ],
      "execution_count": 0,
      "outputs": []
    },
    {
      "cell_type": "code",
      "metadata": {
        "colab_type": "code",
        "id": "8a1DuxgImeht",
        "colab": {}
      },
      "source": [
        "# retraining the data to create a new sibmission\n",
        "\n",
        "model = LogisticRegression()\n",
        "model.fit(X, y)\n",
        "\n",
        "p = model.predict(test[variables].fillna(-1))"
      ],
      "execution_count": 0,
      "outputs": []
    },
    {
      "cell_type": "code",
      "metadata": {
        "colab_type": "code",
        "outputId": "40b57643-3936-4a70-9a10-64b1e89cb4ab",
        "id": "b2sBCE2tmehz",
        "colab": {
          "base_uri": "https://localhost:8080/",
          "height": 0
        }
      },
      "source": [
        "p"
      ],
      "execution_count": 79,
      "outputs": [
        {
          "output_type": "execute_result",
          "data": {
            "text/plain": [
              "array([0, 1, 0, 0, 1, 0, 1, 0, 1, 0, 0, 0, 1, 0, 1, 1, 0, 0, 1, 1, 0, 1,\n",
              "       1, 0, 1, 0, 1, 0, 0, 0, 0, 0, 1, 1, 0, 0, 1, 1, 0, 0, 0, 0, 0, 1,\n",
              "       1, 0, 0, 0, 1, 1, 0, 0, 1, 1, 0, 0, 0, 0, 0, 1, 0, 0, 0, 1, 1, 1,\n",
              "       1, 0, 1, 1, 1, 0, 1, 1, 1, 1, 0, 1, 0, 1, 1, 0, 0, 0, 0, 0, 1, 1,\n",
              "       1, 1, 1, 0, 1, 0, 0, 0, 1, 0, 1, 0, 1, 0, 0, 0, 1, 0, 0, 0, 0, 0,\n",
              "       0, 1, 1, 1, 1, 0, 0, 1, 1, 1, 1, 0, 1, 0, 0, 1, 0, 0, 0, 0, 0, 1,\n",
              "       1, 0, 0, 0, 0, 0, 1, 0, 0, 1, 0, 0, 0, 0, 1, 0, 0, 0, 1, 0, 0, 1,\n",
              "       0, 0, 1, 1, 0, 1, 1, 1, 1, 0, 0, 1, 0, 0, 1, 1, 0, 0, 0, 0, 0, 1,\n",
              "       1, 0, 1, 1, 0, 0, 1, 0, 1, 0, 1, 0, 0, 0, 0, 0, 1, 0, 1, 0, 1, 1,\n",
              "       0, 1, 1, 1, 1, 1, 0, 0, 1, 0, 1, 0, 0, 0, 0, 1, 0, 0, 1, 0, 1, 0,\n",
              "       1, 0, 1, 0, 1, 1, 0, 1, 0, 0, 0, 1, 0, 0, 0, 0, 0, 0, 1, 1, 1, 1,\n",
              "       0, 0, 1, 0, 1, 0, 1, 1, 1, 0, 0, 0, 0, 0, 0, 0, 1, 0, 0, 0, 1, 1,\n",
              "       0, 0, 0, 0, 1, 0, 1, 0, 1, 1, 0, 1, 0, 0, 0, 0, 1, 1, 1, 1, 1, 0,\n",
              "       0, 0, 0, 0, 0, 1, 0, 0, 0, 0, 1, 0, 0, 0, 0, 0, 0, 0, 1, 1, 0, 1,\n",
              "       0, 1, 0, 0, 0, 1, 1, 1, 0, 0, 0, 0, 0, 0, 0, 0, 1, 0, 1, 0, 0, 0,\n",
              "       1, 0, 0, 1, 0, 0, 0, 0, 0, 1, 0, 0, 0, 1, 1, 1, 0, 1, 0, 1, 1, 0,\n",
              "       0, 0, 0, 0, 1, 0, 0, 1, 0, 1, 1, 0, 1, 0, 0, 1, 1, 0, 0, 1, 0, 0,\n",
              "       1, 1, 0, 0, 0, 0, 0, 0, 1, 1, 0, 1, 0, 0, 0, 0, 0, 1, 1, 0, 0, 1,\n",
              "       0, 1, 0, 0, 1, 0, 1, 0, 0, 0, 0, 0, 1, 1, 1, 1, 1, 0, 1, 0, 0, 1])"
            ]
          },
          "metadata": {
            "tags": []
          },
          "execution_count": 79
        }
      ]
    },
    {
      "cell_type": "code",
      "metadata": {
        "colab_type": "code",
        "outputId": "3b66d4fe-914c-4c6e-f3de-5987d04eea4d",
        "id": "NQibJstUmeh5",
        "colab": {
          "base_uri": "https://localhost:8080/",
          "height": 0
        }
      },
      "source": [
        "# Create a file to send a Kaggle\n",
        "submission = pd.Series(p, index = test['PassengerId'], name = 'Survived')\n",
        "submission"
      ],
      "execution_count": 80,
      "outputs": [
        {
          "output_type": "execute_result",
          "data": {
            "text/plain": [
              "PassengerId\n",
              "892     0\n",
              "893     1\n",
              "894     0\n",
              "895     0\n",
              "896     1\n",
              "       ..\n",
              "1305    0\n",
              "1306    1\n",
              "1307    0\n",
              "1308    0\n",
              "1309    1\n",
              "Name: Survived, Length: 418, dtype: int64"
            ]
          },
          "metadata": {
            "tags": []
          },
          "execution_count": 80
        }
      ]
    },
    {
      "cell_type": "code",
      "metadata": {
        "colab_type": "code",
        "id": "rSiMcbxlmeh-",
        "colab": {}
      },
      "source": [
        "submission.to_csv('fourth_submission.csv', header=True)"
      ],
      "execution_count": 0,
      "outputs": []
    },
    {
      "cell_type": "code",
      "metadata": {
        "colab_type": "code",
        "outputId": "49757f72-3fac-4625-a4f0-fcd38dc67600",
        "id": "gkhtAbm6meiB",
        "colab": {
          "base_uri": "https://localhost:8080/",
          "height": 0
        }
      },
      "source": [
        "!head fourth_submission.csv"
      ],
      "execution_count": 82,
      "outputs": [
        {
          "output_type": "stream",
          "text": [
            "PassengerId,Survived\n",
            "892,0\n",
            "893,1\n",
            "894,0\n",
            "895,0\n",
            "896,1\n",
            "897,0\n",
            "898,1\n",
            "899,0\n",
            "900,1\n"
          ],
          "name": "stdout"
        }
      ]
    },
    {
      "cell_type": "markdown",
      "metadata": {
        "id": "VV_FJdHhnxiM",
        "colab_type": "text"
      },
      "source": [
        "The score was major then the baseline: 0.77990"
      ]
    }
  ]
}